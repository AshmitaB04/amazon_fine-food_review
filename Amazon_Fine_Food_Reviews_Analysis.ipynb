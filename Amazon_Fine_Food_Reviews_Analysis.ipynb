{
 "cells": [
  {
   "cell_type": "markdown",
   "metadata": {
    "id": "X-cp_kAxCAY2"
   },
   "source": [
    "# Amazon Fine Food Reviews Analysis\n",
    "\n",
    "\n",
    "Data Source: https://www.kaggle.com/snap/amazon-fine-food-reviews <br>\n",
    "\n",
    "\n",
    "The Amazon Fine Food Reviews dataset consists of reviews of fine foods from Amazon.<br>\n",
    "\n",
    "Number of reviews: 568,454<br>\n",
    "Number of users: 256,059<br>\n",
    "Number of products: 74,258<br>\n",
    "Timespan: Oct 1999 - Oct 2012<br>\n",
    "Number of Attributes/Columns in data: 10 \n",
    "\n",
    "Attribute Information:\n",
    "\n",
    "1. Id\n",
    "2. ProductId - unique identifier for the product\n",
    "3. UserId - unqiue identifier for the user\n",
    "4. ProfileName\n",
    "5. HelpfulnessNumerator - number of users who found the review helpful\n",
    "6. HelpfulnessDenominator - number of users who indicated whether they found the review helpful or not\n",
    "7. Score - rating between 1 and 5\n",
    "8. Time - timestamp for the review\n",
    "9. Summary - brief summary of the review\n",
    "10. Text - text of the review\n",
    "\n",
    "\n",
    "#### Objective:\n",
    "Given a review, determine whether the review is positive (Rating of 4 or 5) or negative (rating of 1 or 2).\n",
    "\n",
    "<br>\n",
    "[Q] How to determine if a review is positive or negative?<br>\n",
    "<br> \n",
    "[Ans] We could use the Score/Rating. A rating of 4 or 5 could be cosnidered a positive review. A review of 1 or 2 could be considered negative. A review of 3 is nuetral and ignored. This is an approximate and proxy way of determining the polarity (positivity/negativity) of a review.\n",
    "\n",
    "\n"
   ]
  },
  {
   "cell_type": "markdown",
   "metadata": {
    "id": "WHC_UQTuCAY4"
   },
   "source": [
    "## Loading the data\n",
    "\n",
    "The dataset is available in two forms\n",
    "1. Comma Separated fFile\n",
    "2. SQLite Database\n",
    "\n",
    "In order to load the data, We have used the SQLITE dataset as it easier to query the data and visualise the data efficiently.\n",
    "<br> \n",
    "\n",
    "Here as we only want to get the global sentiment of the recommendations (positive or negative), we will purposefully ignore all Scores equal to 3. If the score id above 3, then the recommendation wil be set to \"positive\". Otherwise, it will be set to \"negative\"."
   ]
  },
  {
   "cell_type": "code",
   "execution_count": 131,
   "metadata": {
    "colab": {
     "base_uri": "https://localhost:8080/"
    },
    "id": "PvDdRsHgCAY5",
    "outputId": "495e705b-4009-4415-9488-80a8d1bd3337"
   },
   "outputs": [],
   "source": [
    "%matplotlib inline\n",
    "import warnings\n",
    "warnings.filterwarnings(\"ignore\")\n",
    "\n",
    "#from google.colab import drive\n",
    "#drive.mount(\"/content/gdrive\")\n",
    "\n",
    "import sqlite3\n",
    "import pandas as pd\n",
    "import numpy as np\n",
    "import nltk\n",
    "import string\n",
    "import matplotlib.pyplot as plt\n",
    "import seaborn as sns\n",
    "from sklearn.feature_extraction.text import TfidfTransformer\n",
    "from sklearn.feature_extraction.text import TfidfVectorizer\n",
    "from sklearn.preprocessing import MaxAbsScaler\n",
    "from sklearn.model_selection import train_test_split\n",
    "from sklearn.metrics import roc_curve, auc\n",
    "from sklearn.naive_bayes import  MultinomialNB\n",
    "\n",
    "from sklearn.feature_extraction.text import CountVectorizer\n",
    "from sklearn.metrics import confusion_matrix\n",
    "from sklearn import metrics\n",
    "from sklearn.metrics import roc_curve, auc\n",
    "from nltk.stem.porter import PorterStemmer\n",
    "\n",
    "import re\n",
    "# Tutorial about Python regular expressions: https://pymotw.com/2/re/\n",
    "import string\n",
    "from nltk.corpus import stopwords\n",
    "from nltk.stem import PorterStemmer\n",
    "from nltk.stem.wordnet import WordNetLemmatizer\n",
    "#from gensim.models import Word2Vec\n",
    "#from gensim.models import KeyedVectors\n",
    "import pickle\n",
    "\n",
    "from tqdm import tqdm\n",
    "import os"
   ]
  },
  {
   "cell_type": "markdown",
   "metadata": {
    "id": "QOI7X2YgCAY_"
   },
   "source": [
    "# [1]. Reading Data"
   ]
  },
  {
   "cell_type": "code",
   "execution_count": 132,
   "metadata": {
    "colab": {
     "base_uri": "https://localhost:8080/",
     "height": 208
    },
    "id": "3iYH2p1ECAZA",
    "outputId": "7fd40ae9-f1d3-4750-c8f6-98802654ba52"
   },
   "outputs": [
    {
     "name": "stdout",
     "output_type": "stream",
     "text": [
      "Number of data points in our data (50000, 10)\n"
     ]
    },
    {
     "data": {
      "text/html": [
       "<div>\n",
       "<style scoped>\n",
       "    .dataframe tbody tr th:only-of-type {\n",
       "        vertical-align: middle;\n",
       "    }\n",
       "\n",
       "    .dataframe tbody tr th {\n",
       "        vertical-align: top;\n",
       "    }\n",
       "\n",
       "    .dataframe thead th {\n",
       "        text-align: right;\n",
       "    }\n",
       "</style>\n",
       "<table border=\"1\" class=\"dataframe\">\n",
       "  <thead>\n",
       "    <tr style=\"text-align: right;\">\n",
       "      <th></th>\n",
       "      <th>Id</th>\n",
       "      <th>ProductId</th>\n",
       "      <th>UserId</th>\n",
       "      <th>ProfileName</th>\n",
       "      <th>HelpfulnessNumerator</th>\n",
       "      <th>HelpfulnessDenominator</th>\n",
       "      <th>Score</th>\n",
       "      <th>Time</th>\n",
       "      <th>Summary</th>\n",
       "      <th>Text</th>\n",
       "    </tr>\n",
       "  </thead>\n",
       "  <tbody>\n",
       "    <tr>\n",
       "      <th>0</th>\n",
       "      <td>1</td>\n",
       "      <td>B001E4KFG0</td>\n",
       "      <td>A3SGXH7AUHU8GW</td>\n",
       "      <td>delmartian</td>\n",
       "      <td>1</td>\n",
       "      <td>1</td>\n",
       "      <td>1</td>\n",
       "      <td>1303862400</td>\n",
       "      <td>Good Quality Dog Food</td>\n",
       "      <td>I have bought several of the Vitality canned d...</td>\n",
       "    </tr>\n",
       "    <tr>\n",
       "      <th>1</th>\n",
       "      <td>2</td>\n",
       "      <td>B00813GRG4</td>\n",
       "      <td>A1D87F6ZCVE5NK</td>\n",
       "      <td>dll pa</td>\n",
       "      <td>0</td>\n",
       "      <td>0</td>\n",
       "      <td>0</td>\n",
       "      <td>1346976000</td>\n",
       "      <td>Not as Advertised</td>\n",
       "      <td>Product arrived labeled as Jumbo Salted Peanut...</td>\n",
       "    </tr>\n",
       "    <tr>\n",
       "      <th>2</th>\n",
       "      <td>3</td>\n",
       "      <td>B000LQOCH0</td>\n",
       "      <td>ABXLMWJIXXAIN</td>\n",
       "      <td>Natalia Corres \"Natalia Corres\"</td>\n",
       "      <td>1</td>\n",
       "      <td>1</td>\n",
       "      <td>1</td>\n",
       "      <td>1219017600</td>\n",
       "      <td>\"Delight\" says it all</td>\n",
       "      <td>This is a confection that has been around a fe...</td>\n",
       "    </tr>\n",
       "  </tbody>\n",
       "</table>\n",
       "</div>"
      ],
      "text/plain": [
       "   Id   ProductId          UserId                      ProfileName  \\\n",
       "0   1  B001E4KFG0  A3SGXH7AUHU8GW                       delmartian   \n",
       "1   2  B00813GRG4  A1D87F6ZCVE5NK                           dll pa   \n",
       "2   3  B000LQOCH0   ABXLMWJIXXAIN  Natalia Corres \"Natalia Corres\"   \n",
       "\n",
       "   HelpfulnessNumerator  HelpfulnessDenominator  Score        Time  \\\n",
       "0                     1                       1      1  1303862400   \n",
       "1                     0                       0      0  1346976000   \n",
       "2                     1                       1      1  1219017600   \n",
       "\n",
       "                 Summary                                               Text  \n",
       "0  Good Quality Dog Food  I have bought several of the Vitality canned d...  \n",
       "1      Not as Advertised  Product arrived labeled as Jumbo Salted Peanut...  \n",
       "2  \"Delight\" says it all  This is a confection that has been around a fe...  "
      ]
     },
     "execution_count": 132,
     "metadata": {},
     "output_type": "execute_result"
    }
   ],
   "source": [
    "\n",
    "# using the SQLite Table to read data.\n",
    "# con = sqlite3.connect('/content/gdrive/My Drive/Amazon Fine Food Reviews/database.sqlite') \n",
    "con = sqlite3.connect(\"database.sqlite\")\n",
    "filtered_data = pd.read_sql_query(\"\"\" SELECT * FROM Reviews WHERE Score != 3 LIMIT 50000\"\"\", con) \n",
    "\n",
    "# Give reviews with Score>3 a positive rating, and reviews with a score<3 a negative rating.\n",
    "def partition(x):\n",
    "    if x < 3:\n",
    "        return 0\n",
    "    return 1\n",
    "\n",
    "#changing reviews with score less than 3 to be negative and above 3 to be positive\n",
    "actualScore = filtered_data['Score']\n",
    "status = actualScore.map(partition) \n",
    "filtered_data['Score'] = status\n",
    "print(\"Number of data points in our data\", filtered_data.shape)\n",
    "filtered_data.head(3)"
   ]
  },
  {
   "cell_type": "code",
   "execution_count": 133,
   "metadata": {
    "id": "I1jf03kECAZF"
   },
   "outputs": [],
   "source": [
    "# Which Product ID has more helpful review clicks than not helpful clicks?\n",
    "display = pd.read_sql_query(\"\"\"\n",
    "SELECT UserId, ProductId, ProfileName, HelpfulnessNumerator, HelpfulnessDenominator, Time, Score, Text, COUNT(*)\n",
    "FROM Reviews\n",
    "WHERE HelpfulnessNumerator>HelpfulnessDenominator\n",
    "\"\"\", con)"
   ]
  },
  {
   "cell_type": "markdown",
   "metadata": {},
   "source": [
    "why did we not use groupby by productID in the above code?"
   ]
  },
  {
   "cell_type": "code",
   "execution_count": 134,
   "metadata": {
    "colab": {
     "base_uri": "https://localhost:8080/",
     "height": 96
    },
    "id": "Ja8xSefOCAZH",
    "outputId": "db327fa4-83d0-4336-9196-560ee1b8a50b"
   },
   "outputs": [
    {
     "name": "stdout",
     "output_type": "stream",
     "text": [
      "(1, 9)\n"
     ]
    },
    {
     "data": {
      "text/html": [
       "<div>\n",
       "<style scoped>\n",
       "    .dataframe tbody tr th:only-of-type {\n",
       "        vertical-align: middle;\n",
       "    }\n",
       "\n",
       "    .dataframe tbody tr th {\n",
       "        vertical-align: top;\n",
       "    }\n",
       "\n",
       "    .dataframe thead th {\n",
       "        text-align: right;\n",
       "    }\n",
       "</style>\n",
       "<table border=\"1\" class=\"dataframe\">\n",
       "  <thead>\n",
       "    <tr style=\"text-align: right;\">\n",
       "      <th></th>\n",
       "      <th>UserId</th>\n",
       "      <th>ProductId</th>\n",
       "      <th>ProfileName</th>\n",
       "      <th>HelpfulnessNumerator</th>\n",
       "      <th>HelpfulnessDenominator</th>\n",
       "      <th>Time</th>\n",
       "      <th>Score</th>\n",
       "      <th>Text</th>\n",
       "      <th>COUNT(*)</th>\n",
       "    </tr>\n",
       "  </thead>\n",
       "  <tbody>\n",
       "    <tr>\n",
       "      <th>0</th>\n",
       "      <td>A2V0I904FH7ABY</td>\n",
       "      <td>B001EQ55RW</td>\n",
       "      <td>Ram</td>\n",
       "      <td>3</td>\n",
       "      <td>2</td>\n",
       "      <td>1212883200</td>\n",
       "      <td>4</td>\n",
       "      <td>It was almost a 'love at first bite' - the per...</td>\n",
       "      <td>2</td>\n",
       "    </tr>\n",
       "  </tbody>\n",
       "</table>\n",
       "</div>"
      ],
      "text/plain": [
       "           UserId   ProductId ProfileName  HelpfulnessNumerator  \\\n",
       "0  A2V0I904FH7ABY  B001EQ55RW         Ram                     3   \n",
       "\n",
       "   HelpfulnessDenominator        Time  Score  \\\n",
       "0                       2  1212883200      4   \n",
       "\n",
       "                                                Text  COUNT(*)  \n",
       "0  It was almost a 'love at first bite' - the per...         2  "
      ]
     },
     "execution_count": 134,
     "metadata": {},
     "output_type": "execute_result"
    }
   ],
   "source": [
    "print(display.shape)\n",
    "display"
   ]
  },
  {
   "cell_type": "code",
   "execution_count": 5,
   "metadata": {
    "id": "uglb8ONOdrRE"
   },
   "outputs": [],
   "source": [
    "# How many users have written multiple reviews?\n",
    "display2 = pd.read_sql_query(\"\"\"\n",
    "SELECT UserId, ProductId, ProfileName, Time, Score, Text, COUNT(*)\n",
    "FROM Reviews\n",
    "GROUP BY UserId\n",
    "HAVING COUNT(*)>1\n",
    "\"\"\", con)"
   ]
  },
  {
   "cell_type": "code",
   "execution_count": 6,
   "metadata": {
    "colab": {
     "base_uri": "https://localhost:8080/",
     "height": 429
    },
    "id": "TEFsF0Waeouy",
    "outputId": "94ecc688-09c6-407c-d04b-7c06c8854279"
   },
   "outputs": [
    {
     "name": "stdout",
     "output_type": "stream",
     "text": [
      "(80668, 7)\n"
     ]
    },
    {
     "data": {
      "text/html": [
       "<div>\n",
       "<style scoped>\n",
       "    .dataframe tbody tr th:only-of-type {\n",
       "        vertical-align: middle;\n",
       "    }\n",
       "\n",
       "    .dataframe tbody tr th {\n",
       "        vertical-align: top;\n",
       "    }\n",
       "\n",
       "    .dataframe thead th {\n",
       "        text-align: right;\n",
       "    }\n",
       "</style>\n",
       "<table border=\"1\" class=\"dataframe\">\n",
       "  <thead>\n",
       "    <tr style=\"text-align: right;\">\n",
       "      <th></th>\n",
       "      <th>UserId</th>\n",
       "      <th>ProductId</th>\n",
       "      <th>ProfileName</th>\n",
       "      <th>Time</th>\n",
       "      <th>Score</th>\n",
       "      <th>Text</th>\n",
       "      <th>COUNT(*)</th>\n",
       "    </tr>\n",
       "  </thead>\n",
       "  <tbody>\n",
       "    <tr>\n",
       "      <th>0</th>\n",
       "      <td>#oc-R115TNMSPFT9I7</td>\n",
       "      <td>B005ZBZLT4</td>\n",
       "      <td>Breyton</td>\n",
       "      <td>1331510400</td>\n",
       "      <td>2</td>\n",
       "      <td>Overall its just OK when considering the price...</td>\n",
       "      <td>2</td>\n",
       "    </tr>\n",
       "    <tr>\n",
       "      <th>1</th>\n",
       "      <td>#oc-R11D9D7SHXIJB9</td>\n",
       "      <td>B005HG9ESG</td>\n",
       "      <td>Louis E. Emory \"hoppy\"</td>\n",
       "      <td>1342396800</td>\n",
       "      <td>5</td>\n",
       "      <td>My wife has recurring extreme muscle spasms, u...</td>\n",
       "      <td>3</td>\n",
       "    </tr>\n",
       "    <tr>\n",
       "      <th>2</th>\n",
       "      <td>#oc-R11DNU2NBKQ23Z</td>\n",
       "      <td>B005ZBZLT4</td>\n",
       "      <td>Kim Cieszykowski</td>\n",
       "      <td>1348531200</td>\n",
       "      <td>1</td>\n",
       "      <td>This coffee is horrible and unfortunately not ...</td>\n",
       "      <td>2</td>\n",
       "    </tr>\n",
       "    <tr>\n",
       "      <th>3</th>\n",
       "      <td>#oc-R11O5J5ZVQE25C</td>\n",
       "      <td>B005HG9ESG</td>\n",
       "      <td>Penguin Chick</td>\n",
       "      <td>1346889600</td>\n",
       "      <td>5</td>\n",
       "      <td>This will be the bottle that you grab from the...</td>\n",
       "      <td>3</td>\n",
       "    </tr>\n",
       "    <tr>\n",
       "      <th>4</th>\n",
       "      <td>#oc-R12KPBODL2B5ZD</td>\n",
       "      <td>B007OSBEV0</td>\n",
       "      <td>Christopher P. Presta</td>\n",
       "      <td>1348617600</td>\n",
       "      <td>1</td>\n",
       "      <td>I didnt like this coffee. Instead of telling y...</td>\n",
       "      <td>2</td>\n",
       "    </tr>\n",
       "    <tr>\n",
       "      <th>...</th>\n",
       "      <td>...</td>\n",
       "      <td>...</td>\n",
       "      <td>...</td>\n",
       "      <td>...</td>\n",
       "      <td>...</td>\n",
       "      <td>...</td>\n",
       "      <td>...</td>\n",
       "    </tr>\n",
       "    <tr>\n",
       "      <th>80663</th>\n",
       "      <td>AZZNK89PXD006</td>\n",
       "      <td>B001J3ZUQ6</td>\n",
       "      <td>Etude</td>\n",
       "      <td>1269648000</td>\n",
       "      <td>5</td>\n",
       "      <td>In this package you get three varieties of pop...</td>\n",
       "      <td>6</td>\n",
       "    </tr>\n",
       "    <tr>\n",
       "      <th>80664</th>\n",
       "      <td>AZZTH6DJ0KSIP</td>\n",
       "      <td>B00014IVPQ</td>\n",
       "      <td>Crystal Caccamo</td>\n",
       "      <td>1304208000</td>\n",
       "      <td>5</td>\n",
       "      <td>ive bought a few different kinds and i feel th...</td>\n",
       "      <td>3</td>\n",
       "    </tr>\n",
       "    <tr>\n",
       "      <th>80665</th>\n",
       "      <td>AZZU1VEO8KUXH</td>\n",
       "      <td>B003FDC2I2</td>\n",
       "      <td>Mia P \"Mia P\"</td>\n",
       "      <td>1317513600</td>\n",
       "      <td>5</td>\n",
       "      <td>I bought this for my 13 year old daughter who ...</td>\n",
       "      <td>3</td>\n",
       "    </tr>\n",
       "    <tr>\n",
       "      <th>80666</th>\n",
       "      <td>AZZU4D6TZ2L6J</td>\n",
       "      <td>B0029XITW2</td>\n",
       "      <td>Sherry King \"llamasmama\"</td>\n",
       "      <td>1247875200</td>\n",
       "      <td>5</td>\n",
       "      <td>My father thought this was the best cheese eve...</td>\n",
       "      <td>2</td>\n",
       "    </tr>\n",
       "    <tr>\n",
       "      <th>80667</th>\n",
       "      <td>AZZV9PDNMCOZW</td>\n",
       "      <td>B001E5E2QI</td>\n",
       "      <td>Anne B. Ward \"Dr Anne B\"</td>\n",
       "      <td>1310428800</td>\n",
       "      <td>5</td>\n",
       "      <td>I love this syrup. It is my personal substitut...</td>\n",
       "      <td>3</td>\n",
       "    </tr>\n",
       "  </tbody>\n",
       "</table>\n",
       "<p>80668 rows × 7 columns</p>\n",
       "</div>"
      ],
      "text/plain": [
       "                   UserId   ProductId               ProfileName        Time  \\\n",
       "0      #oc-R115TNMSPFT9I7  B005ZBZLT4                   Breyton  1331510400   \n",
       "1      #oc-R11D9D7SHXIJB9  B005HG9ESG    Louis E. Emory \"hoppy\"  1342396800   \n",
       "2      #oc-R11DNU2NBKQ23Z  B005ZBZLT4          Kim Cieszykowski  1348531200   \n",
       "3      #oc-R11O5J5ZVQE25C  B005HG9ESG             Penguin Chick  1346889600   \n",
       "4      #oc-R12KPBODL2B5ZD  B007OSBEV0     Christopher P. Presta  1348617600   \n",
       "...                   ...         ...                       ...         ...   \n",
       "80663       AZZNK89PXD006  B001J3ZUQ6                     Etude  1269648000   \n",
       "80664       AZZTH6DJ0KSIP  B00014IVPQ           Crystal Caccamo  1304208000   \n",
       "80665       AZZU1VEO8KUXH  B003FDC2I2             Mia P \"Mia P\"  1317513600   \n",
       "80666       AZZU4D6TZ2L6J  B0029XITW2  Sherry King \"llamasmama\"  1247875200   \n",
       "80667       AZZV9PDNMCOZW  B001E5E2QI  Anne B. Ward \"Dr Anne B\"  1310428800   \n",
       "\n",
       "       Score                                               Text  COUNT(*)  \n",
       "0          2  Overall its just OK when considering the price...         2  \n",
       "1          5  My wife has recurring extreme muscle spasms, u...         3  \n",
       "2          1  This coffee is horrible and unfortunately not ...         2  \n",
       "3          5  This will be the bottle that you grab from the...         3  \n",
       "4          1  I didnt like this coffee. Instead of telling y...         2  \n",
       "...      ...                                                ...       ...  \n",
       "80663      5  In this package you get three varieties of pop...         6  \n",
       "80664      5  ive bought a few different kinds and i feel th...         3  \n",
       "80665      5  I bought this for my 13 year old daughter who ...         3  \n",
       "80666      5  My father thought this was the best cheese eve...         2  \n",
       "80667      5  I love this syrup. It is my personal substitut...         3  \n",
       "\n",
       "[80668 rows x 7 columns]"
      ]
     },
     "execution_count": 6,
     "metadata": {},
     "output_type": "execute_result"
    }
   ],
   "source": [
    "print(display2.shape)\n",
    "display2"
   ]
  },
  {
   "cell_type": "code",
   "execution_count": 7,
   "metadata": {
    "id": "cP1GnYsqewZ9"
   },
   "outputs": [],
   "source": [
    "# How many products have multiple reviews with a perfect score (Rating of 5)?\n",
    "display3 = pd.read_sql_query(\"\"\"\n",
    "SELECT UserId, ProductId, ProfileName, Time, Score, Text, COUNT(*)\n",
    "FROM Reviews\n",
    "GROUP BY ProductId\n",
    "HAVING COUNT(*)>150 AND Score=5\n",
    "\"\"\", con)"
   ]
  },
  {
   "cell_type": "code",
   "execution_count": 9,
   "metadata": {
    "colab": {
     "base_uri": "https://localhost:8080/",
     "height": 429
    },
    "id": "fNmdHCE0e_sR",
    "outputId": "e1afeef9-d093-4c83-d9aa-96e9159a9242"
   },
   "outputs": [
    {
     "name": "stdout",
     "output_type": "stream",
     "text": [
      "(296, 7)\n"
     ]
    },
    {
     "data": {
      "text/html": [
       "<div>\n",
       "<style scoped>\n",
       "    .dataframe tbody tr th:only-of-type {\n",
       "        vertical-align: middle;\n",
       "    }\n",
       "\n",
       "    .dataframe tbody tr th {\n",
       "        vertical-align: top;\n",
       "    }\n",
       "\n",
       "    .dataframe thead th {\n",
       "        text-align: right;\n",
       "    }\n",
       "</style>\n",
       "<table border=\"1\" class=\"dataframe\">\n",
       "  <thead>\n",
       "    <tr style=\"text-align: right;\">\n",
       "      <th></th>\n",
       "      <th>UserId</th>\n",
       "      <th>ProductId</th>\n",
       "      <th>ProfileName</th>\n",
       "      <th>Time</th>\n",
       "      <th>Score</th>\n",
       "      <th>Text</th>\n",
       "      <th>COUNT(*)</th>\n",
       "    </tr>\n",
       "  </thead>\n",
       "  <tbody>\n",
       "    <tr>\n",
       "      <th>0</th>\n",
       "      <td>ADODIH2V6UBQ9</td>\n",
       "      <td>7310172001</td>\n",
       "      <td>R. Miller</td>\n",
       "      <td>1315008000</td>\n",
       "      <td>5</td>\n",
       "      <td>By far this treat is the best one that I have ...</td>\n",
       "      <td>173</td>\n",
       "    </tr>\n",
       "    <tr>\n",
       "      <th>1</th>\n",
       "      <td>ADODIH2V6UBQ9</td>\n",
       "      <td>7310172101</td>\n",
       "      <td>R. Miller</td>\n",
       "      <td>1315008000</td>\n",
       "      <td>5</td>\n",
       "      <td>By far this treat is the best one that I have ...</td>\n",
       "      <td>173</td>\n",
       "    </tr>\n",
       "    <tr>\n",
       "      <th>2</th>\n",
       "      <td>A3KV0NO0TQTW3Y</td>\n",
       "      <td>B00004CI84</td>\n",
       "      <td>Tina</td>\n",
       "      <td>1349654400</td>\n",
       "      <td>5</td>\n",
       "      <td>I've always loved Beetlejuice and it's no surp...</td>\n",
       "      <td>189</td>\n",
       "    </tr>\n",
       "    <tr>\n",
       "      <th>3</th>\n",
       "      <td>A3KV0NO0TQTW3Y</td>\n",
       "      <td>B00004CXX9</td>\n",
       "      <td>Tina</td>\n",
       "      <td>1349654400</td>\n",
       "      <td>5</td>\n",
       "      <td>I've always loved Beetlejuice and it's no surp...</td>\n",
       "      <td>195</td>\n",
       "    </tr>\n",
       "    <tr>\n",
       "      <th>4</th>\n",
       "      <td>A3KV0NO0TQTW3Y</td>\n",
       "      <td>B00004RYGX</td>\n",
       "      <td>Tina</td>\n",
       "      <td>1349654400</td>\n",
       "      <td>5</td>\n",
       "      <td>I've always loved Beetlejuice and it's no surp...</td>\n",
       "      <td>189</td>\n",
       "    </tr>\n",
       "    <tr>\n",
       "      <th>...</th>\n",
       "      <td>...</td>\n",
       "      <td>...</td>\n",
       "      <td>...</td>\n",
       "      <td>...</td>\n",
       "      <td>...</td>\n",
       "      <td>...</td>\n",
       "      <td>...</td>\n",
       "    </tr>\n",
       "    <tr>\n",
       "      <th>291</th>\n",
       "      <td>A328X3XDGFFYIQ</td>\n",
       "      <td>B008ZRKZSM</td>\n",
       "      <td>Bryan K. Porter</td>\n",
       "      <td>1345334400</td>\n",
       "      <td>5</td>\n",
       "      <td>Being that I am on a diet, ( As of Aug 19,2010...</td>\n",
       "      <td>310</td>\n",
       "    </tr>\n",
       "    <tr>\n",
       "      <th>292</th>\n",
       "      <td>A21VJBEVD3I967</td>\n",
       "      <td>B00954NY46</td>\n",
       "      <td>UAJPD</td>\n",
       "      <td>1329696000</td>\n",
       "      <td>5</td>\n",
       "      <td>Very good Bold coffee.  Definitely not for the...</td>\n",
       "      <td>178</td>\n",
       "    </tr>\n",
       "    <tr>\n",
       "      <th>293</th>\n",
       "      <td>A21VJBEVD3I967</td>\n",
       "      <td>B00954NYVY</td>\n",
       "      <td>UAJPD</td>\n",
       "      <td>1329696000</td>\n",
       "      <td>5</td>\n",
       "      <td>Very good Bold coffee.  Definitely not for the...</td>\n",
       "      <td>178</td>\n",
       "    </tr>\n",
       "    <tr>\n",
       "      <th>294</th>\n",
       "      <td>A22JFOTL40MXIO</td>\n",
       "      <td>B0098WV8F2</td>\n",
       "      <td>Maynarddawl</td>\n",
       "      <td>1346889600</td>\n",
       "      <td>5</td>\n",
       "      <td>Loved this product! For us who love peanut but...</td>\n",
       "      <td>215</td>\n",
       "    </tr>\n",
       "    <tr>\n",
       "      <th>295</th>\n",
       "      <td>A1V9ZBZEZZGV65</td>\n",
       "      <td>B009E7YC54</td>\n",
       "      <td>City Mouse</td>\n",
       "      <td>1346457600</td>\n",
       "      <td>5</td>\n",
       "      <td>I was excited to try PB2 after reading so many...</td>\n",
       "      <td>238</td>\n",
       "    </tr>\n",
       "  </tbody>\n",
       "</table>\n",
       "<p>296 rows × 7 columns</p>\n",
       "</div>"
      ],
      "text/plain": [
       "             UserId  ... COUNT(*)\n",
       "0     ADODIH2V6UBQ9  ...      173\n",
       "1     ADODIH2V6UBQ9  ...      173\n",
       "2    A3KV0NO0TQTW3Y  ...      189\n",
       "3    A3KV0NO0TQTW3Y  ...      195\n",
       "4    A3KV0NO0TQTW3Y  ...      189\n",
       "..              ...  ...      ...\n",
       "291  A328X3XDGFFYIQ  ...      310\n",
       "292  A21VJBEVD3I967  ...      178\n",
       "293  A21VJBEVD3I967  ...      178\n",
       "294  A22JFOTL40MXIO  ...      215\n",
       "295  A1V9ZBZEZZGV65  ...      238\n",
       "\n",
       "[296 rows x 7 columns]"
      ]
     },
     "execution_count": 9,
     "metadata": {
      "tags": []
     },
     "output_type": "execute_result"
    }
   ],
   "source": [
    "print(display3.shape)\n",
    "display3"
   ]
  },
  {
   "cell_type": "code",
   "execution_count": 10,
   "metadata": {
    "id": "rU5mCSoZfIK6"
   },
   "outputs": [],
   "source": [
    "# How many positive reviews are present in the dataset?\n",
    "display4 = pd.read_sql_query(\"\"\"\n",
    "SELECT UserId, ProductId, ProfileName, Time, Score, Text, COUNT(*)\n",
    "FROM Reviews\n",
    "GROUP BY ProductId\n",
    "HAVING Score>3\n",
    "\"\"\", con)"
   ]
  },
  {
   "cell_type": "code",
   "execution_count": 11,
   "metadata": {
    "colab": {
     "base_uri": "https://localhost:8080/",
     "height": 429
    },
    "id": "4jNLf8_KfM1U",
    "outputId": "89f05a45-db88-4991-e221-2780a1d84340"
   },
   "outputs": [
    {
     "name": "stdout",
     "output_type": "stream",
     "text": [
      "(51045, 7)\n"
     ]
    },
    {
     "data": {
      "text/html": [
       "<div>\n",
       "<style scoped>\n",
       "    .dataframe tbody tr th:only-of-type {\n",
       "        vertical-align: middle;\n",
       "    }\n",
       "\n",
       "    .dataframe tbody tr th {\n",
       "        vertical-align: top;\n",
       "    }\n",
       "\n",
       "    .dataframe thead th {\n",
       "        text-align: right;\n",
       "    }\n",
       "</style>\n",
       "<table border=\"1\" class=\"dataframe\">\n",
       "  <thead>\n",
       "    <tr style=\"text-align: right;\">\n",
       "      <th></th>\n",
       "      <th>UserId</th>\n",
       "      <th>ProductId</th>\n",
       "      <th>ProfileName</th>\n",
       "      <th>Time</th>\n",
       "      <th>Score</th>\n",
       "      <th>Text</th>\n",
       "      <th>COUNT(*)</th>\n",
       "    </tr>\n",
       "  </thead>\n",
       "  <tbody>\n",
       "    <tr>\n",
       "      <th>0</th>\n",
       "      <td>A25ACLV5KPB4W</td>\n",
       "      <td>0006641040</td>\n",
       "      <td>Matt Hetling \"Matt\"</td>\n",
       "      <td>1108425600</td>\n",
       "      <td>4</td>\n",
       "      <td>In June&lt;br /&gt;I saw a charming group&lt;br /&gt;of ro...</td>\n",
       "      <td>37</td>\n",
       "    </tr>\n",
       "    <tr>\n",
       "      <th>1</th>\n",
       "      <td>AB1A5EGHHVA9M</td>\n",
       "      <td>141278509X</td>\n",
       "      <td>CHelmic</td>\n",
       "      <td>1332547200</td>\n",
       "      <td>5</td>\n",
       "      <td>This product by Archer Farms is the best drink...</td>\n",
       "      <td>1</td>\n",
       "    </tr>\n",
       "    <tr>\n",
       "      <th>2</th>\n",
       "      <td>A1C298ITT645B6</td>\n",
       "      <td>2734888454</td>\n",
       "      <td>Hugh G. Pritchard</td>\n",
       "      <td>1195948800</td>\n",
       "      <td>5</td>\n",
       "      <td>Our dogs just love them.  I saw them in a pet ...</td>\n",
       "      <td>2</td>\n",
       "    </tr>\n",
       "    <tr>\n",
       "      <th>3</th>\n",
       "      <td>A3QD68O22M2XHQ</td>\n",
       "      <td>2841233731</td>\n",
       "      <td>LABRNTH</td>\n",
       "      <td>1345852800</td>\n",
       "      <td>5</td>\n",
       "      <td>This book is easy to read and the ingredients ...</td>\n",
       "      <td>1</td>\n",
       "    </tr>\n",
       "    <tr>\n",
       "      <th>4</th>\n",
       "      <td>ADODIH2V6UBQ9</td>\n",
       "      <td>7310172001</td>\n",
       "      <td>R. Miller</td>\n",
       "      <td>1315008000</td>\n",
       "      <td>5</td>\n",
       "      <td>By far this treat is the best one that I have ...</td>\n",
       "      <td>173</td>\n",
       "    </tr>\n",
       "    <tr>\n",
       "      <th>...</th>\n",
       "      <td>...</td>\n",
       "      <td>...</td>\n",
       "      <td>...</td>\n",
       "      <td>...</td>\n",
       "      <td>...</td>\n",
       "      <td>...</td>\n",
       "      <td>...</td>\n",
       "    </tr>\n",
       "    <tr>\n",
       "      <th>51040</th>\n",
       "      <td>A35K4XT7T1ZIFU</td>\n",
       "      <td>B009SMKESO</td>\n",
       "      <td>Inez Rivera</td>\n",
       "      <td>1304985600</td>\n",
       "      <td>4</td>\n",
       "      <td>This review is for the boneless ham. A little ...</td>\n",
       "      <td>1</td>\n",
       "    </tr>\n",
       "    <tr>\n",
       "      <th>51041</th>\n",
       "      <td>A32A6X5KCP7ARG</td>\n",
       "      <td>B009SR4OQ2</td>\n",
       "      <td>sicamar</td>\n",
       "      <td>1350604800</td>\n",
       "      <td>5</td>\n",
       "      <td>I bought this Hazelnut Paste (Nocciola Spread)...</td>\n",
       "      <td>1</td>\n",
       "    </tr>\n",
       "    <tr>\n",
       "      <th>51042</th>\n",
       "      <td>ARL20DSHGVM1Y</td>\n",
       "      <td>B009UUS05I</td>\n",
       "      <td>Jamie</td>\n",
       "      <td>1331856000</td>\n",
       "      <td>5</td>\n",
       "      <td>The basket was the perfect sympathy gift when ...</td>\n",
       "      <td>1</td>\n",
       "    </tr>\n",
       "    <tr>\n",
       "      <th>51043</th>\n",
       "      <td>AMP7K1O84DH1T</td>\n",
       "      <td>B009WSNWC4</td>\n",
       "      <td>ESTY</td>\n",
       "      <td>1351209600</td>\n",
       "      <td>5</td>\n",
       "      <td>Purchased this product at a local store in NY ...</td>\n",
       "      <td>1</td>\n",
       "    </tr>\n",
       "    <tr>\n",
       "      <th>51044</th>\n",
       "      <td>A3ME78KVX31T21</td>\n",
       "      <td>B009WVB40S</td>\n",
       "      <td>K'la</td>\n",
       "      <td>1351123200</td>\n",
       "      <td>5</td>\n",
       "      <td>I purchased this to send to my son who's away ...</td>\n",
       "      <td>1</td>\n",
       "    </tr>\n",
       "  </tbody>\n",
       "</table>\n",
       "<p>51045 rows × 7 columns</p>\n",
       "</div>"
      ],
      "text/plain": [
       "               UserId  ... COUNT(*)\n",
       "0       A25ACLV5KPB4W  ...       37\n",
       "1       AB1A5EGHHVA9M  ...        1\n",
       "2      A1C298ITT645B6  ...        2\n",
       "3      A3QD68O22M2XHQ  ...        1\n",
       "4       ADODIH2V6UBQ9  ...      173\n",
       "...               ...  ...      ...\n",
       "51040  A35K4XT7T1ZIFU  ...        1\n",
       "51041  A32A6X5KCP7ARG  ...        1\n",
       "51042   ARL20DSHGVM1Y  ...        1\n",
       "51043   AMP7K1O84DH1T  ...        1\n",
       "51044  A3ME78KVX31T21  ...        1\n",
       "\n",
       "[51045 rows x 7 columns]"
      ]
     },
     "execution_count": 11,
     "metadata": {
      "tags": []
     },
     "output_type": "execute_result"
    }
   ],
   "source": [
    "print(display4.shape)\n",
    "display4"
   ]
  },
  {
   "cell_type": "code",
   "execution_count": 12,
   "metadata": {
    "id": "aoYhYzVkf1fM"
   },
   "outputs": [],
   "source": [
    "display5 = pd.read_sql_query(\"\"\"\n",
    "SELECT UserId, ProductId, ProfileName, Time, Score, Text, COUNT(*)\n",
    "FROM Reviews\n",
    "GROUP BY UserId\n",
    "HAVING Count(*)>2 AND Score>3\n",
    "\"\"\", con)"
   ]
  },
  {
   "cell_type": "code",
   "execution_count": 13,
   "metadata": {
    "colab": {
     "base_uri": "https://localhost:8080/",
     "height": 429
    },
    "id": "xc-Ui9Btf8z-",
    "outputId": "7c790fdd-99c1-4a1f-8106-aa31a7ebbc8c"
   },
   "outputs": [
    {
     "name": "stdout",
     "output_type": "stream",
     "text": [
      "(37702, 7)\n"
     ]
    },
    {
     "data": {
      "text/html": [
       "<div>\n",
       "<style scoped>\n",
       "    .dataframe tbody tr th:only-of-type {\n",
       "        vertical-align: middle;\n",
       "    }\n",
       "\n",
       "    .dataframe tbody tr th {\n",
       "        vertical-align: top;\n",
       "    }\n",
       "\n",
       "    .dataframe thead th {\n",
       "        text-align: right;\n",
       "    }\n",
       "</style>\n",
       "<table border=\"1\" class=\"dataframe\">\n",
       "  <thead>\n",
       "    <tr style=\"text-align: right;\">\n",
       "      <th></th>\n",
       "      <th>UserId</th>\n",
       "      <th>ProductId</th>\n",
       "      <th>ProfileName</th>\n",
       "      <th>Time</th>\n",
       "      <th>Score</th>\n",
       "      <th>Text</th>\n",
       "      <th>COUNT(*)</th>\n",
       "    </tr>\n",
       "  </thead>\n",
       "  <tbody>\n",
       "    <tr>\n",
       "      <th>0</th>\n",
       "      <td>#oc-R11D9D7SHXIJB9</td>\n",
       "      <td>B005HG9ET0</td>\n",
       "      <td>Louis E. Emory \"hoppy\"</td>\n",
       "      <td>1342396800</td>\n",
       "      <td>5</td>\n",
       "      <td>My wife has recurring extreme muscle spasms, u...</td>\n",
       "      <td>3</td>\n",
       "    </tr>\n",
       "    <tr>\n",
       "      <th>1</th>\n",
       "      <td>#oc-R11O5J5ZVQE25C</td>\n",
       "      <td>B005HG9ET0</td>\n",
       "      <td>Penguin Chick</td>\n",
       "      <td>1346889600</td>\n",
       "      <td>5</td>\n",
       "      <td>This will be the bottle that you grab from the...</td>\n",
       "      <td>3</td>\n",
       "    </tr>\n",
       "    <tr>\n",
       "      <th>2</th>\n",
       "      <td>#oc-R12MGTQS5KZZRV</td>\n",
       "      <td>B005HG9ET0</td>\n",
       "      <td>SKY2110 \"SKY2110\"</td>\n",
       "      <td>1344211200</td>\n",
       "      <td>5</td>\n",
       "      <td>This is the highest PH level I can find withou...</td>\n",
       "      <td>3</td>\n",
       "    </tr>\n",
       "    <tr>\n",
       "      <th>3</th>\n",
       "      <td>#oc-R14ZSRYW2YB41B</td>\n",
       "      <td>B005HG9ET0</td>\n",
       "      <td>A. Crafton</td>\n",
       "      <td>1346284800</td>\n",
       "      <td>5</td>\n",
       "      <td>I drank this on ice after a workout. It was ve...</td>\n",
       "      <td>3</td>\n",
       "    </tr>\n",
       "    <tr>\n",
       "      <th>4</th>\n",
       "      <td>#oc-R155JB2SA58E17</td>\n",
       "      <td>B005HG9ET0</td>\n",
       "      <td>Seanna</td>\n",
       "      <td>1347235200</td>\n",
       "      <td>5</td>\n",
       "      <td>If you love bottled water, and are looking for...</td>\n",
       "      <td>3</td>\n",
       "    </tr>\n",
       "    <tr>\n",
       "      <th>...</th>\n",
       "      <td>...</td>\n",
       "      <td>...</td>\n",
       "      <td>...</td>\n",
       "      <td>...</td>\n",
       "      <td>...</td>\n",
       "      <td>...</td>\n",
       "      <td>...</td>\n",
       "    </tr>\n",
       "    <tr>\n",
       "      <th>37697</th>\n",
       "      <td>AZZJDUEFXYXBM</td>\n",
       "      <td>B000ER5D9W</td>\n",
       "      <td>J. Lewis</td>\n",
       "      <td>1284163200</td>\n",
       "      <td>4</td>\n",
       "      <td>My 6.5 month son enjoyed this flavor and it he...</td>\n",
       "      <td>4</td>\n",
       "    </tr>\n",
       "    <tr>\n",
       "      <th>37698</th>\n",
       "      <td>AZZNK89PXD006</td>\n",
       "      <td>B0039GMZZK</td>\n",
       "      <td>Etude</td>\n",
       "      <td>1269648000</td>\n",
       "      <td>5</td>\n",
       "      <td>Regular Chocolate Pocky is good on its own but...</td>\n",
       "      <td>6</td>\n",
       "    </tr>\n",
       "    <tr>\n",
       "      <th>37699</th>\n",
       "      <td>AZZTH6DJ0KSIP</td>\n",
       "      <td>B003Z4F56C</td>\n",
       "      <td>Crystal Caccamo</td>\n",
       "      <td>1337558400</td>\n",
       "      <td>5</td>\n",
       "      <td>i eat paleo so noodles are not allowed. i trie...</td>\n",
       "      <td>3</td>\n",
       "    </tr>\n",
       "    <tr>\n",
       "      <th>37700</th>\n",
       "      <td>AZZU1VEO8KUXH</td>\n",
       "      <td>B003FDG4K4</td>\n",
       "      <td>Mia P \"Mia P\"</td>\n",
       "      <td>1317513600</td>\n",
       "      <td>5</td>\n",
       "      <td>I bought this for my 13 year old daughter who ...</td>\n",
       "      <td>3</td>\n",
       "    </tr>\n",
       "    <tr>\n",
       "      <th>37701</th>\n",
       "      <td>AZZV9PDNMCOZW</td>\n",
       "      <td>B003SNX4YA</td>\n",
       "      <td>Anne B. Ward \"Dr Anne B\"</td>\n",
       "      <td>1329436800</td>\n",
       "      <td>4</td>\n",
       "      <td>Even though this mix is not as spicy as I anti...</td>\n",
       "      <td>3</td>\n",
       "    </tr>\n",
       "  </tbody>\n",
       "</table>\n",
       "<p>37702 rows × 7 columns</p>\n",
       "</div>"
      ],
      "text/plain": [
       "                   UserId  ... COUNT(*)\n",
       "0      #oc-R11D9D7SHXIJB9  ...        3\n",
       "1      #oc-R11O5J5ZVQE25C  ...        3\n",
       "2      #oc-R12MGTQS5KZZRV  ...        3\n",
       "3      #oc-R14ZSRYW2YB41B  ...        3\n",
       "4      #oc-R155JB2SA58E17  ...        3\n",
       "...                   ...  ...      ...\n",
       "37697       AZZJDUEFXYXBM  ...        4\n",
       "37698       AZZNK89PXD006  ...        6\n",
       "37699       AZZTH6DJ0KSIP  ...        3\n",
       "37700       AZZU1VEO8KUXH  ...        3\n",
       "37701       AZZV9PDNMCOZW  ...        3\n",
       "\n",
       "[37702 rows x 7 columns]"
      ]
     },
     "execution_count": 13,
     "metadata": {
      "tags": []
     },
     "output_type": "execute_result"
    }
   ],
   "source": [
    "print(display5.shape)\n",
    "display5"
   ]
  },
  {
   "cell_type": "code",
   "execution_count": 14,
   "metadata": {
    "id": "NQuONpTfh5sB"
   },
   "outputs": [],
   "source": [
    "display6 = pd.read_sql_query(\"\"\"\n",
    "SELECT ProductId, Score, COUNT(ProductId) as Count\n",
    "FROM Reviews\n",
    "GROUP BY ProductId\n",
    "ORDER BY Count Desc Limit 1\n",
    "\"\"\", con)"
   ]
  },
  {
   "cell_type": "code",
   "execution_count": 15,
   "metadata": {
    "colab": {
     "base_uri": "https://localhost:8080/",
     "height": 78
    },
    "id": "UvZAy0MhjoWQ",
    "outputId": "d2f6b51a-b075-4ef3-993a-d80c01d9ca11"
   },
   "outputs": [
    {
     "data": {
      "text/html": [
       "<div>\n",
       "<style scoped>\n",
       "    .dataframe tbody tr th:only-of-type {\n",
       "        vertical-align: middle;\n",
       "    }\n",
       "\n",
       "    .dataframe tbody tr th {\n",
       "        vertical-align: top;\n",
       "    }\n",
       "\n",
       "    .dataframe thead th {\n",
       "        text-align: right;\n",
       "    }\n",
       "</style>\n",
       "<table border=\"1\" class=\"dataframe\">\n",
       "  <thead>\n",
       "    <tr style=\"text-align: right;\">\n",
       "      <th></th>\n",
       "      <th>ProductId</th>\n",
       "      <th>Score</th>\n",
       "      <th>Count</th>\n",
       "    </tr>\n",
       "  </thead>\n",
       "  <tbody>\n",
       "    <tr>\n",
       "      <th>0</th>\n",
       "      <td>B007JFMH8M</td>\n",
       "      <td>5</td>\n",
       "      <td>913</td>\n",
       "    </tr>\n",
       "  </tbody>\n",
       "</table>\n",
       "</div>"
      ],
      "text/plain": [
       "    ProductId  Score  Count\n",
       "0  B007JFMH8M      5    913"
      ]
     },
     "execution_count": 15,
     "metadata": {
      "tags": []
     },
     "output_type": "execute_result"
    }
   ],
   "source": [
    "display6"
   ]
  },
  {
   "cell_type": "code",
   "execution_count": 16,
   "metadata": {
    "colab": {
     "base_uri": "https://localhost:8080/",
     "height": 78
    },
    "id": "oLP3xsoupcsM",
    "outputId": "03f6eb05-fe0a-4571-a665-b45efcbc9c0b"
   },
   "outputs": [
    {
     "data": {
      "text/html": [
       "<div>\n",
       "<style scoped>\n",
       "    .dataframe tbody tr th:only-of-type {\n",
       "        vertical-align: middle;\n",
       "    }\n",
       "\n",
       "    .dataframe tbody tr th {\n",
       "        vertical-align: top;\n",
       "    }\n",
       "\n",
       "    .dataframe thead th {\n",
       "        text-align: right;\n",
       "    }\n",
       "</style>\n",
       "<table border=\"1\" class=\"dataframe\">\n",
       "  <thead>\n",
       "    <tr style=\"text-align: right;\">\n",
       "      <th></th>\n",
       "      <th>ProductId</th>\n",
       "      <th>Score</th>\n",
       "      <th>Count</th>\n",
       "    </tr>\n",
       "  </thead>\n",
       "  <tbody>\n",
       "    <tr>\n",
       "      <th>0</th>\n",
       "      <td>141278509X</td>\n",
       "      <td>5</td>\n",
       "      <td>1</td>\n",
       "    </tr>\n",
       "  </tbody>\n",
       "</table>\n",
       "</div>"
      ],
      "text/plain": [
       "    ProductId  Score  Count\n",
       "0  141278509X      5      1"
      ]
     },
     "execution_count": 16,
     "metadata": {
      "tags": []
     },
     "output_type": "execute_result"
    }
   ],
   "source": [
    "display7 = pd.read_sql_query(\"\"\"\n",
    "SELECT ProductId, Score, COUNT(ProductId) as Count\n",
    "FROM Reviews\n",
    "GROUP BY ProductId\n",
    "ORDER BY Count Asc Limit 1\n",
    "\"\"\", con)\n",
    "display7"
   ]
  },
  {
   "cell_type": "code",
   "execution_count": 22,
   "metadata": {
    "colab": {
     "base_uri": "https://localhost:8080/"
    },
    "id": "tiaXnkZxCAZO",
    "outputId": "f152cd3e-c87a-4179-a6b8-5e37317917cd"
   },
   "outputs": [
    {
     "data": {
      "text/plain": [
       "2"
      ]
     },
     "execution_count": 22,
     "metadata": {
      "tags": []
     },
     "output_type": "execute_result"
    }
   ],
   "source": [
    "display['COUNT(*)'].sum()"
   ]
  },
  {
   "cell_type": "markdown",
   "metadata": {
    "id": "TX5b3dc5CAZS"
   },
   "source": [
    "#  Exploratory Data Analysis\n",
    "\n",
    "## Data Cleaning: Deduplication\n",
    "\n",
    "It is observed (as shown in the table below) that the reviews data had many duplicate entries. Hence it was necessary to remove duplicates in order to get unbiased results for the analysis of the data."
   ]
  },
  {
   "cell_type": "code",
   "execution_count": 23,
   "metadata": {
    "colab": {
     "base_uri": "https://localhost:8080/",
     "height": 370
    },
    "id": "4jW_0WxCCAZT",
    "outputId": "836d1d8e-ff84-48b5-c9e2-085eacf945b2",
    "scrolled": false
   },
   "outputs": [
    {
     "data": {
      "text/html": [
       "<div>\n",
       "<style scoped>\n",
       "    .dataframe tbody tr th:only-of-type {\n",
       "        vertical-align: middle;\n",
       "    }\n",
       "\n",
       "    .dataframe tbody tr th {\n",
       "        vertical-align: top;\n",
       "    }\n",
       "\n",
       "    .dataframe thead th {\n",
       "        text-align: right;\n",
       "    }\n",
       "</style>\n",
       "<table border=\"1\" class=\"dataframe\">\n",
       "  <thead>\n",
       "    <tr style=\"text-align: right;\">\n",
       "      <th></th>\n",
       "      <th>Id</th>\n",
       "      <th>ProductId</th>\n",
       "      <th>UserId</th>\n",
       "      <th>ProfileName</th>\n",
       "      <th>HelpfulnessNumerator</th>\n",
       "      <th>HelpfulnessDenominator</th>\n",
       "      <th>Score</th>\n",
       "      <th>Time</th>\n",
       "      <th>Summary</th>\n",
       "      <th>Text</th>\n",
       "    </tr>\n",
       "  </thead>\n",
       "  <tbody>\n",
       "    <tr>\n",
       "      <th>0</th>\n",
       "      <td>78445</td>\n",
       "      <td>B000HDL1RQ</td>\n",
       "      <td>AR5J8UI46CURR</td>\n",
       "      <td>Geetha Krishnan</td>\n",
       "      <td>2</td>\n",
       "      <td>2</td>\n",
       "      <td>5</td>\n",
       "      <td>1199577600</td>\n",
       "      <td>LOACKER QUADRATINI VANILLA WAFERS</td>\n",
       "      <td>DELICIOUS WAFERS. I FIND THAT EUROPEAN WAFERS ...</td>\n",
       "    </tr>\n",
       "    <tr>\n",
       "      <th>1</th>\n",
       "      <td>138317</td>\n",
       "      <td>B000HDOPYC</td>\n",
       "      <td>AR5J8UI46CURR</td>\n",
       "      <td>Geetha Krishnan</td>\n",
       "      <td>2</td>\n",
       "      <td>2</td>\n",
       "      <td>5</td>\n",
       "      <td>1199577600</td>\n",
       "      <td>LOACKER QUADRATINI VANILLA WAFERS</td>\n",
       "      <td>DELICIOUS WAFERS. I FIND THAT EUROPEAN WAFERS ...</td>\n",
       "    </tr>\n",
       "    <tr>\n",
       "      <th>2</th>\n",
       "      <td>138277</td>\n",
       "      <td>B000HDOPYM</td>\n",
       "      <td>AR5J8UI46CURR</td>\n",
       "      <td>Geetha Krishnan</td>\n",
       "      <td>2</td>\n",
       "      <td>2</td>\n",
       "      <td>5</td>\n",
       "      <td>1199577600</td>\n",
       "      <td>LOACKER QUADRATINI VANILLA WAFERS</td>\n",
       "      <td>DELICIOUS WAFERS. I FIND THAT EUROPEAN WAFERS ...</td>\n",
       "    </tr>\n",
       "    <tr>\n",
       "      <th>3</th>\n",
       "      <td>73791</td>\n",
       "      <td>B000HDOPZG</td>\n",
       "      <td>AR5J8UI46CURR</td>\n",
       "      <td>Geetha Krishnan</td>\n",
       "      <td>2</td>\n",
       "      <td>2</td>\n",
       "      <td>5</td>\n",
       "      <td>1199577600</td>\n",
       "      <td>LOACKER QUADRATINI VANILLA WAFERS</td>\n",
       "      <td>DELICIOUS WAFERS. I FIND THAT EUROPEAN WAFERS ...</td>\n",
       "    </tr>\n",
       "    <tr>\n",
       "      <th>4</th>\n",
       "      <td>155049</td>\n",
       "      <td>B000PAQ75C</td>\n",
       "      <td>AR5J8UI46CURR</td>\n",
       "      <td>Geetha Krishnan</td>\n",
       "      <td>2</td>\n",
       "      <td>2</td>\n",
       "      <td>5</td>\n",
       "      <td>1199577600</td>\n",
       "      <td>LOACKER QUADRATINI VANILLA WAFERS</td>\n",
       "      <td>DELICIOUS WAFERS. I FIND THAT EUROPEAN WAFERS ...</td>\n",
       "    </tr>\n",
       "  </tbody>\n",
       "</table>\n",
       "</div>"
      ],
      "text/plain": [
       "       Id  ...                                               Text\n",
       "0   78445  ...  DELICIOUS WAFERS. I FIND THAT EUROPEAN WAFERS ...\n",
       "1  138317  ...  DELICIOUS WAFERS. I FIND THAT EUROPEAN WAFERS ...\n",
       "2  138277  ...  DELICIOUS WAFERS. I FIND THAT EUROPEAN WAFERS ...\n",
       "3   73791  ...  DELICIOUS WAFERS. I FIND THAT EUROPEAN WAFERS ...\n",
       "4  155049  ...  DELICIOUS WAFERS. I FIND THAT EUROPEAN WAFERS ...\n",
       "\n",
       "[5 rows x 10 columns]"
      ]
     },
     "execution_count": 23,
     "metadata": {
      "tags": []
     },
     "output_type": "execute_result"
    }
   ],
   "source": [
    "display= pd.read_sql_query(\"\"\"\n",
    "SELECT *\n",
    "FROM Reviews\n",
    "WHERE Score != 3 AND UserId=\"AR5J8UI46CURR\"\n",
    "ORDER BY ProductID\n",
    "\"\"\", con)\n",
    "display.head()"
   ]
  },
  {
   "cell_type": "markdown",
   "metadata": {
    "id": "BzVTlHiMCAZV"
   },
   "source": [
    "As can be seen above the same user has multiple reviews of the with the same values for HelpfulnessNumerator, HelpfulnessDenominator, Score, Time, Summary and Text  and on doing analysis it was found that <br>\n",
    "<br> \n",
    "ProductId=B000HDOPZG was Loacker Quadratini Vanilla Wafer Cookies, 8.82-Ounce Packages (Pack of 8)<br>\n",
    "<br> \n",
    "ProductId=B000HDL1RQ was Loacker Quadratini Lemon Wafer Cookies, 8.82-Ounce Packages (Pack of 8) and so on<br>\n",
    "\n",
    "It was inferred after analysis that reviews with same parameters other than ProductId belonged to the same product just having different flavour or quantity. Hence in order to reduce redundancy it was decided to eliminate the rows having same parameters.<br>\n",
    "\n",
    "The method used for the same was that we first sort the data according to ProductId and then just keep the first similar product review and delelte the others. for eg. in the above just the review for ProductId=B000HDL1RQ remains. This method ensures that there is only one representative for each product and deduplication without sorting would lead to possibility of different representatives still existing for the same product."
   ]
  },
  {
   "cell_type": "code",
   "execution_count": 135,
   "metadata": {
    "id": "DGy2NM7BCAZX"
   },
   "outputs": [],
   "source": [
    "#Sorting data according to ProductId in ascending order\n",
    "sorted_data=filtered_data.sort_values('ProductId', axis=0, ascending=True, inplace=False, kind='quicksort', na_position='last')"
   ]
  },
  {
   "cell_type": "code",
   "execution_count": 136,
   "metadata": {
    "colab": {
     "base_uri": "https://localhost:8080/"
    },
    "id": "8b-O13XVCAZZ",
    "outputId": "c6a8f944-cae0-45d4-a3c4-975a5600914b"
   },
   "outputs": [
    {
     "data": {
      "text/plain": [
       "(46072, 10)"
      ]
     },
     "execution_count": 136,
     "metadata": {},
     "output_type": "execute_result"
    }
   ],
   "source": [
    "#Deduplication of entries\n",
    "final=sorted_data.drop_duplicates(subset={\"UserId\",\"ProfileName\",\"Time\",\"Text\"}, keep='first', inplace=False)\n",
    "final.shape"
   ]
  },
  {
   "cell_type": "code",
   "execution_count": 137,
   "metadata": {
    "colab": {
     "base_uri": "https://localhost:8080/"
    },
    "id": "S72Yh-rHCAZc",
    "outputId": "c629b88e-0e51-461f-999f-5b5607e18373"
   },
   "outputs": [
    {
     "data": {
      "text/plain": [
       "92.144"
      ]
     },
     "execution_count": 137,
     "metadata": {},
     "output_type": "execute_result"
    }
   ],
   "source": [
    "#Checking to see how much % of data still remains\n",
    "(final['Id'].size*1.0)/(filtered_data['Id'].size*1.0)*100"
   ]
  },
  {
   "cell_type": "markdown",
   "metadata": {
    "id": "LO5nLKeFCAZf"
   },
   "source": [
    "<b>Observation:-</b> It was also seen that in two rows given below the value of HelpfulnessNumerator is greater than HelpfulnessDenominator which is not practically possible hence these two rows too are removed from calcualtions"
   ]
  },
  {
   "cell_type": "code",
   "execution_count": 13,
   "metadata": {
    "colab": {
     "base_uri": "https://localhost:8080/",
     "height": 334
    },
    "id": "L9z5lrsiCAZh",
    "outputId": "1ab3ee58-90dc-4bf8-cdca-fe1fed769d95"
   },
   "outputs": [
    {
     "data": {
      "text/html": [
       "<div>\n",
       "<style scoped>\n",
       "    .dataframe tbody tr th:only-of-type {\n",
       "        vertical-align: middle;\n",
       "    }\n",
       "\n",
       "    .dataframe tbody tr th {\n",
       "        vertical-align: top;\n",
       "    }\n",
       "\n",
       "    .dataframe thead th {\n",
       "        text-align: right;\n",
       "    }\n",
       "</style>\n",
       "<table border=\"1\" class=\"dataframe\">\n",
       "  <thead>\n",
       "    <tr style=\"text-align: right;\">\n",
       "      <th></th>\n",
       "      <th>Id</th>\n",
       "      <th>ProductId</th>\n",
       "      <th>UserId</th>\n",
       "      <th>ProfileName</th>\n",
       "      <th>HelpfulnessNumerator</th>\n",
       "      <th>HelpfulnessDenominator</th>\n",
       "      <th>Score</th>\n",
       "      <th>Time</th>\n",
       "      <th>Summary</th>\n",
       "      <th>Text</th>\n",
       "    </tr>\n",
       "  </thead>\n",
       "  <tbody>\n",
       "    <tr>\n",
       "      <th>0</th>\n",
       "      <td>64422</td>\n",
       "      <td>B000MIDROQ</td>\n",
       "      <td>A161DK06JJMCYF</td>\n",
       "      <td>J. E. Stephens \"Jeanne\"</td>\n",
       "      <td>3</td>\n",
       "      <td>1</td>\n",
       "      <td>5</td>\n",
       "      <td>1224892800</td>\n",
       "      <td>Bought This for My Son at College</td>\n",
       "      <td>My son loves spaghetti so I didn't hesitate or...</td>\n",
       "    </tr>\n",
       "    <tr>\n",
       "      <th>1</th>\n",
       "      <td>44737</td>\n",
       "      <td>B001EQ55RW</td>\n",
       "      <td>A2V0I904FH7ABY</td>\n",
       "      <td>Ram</td>\n",
       "      <td>3</td>\n",
       "      <td>2</td>\n",
       "      <td>4</td>\n",
       "      <td>1212883200</td>\n",
       "      <td>Pure cocoa taste with crunchy almonds inside</td>\n",
       "      <td>It was almost a 'love at first bite' - the per...</td>\n",
       "    </tr>\n",
       "  </tbody>\n",
       "</table>\n",
       "</div>"
      ],
      "text/plain": [
       "      Id   ProductId          UserId              ProfileName  \\\n",
       "0  64422  B000MIDROQ  A161DK06JJMCYF  J. E. Stephens \"Jeanne\"   \n",
       "1  44737  B001EQ55RW  A2V0I904FH7ABY                      Ram   \n",
       "\n",
       "   HelpfulnessNumerator  HelpfulnessDenominator  Score        Time  \\\n",
       "0                     3                       1      5  1224892800   \n",
       "1                     3                       2      4  1212883200   \n",
       "\n",
       "                                        Summary  \\\n",
       "0             Bought This for My Son at College   \n",
       "1  Pure cocoa taste with crunchy almonds inside   \n",
       "\n",
       "                                                Text  \n",
       "0  My son loves spaghetti so I didn't hesitate or...  \n",
       "1  It was almost a 'love at first bite' - the per...  "
      ]
     },
     "execution_count": 13,
     "metadata": {},
     "output_type": "execute_result"
    }
   ],
   "source": [
    "display= pd.read_sql_query(\"\"\"\n",
    "SELECT *\n",
    "FROM Reviews\n",
    "WHERE Score != 3 AND Id=44737 OR Id=64422\n",
    "ORDER BY ProductID\n",
    "\"\"\", con)\n",
    "\n",
    "display.head()"
   ]
  },
  {
   "cell_type": "code",
   "execution_count": 138,
   "metadata": {
    "id": "8Tphk1piCAZk"
   },
   "outputs": [],
   "source": [
    "final=final[final.HelpfulnessNumerator<=final.HelpfulnessDenominator]"
   ]
  },
  {
   "cell_type": "code",
   "execution_count": 139,
   "metadata": {
    "colab": {
     "base_uri": "https://localhost:8080/"
    },
    "id": "8TpsGDdJCAZm",
    "outputId": "70509c9c-7644-498d-f983-53748eedf235"
   },
   "outputs": [
    {
     "name": "stdout",
     "output_type": "stream",
     "text": [
      "(46071, 10)\n"
     ]
    },
    {
     "data": {
      "text/plain": [
       "1    38479\n",
       "0     7592\n",
       "Name: Score, dtype: int64"
      ]
     },
     "execution_count": 139,
     "metadata": {},
     "output_type": "execute_result"
    }
   ],
   "source": [
    "#Before starting the next phase of preprocessing lets see the number of entries left\n",
    "print(final.shape)\n",
    "\n",
    "#How many positive and negative reviews are present in our dataset?\n",
    "final['Score'].value_counts()"
   ]
  },
  {
   "cell_type": "markdown",
   "metadata": {
    "id": "RxBsuBylCAZr"
   },
   "source": [
    "# Text Preprocessing.\n",
    "\n",
    "Now that we have finished deduplication our data requires some preprocessing before we go on further with analysis and making the prediction model.\n",
    "\n",
    "Hence in the Preprocessing phase we do the following in the order below:-\n",
    "\n",
    "1. Begin by removing the html tags\n",
    "2. Remove any punctuations or limited set of special characters like , or . or # etc.\n",
    "3. Check if the word is made up of english letters and is not alpha-numeric\n",
    "4. Check to see if the length of the word is greater than 2 (as it was researched that there is no adjective in 2-letters)\n",
    "5. Convert the word to lowercase\n",
    "6. Remove Stopwords\n",
    "7. Finally Snowball Stemming the word (it was obsereved to be better than Porter Stemming)<br>\n",
    "\n",
    "After which we collect the words used to describe positive and negative reviews"
   ]
  },
  {
   "cell_type": "code",
   "execution_count": 140,
   "metadata": {
    "colab": {
     "base_uri": "https://localhost:8080/"
    },
    "id": "laOGMFB7CAZt",
    "outputId": "e7aadfe5-7c29-4757-98eb-74d63c2967a9"
   },
   "outputs": [
    {
     "name": "stdout",
     "output_type": "stream",
     "text": [
      "My dogs loves this chicken but its a product from China, so we wont be buying it anymore.  Its very hard to find any chicken products made in the USA but they are out there, but this one isnt.  Its too bad too because its a good product but I wont take any chances till they know what is going on with the china imports.\n",
      "==================================================\n",
      "this is yummy, easy and unusual. it makes a quick, delicous pie, crisp or cobbler. home made is better, but a heck of a lot more work. this is great to have on hand for last minute dessert needs where you really want to impress wih your creativity in cooking! recommended.\n",
      "==================================================\n",
      "Great flavor, low in calories, high in nutrients, high in protein! Usually protein powders are high priced and high in calories, this one is a great bargain and tastes great, I highly recommend for the lady gym rats, probably not \"macho\" enough for guys since it is soy based...\n",
      "==================================================\n",
      "For those of you wanting a high-quality, yet affordable green tea, you should definitely give this one a try. Let me first start by saying that everyone is looking for something different for their ideal tea, and I will attempt to briefly highlight what makes this tea attractive to a wide range of tea drinkers (whether you are a beginner or long-time tea enthusiast).  I have gone through over 12 boxes of this tea myself, and highly recommend it for the following reasons:<br /><br />-Quality:  First, this tea offers a smooth quality without any harsh or bitter after tones, which often turns people off from many green teas.  I've found my ideal brewing time to be between 3-5 minutes, giving you a light but flavorful cup of tea.  However, if you get distracted or forget about your tea and leave it brewing for 20+ minutes like I sometimes do, the quality of this tea is such that you still get a smooth but deeper flavor without the bad after taste.  The leaves themselves are whole leaves (not powdered stems, branches, etc commonly found in other brands), and the high-quality nylon bags also include chunks of tropical fruit and other discernible ingredients.  This isn't your standard cheap paper bag with a mix of unknown ingredients that have been ground down to a fine powder, leaving you to wonder what it is you are actually drinking.<br /><br />-Taste:  This tea offers notes of real pineapple and other hints of tropical fruits, yet isn't sweet or artificially flavored.  You have the foundation of a high-quality young hyson green tea for those true \"tea flavor\" lovers, yet the subtle hints of fruit make this a truly unique tea that I believe most will enjoy.  If you want it sweet, you can add sugar, splenda, etc but this really is not necessary as this tea offers an inherent warmth of flavor through it's ingredients.<br /><br />-Price:  This tea offers an excellent product at an exceptional price (especially when purchased at the prices Amazon offers).  Compared to other brands which I believe to be of similar quality (Mighty Leaf, Rishi, Two Leaves, etc.), Revolution offers a superior product at an outstanding price.  I have been purchasing this through Amazon for less per box than I would be paying at my local grocery store for Lipton, etc.<br /><br />Overall, this is a wonderful tea that is comparable, and even better than, other teas that are priced much higher.  It offers a well-balanced cup of green tea that I believe many will enjoy.  In terms of taste, quality, and price, I would argue you won't find a better combination that that offered by Revolution's Tropical Green Tea.\n",
      "==================================================\n"
     ]
    }
   ],
   "source": [
    "# printing some random reviews\n",
    "sent_0 = final['Text'].values[0]\n",
    "print(sent_0)\n",
    "print(\"=\"*50)\n",
    "\n",
    "sent_1000 = final['Text'].values[1000]\n",
    "print(sent_1000)\n",
    "print(\"=\"*50)\n",
    "\n",
    "sent_1500 = final['Text'].values[1500]\n",
    "print(sent_1500)\n",
    "print(\"=\"*50)\n",
    "\n",
    "sent_4900 = final['Text'].values[4900]\n",
    "print(sent_4900)\n",
    "print(\"=\"*50)"
   ]
  },
  {
   "cell_type": "code",
   "execution_count": 141,
   "metadata": {
    "colab": {
     "base_uri": "https://localhost:8080/"
    },
    "id": "MvD0JaQ9CAZx",
    "outputId": "a5c58bd6-a504-4a8b-963f-a9af04c9584f"
   },
   "outputs": [
    {
     "name": "stdout",
     "output_type": "stream",
     "text": [
      "My dogs loves this chicken but its a product from China, so we wont be buying it anymore.  Its very hard to find any chicken products made in the USA but they are out there, but this one isnt.  Its too bad too because its a good product but I wont take any chances till they know what is going on with the china imports.\n"
     ]
    }
   ],
   "source": [
    "# remove urls from text python: https://stackoverflow.com/a/40823105/4084039\n",
    "sent_0 = re.sub(r\"http\\S+\", \"\", sent_0)\n",
    "sent_1000 = re.sub(r\"http\\S+\", \"\", sent_1000)\n",
    "sent_150 = re.sub(r\"http\\S+\", \"\", sent_1500)\n",
    "sent_4900 = re.sub(r\"http\\S+\", \"\", sent_4900)\n",
    "\n",
    "print(sent_0)"
   ]
  },
  {
   "cell_type": "code",
   "execution_count": 143,
   "metadata": {
    "colab": {
     "base_uri": "https://localhost:8080/"
    },
    "id": "Liu2zNFLCAZ0",
    "outputId": "cce8d38a-d4f6-4eb3-a14d-d6855d0c3784"
   },
   "outputs": [
    {
     "name": "stdout",
     "output_type": "stream",
     "text": [
      "My dogs loves this chicken but its a product from China, so we wont be buying it anymore.  Its very hard to find any chicken products made in the USA but they are out there, but this one isnt.  Its too bad too because its a good product but I wont take any chances till they know what is going on with the china imports.\n",
      "==================================================\n",
      "this is yummy, easy and unusual. it makes a quick, delicous pie, crisp or cobbler. home made is better, but a heck of a lot more work. this is great to have on hand for last minute dessert needs where you really want to impress wih your creativity in cooking! recommended.\n",
      "==================================================\n",
      "Great flavor, low in calories, high in nutrients, high in protein! Usually protein powders are high priced and high in calories, this one is a great bargain and tastes great, I highly recommend for the lady gym rats, probably not \"macho\" enough for guys since it is soy based...\n",
      "==================================================\n",
      "For those of you wanting a high-quality, yet affordable green tea, you should definitely give this one a try. Let me first start by saying that everyone is looking for something different for their ideal tea, and I will attempt to briefly highlight what makes this tea attractive to a wide range of tea drinkers (whether you are a beginner or long-time tea enthusiast).  I have gone through over 12 boxes of this tea myself, and highly recommend it for the following reasons:-Quality:  First, this tea offers a smooth quality without any harsh or bitter after tones, which often turns people off from many green teas.  I've found my ideal brewing time to be between 3-5 minutes, giving you a light but flavorful cup of tea.  However, if you get distracted or forget about your tea and leave it brewing for 20+ minutes like I sometimes do, the quality of this tea is such that you still get a smooth but deeper flavor without the bad after taste.  The leaves themselves are whole leaves (not powdered stems, branches, etc commonly found in other brands), and the high-quality nylon bags also include chunks of tropical fruit and other discernible ingredients.  This isn't your standard cheap paper bag with a mix of unknown ingredients that have been ground down to a fine powder, leaving you to wonder what it is you are actually drinking.-Taste:  This tea offers notes of real pineapple and other hints of tropical fruits, yet isn't sweet or artificially flavored.  You have the foundation of a high-quality young hyson green tea for those true \"tea flavor\" lovers, yet the subtle hints of fruit make this a truly unique tea that I believe most will enjoy.  If you want it sweet, you can add sugar, splenda, etc but this really is not necessary as this tea offers an inherent warmth of flavor through it's ingredients.-Price:  This tea offers an excellent product at an exceptional price (especially when purchased at the prices Amazon offers).  Compared to other brands which I believe to be of similar quality (Mighty Leaf, Rishi, Two Leaves, etc.), Revolution offers a superior product at an outstanding price.  I have been purchasing this through Amazon for less per box than I would be paying at my local grocery store for Lipton, etc.Overall, this is a wonderful tea that is comparable, and even better than, other teas that are priced much higher.  It offers a well-balanced cup of green tea that I believe many will enjoy.  In terms of taste, quality, and price, I would argue you won't find a better combination that that offered by Revolution's Tropical Green Tea.\n"
     ]
    }
   ],
   "source": [
    "# https://stackoverflow.com/questions/16206380/python-beautifulsoup-how-to-remove-all-tags-from-an-element\n",
    "from bs4 import BeautifulSoup\n",
    "\n",
    "soup = BeautifulSoup(sent_0, 'html.parser')\n",
    "text = soup.get_text()\n",
    "print(text)\n",
    "print(\"=\"*50)\n",
    "\n",
    "soup = BeautifulSoup(sent_1000, 'html.parser')\n",
    "text = soup.get_text()\n",
    "print(text)\n",
    "print(\"=\"*50)\n",
    "\n",
    "soup = BeautifulSoup(sent_1500, 'html.parser')\n",
    "text = soup.get_text()\n",
    "print(text)\n",
    "print(\"=\"*50)\n",
    "\n",
    "soup = BeautifulSoup(sent_4900, 'html.parser')\n",
    "text = soup.get_text()\n",
    "print(text)"
   ]
  },
  {
   "cell_type": "code",
   "execution_count": 144,
   "metadata": {
    "id": "lNHWbzBaCAZ3"
   },
   "outputs": [],
   "source": [
    "# https://stackoverflow.com/a/47091490/4084039\n",
    "import re\n",
    "\n",
    "def decontracted(phrase):\n",
    "    # specific\n",
    "    phrase = re.sub(r\"won't\", \"will not\", phrase)\n",
    "    phrase = re.sub(r\"can\\'t\", \"can not\", phrase)\n",
    "\n",
    "    # general\n",
    "    phrase = re.sub(r\"n\\'t\", \" not\", phrase)\n",
    "    phrase = re.sub(r\"\\'re\", \" are\", phrase)\n",
    "    phrase = re.sub(r\"\\'s\", \" is\", phrase)\n",
    "    phrase = re.sub(r\"\\'d\", \" would\", phrase)\n",
    "    phrase = re.sub(r\"\\'ll\", \" will\", phrase)\n",
    "    phrase = re.sub(r\"\\'t\", \" not\", phrase)\n",
    "    phrase = re.sub(r\"\\'ve\", \" have\", phrase)\n",
    "    phrase = re.sub(r\"\\'m\", \" am\", phrase)\n",
    "    return phrase"
   ]
  },
  {
   "cell_type": "code",
   "execution_count": 145,
   "metadata": {
    "colab": {
     "base_uri": "https://localhost:8080/"
    },
    "id": "y7v1fmngCAZ5",
    "outputId": "5c150a2e-f36f-4a67-e65c-e6ca3cd042bb"
   },
   "outputs": [
    {
     "name": "stdout",
     "output_type": "stream",
     "text": [
      "Great flavor, low in calories, high in nutrients, high in protein! Usually protein powders are high priced and high in calories, this one is a great bargain and tastes great, I highly recommend for the lady gym rats, probably not \"macho\" enough for guys since it is soy based...\n",
      "==================================================\n"
     ]
    }
   ],
   "source": [
    "sent_1500 = decontracted(sent_1500)\n",
    "print(sent_1500)\n",
    "print(\"=\"*50)"
   ]
  },
  {
   "cell_type": "code",
   "execution_count": 146,
   "metadata": {
    "colab": {
     "base_uri": "https://localhost:8080/"
    },
    "id": "jKIBLrAjCAZ7",
    "outputId": "02480096-38e3-44af-d0fb-227133deb1ee"
   },
   "outputs": [
    {
     "name": "stdout",
     "output_type": "stream",
     "text": [
      "My dogs loves this chicken but its a product from China, so we wont be buying it anymore.  Its very hard to find any chicken products made in the USA but they are out there, but this one isnt.  Its too bad too because its a good product but I wont take any chances till they know what is going on with the china imports.\n"
     ]
    }
   ],
   "source": [
    "#remove words with numbers python: https://stackoverflow.com/a/18082370/4084039\n",
    "sent_0 = re.sub(\"\\S*\\d\\S*\", \"\", sent_0).strip()\n",
    "print(sent_0)"
   ]
  },
  {
   "cell_type": "code",
   "execution_count": 147,
   "metadata": {
    "colab": {
     "base_uri": "https://localhost:8080/"
    },
    "id": "sU3eY6geCAZ9",
    "outputId": "ce62fd0e-de09-4588-92be-e034b13677f0"
   },
   "outputs": [
    {
     "name": "stdout",
     "output_type": "stream",
     "text": [
      "Great flavor low in calories high in nutrients high in protein Usually protein powders are high priced and high in calories this one is a great bargain and tastes great I highly recommend for the lady gym rats probably not macho enough for guys since it is soy based \n"
     ]
    }
   ],
   "source": [
    "#remove spacial character: https://stackoverflow.com/a/5843547/4084039\n",
    "sent_1500 = re.sub('[^A-Za-z0-9]+', ' ', sent_1500)\n",
    "print(sent_1500)"
   ]
  },
  {
   "cell_type": "code",
   "execution_count": 148,
   "metadata": {
    "id": "Xsr4xHkJCAaA"
   },
   "outputs": [],
   "source": [
    "# we are removing the words from the stop words list: 'no', 'nor', 'not'\n",
    "# <br /><br /> ==> after the above steps, we are getting \"br br\"\n",
    "# we are including them into stop words list\n",
    "# instead of <br /> if we have <br/> these tags would have revmoved in the 1st step\n",
    "\n",
    "stopwords= set(['br', 'the', 'i', 'me', 'my', 'myself', 'we', 'our', 'ours', 'ourselves', 'you', \"you're\", \"you've\",\\\n",
    "            \"you'll\", \"you'd\", 'your', 'yours', 'yourself', 'yourselves', 'he', 'him', 'his', 'himself', \\\n",
    "            'she', \"she's\", 'her', 'hers', 'herself', 'it', \"it's\", 'its', 'itself', 'they', 'them', 'their',\\\n",
    "            'theirs', 'themselves', 'what', 'which', 'who', 'whom', 'this', 'that', \"that'll\", 'these', 'those', \\\n",
    "            'am', 'is', 'are', 'was', 'were', 'be', 'been', 'being', 'have', 'has', 'had', 'having', 'do', 'does', \\\n",
    "            'did', 'doing', 'a', 'an', 'the', 'and', 'but', 'if', 'or', 'because', 'as', 'until', 'while', 'of', \\\n",
    "            'at', 'by', 'for', 'with', 'about', 'against', 'between', 'into', 'through', 'during', 'before', 'after',\\\n",
    "            'above', 'below', 'to', 'from', 'up', 'down', 'in', 'out', 'on', 'off', 'over', 'under', 'again', 'further',\\\n",
    "            'then', 'once', 'here', 'there', 'when', 'where', 'why', 'how', 'all', 'any', 'both', 'each', 'few', 'more',\\\n",
    "            'most', 'other', 'some', 'such', 'only', 'own', 'same', 'so', 'than', 'too', 'very', \\\n",
    "            's', 't', 'can', 'will', 'just', 'don', \"don't\", 'should', \"should've\", 'now', 'd', 'll', 'm', 'o', 're', \\\n",
    "            've', 'y', 'ain', 'aren', \"aren't\", 'couldn', \"couldn't\", 'didn', \"didn't\", 'doesn', \"doesn't\", 'hadn',\\\n",
    "            \"hadn't\", 'hasn', \"hasn't\", 'haven', \"haven't\", 'isn', \"isn't\", 'ma', 'mightn', \"mightn't\", 'mustn',\\\n",
    "            \"mustn't\", 'needn', \"needn't\", 'shan', \"shan't\", 'shouldn', \"shouldn't\", 'wasn', \"wasn't\", 'weren', \"weren't\", \\\n",
    "            'won', \"won't\", 'wouldn', \"wouldn't\"])"
   ]
  },
  {
   "cell_type": "code",
   "execution_count": 150,
   "metadata": {
    "colab": {
     "base_uri": "https://localhost:8080/"
    },
    "id": "MgsJ09NpCAaB",
    "outputId": "1ffcdaf9-9783-4237-dde6-ed22cf555325"
   },
   "outputs": [
    {
     "name": "stderr",
     "output_type": "stream",
     "text": [
      "100%|███████████████████████████████████████████████████████████████████████████| 46071/46071 [00:58<00:00, 793.25it/s]\n"
     ]
    }
   ],
   "source": [
    "# Combining all the above statements\n",
    "from tqdm import tqdm\n",
    "preprocessed_reviews = []\n",
    "# tqdm is for printing the status bar\n",
    "for sentance in tqdm(final['Text'].values):\n",
    "    sentance = re.sub(r\"http\\S+\", \"\", sentance)\n",
    "    sentance = BeautifulSoup(sentance, 'html.parser').get_text()\n",
    "    sentance = decontracted(sentance)\n",
    "    sentance = re.sub(\"\\S*\\d\\S*\", \"\", sentance).strip()\n",
    "    sentance = re.sub('[^A-Za-z]+', ' ', sentance)\n",
    "    sentance = ' '.join(e.lower() for e in sentance.split() if e.lower() not in stopwords)\n",
    "    preprocessed_reviews.append(sentance.strip())"
   ]
  },
  {
   "cell_type": "code",
   "execution_count": 151,
   "metadata": {
    "colab": {
     "base_uri": "https://localhost:8080/"
    },
    "id": "wtJ2hcy9CAaI",
    "outputId": "90ced1a7-ea49-4e17-c831-5e0504ca1dd8"
   },
   "outputs": [
    {
     "name": "stderr",
     "output_type": "stream",
     "text": [
      "100%|███████████████████████████████████████████████████████████████████████████| 46071/46071 [01:07<00:00, 678.63it/s]\n"
     ]
    }
   ],
   "source": [
    "preprocessed_summary = []\n",
    "for sentance in tqdm(final['Summary'].values):\n",
    "    sentance = re.sub(r\"http\\S+\", \"\", sentance)\n",
    "    sentance = BeautifulSoup(sentance, 'html.parser').get_text()\n",
    "    sentance = decontracted(sentance)\n",
    "    sentance = re.sub(\"\\S*\\d\\S*\", \"\", sentance).strip()\n",
    "    sentance = re.sub('[^A-Za-z]+', ' ', sentance)\n",
    "    sentance = ' '.join(e.lower() for e in sentance.split() if e.lower() not in stopwords)\n",
    "    preprocessed_summary.append(sentance.strip())"
   ]
  },
  {
   "cell_type": "code",
   "execution_count": 152,
   "metadata": {},
   "outputs": [
    {
     "data": {
      "text/html": [
       "<div>\n",
       "<style scoped>\n",
       "    .dataframe tbody tr th:only-of-type {\n",
       "        vertical-align: middle;\n",
       "    }\n",
       "\n",
       "    .dataframe tbody tr th {\n",
       "        vertical-align: top;\n",
       "    }\n",
       "\n",
       "    .dataframe thead th {\n",
       "        text-align: right;\n",
       "    }\n",
       "</style>\n",
       "<table border=\"1\" class=\"dataframe\">\n",
       "  <thead>\n",
       "    <tr style=\"text-align: right;\">\n",
       "      <th></th>\n",
       "      <th>Id</th>\n",
       "      <th>ProductId</th>\n",
       "      <th>UserId</th>\n",
       "      <th>ProfileName</th>\n",
       "      <th>HelpfulnessNumerator</th>\n",
       "      <th>HelpfulnessDenominator</th>\n",
       "      <th>Score</th>\n",
       "      <th>Time</th>\n",
       "      <th>Summary</th>\n",
       "      <th>Text</th>\n",
       "      <th>preprocessed_summary</th>\n",
       "      <th>preprocessed_reviews</th>\n",
       "    </tr>\n",
       "  </thead>\n",
       "  <tbody>\n",
       "    <tr>\n",
       "      <th>22620</th>\n",
       "      <td>24750</td>\n",
       "      <td>2734888454</td>\n",
       "      <td>A13ISQV0U9GZIC</td>\n",
       "      <td>Sandikaye</td>\n",
       "      <td>1</td>\n",
       "      <td>1</td>\n",
       "      <td>0</td>\n",
       "      <td>1192060800</td>\n",
       "      <td>made in china</td>\n",
       "      <td>My dogs loves this chicken but its a product f...</td>\n",
       "      <td>made china</td>\n",
       "      <td>dogs loves chicken product china wont buying a...</td>\n",
       "    </tr>\n",
       "    <tr>\n",
       "      <th>22621</th>\n",
       "      <td>24751</td>\n",
       "      <td>2734888454</td>\n",
       "      <td>A1C298ITT645B6</td>\n",
       "      <td>Hugh G. Pritchard</td>\n",
       "      <td>0</td>\n",
       "      <td>0</td>\n",
       "      <td>1</td>\n",
       "      <td>1195948800</td>\n",
       "      <td>Dog Lover Delites</td>\n",
       "      <td>Our dogs just love them.  I saw them in a pet ...</td>\n",
       "      <td>dog lover delites</td>\n",
       "      <td>dogs love saw pet store tag attached regarding...</td>\n",
       "    </tr>\n",
       "    <tr>\n",
       "      <th>2546</th>\n",
       "      <td>2774</td>\n",
       "      <td>B00002NCJC</td>\n",
       "      <td>A196AJHU9EASJN</td>\n",
       "      <td>Alex Chaffee</td>\n",
       "      <td>0</td>\n",
       "      <td>0</td>\n",
       "      <td>1</td>\n",
       "      <td>1282953600</td>\n",
       "      <td>thirty bucks?</td>\n",
       "      <td>Why is this $[...] when the same product is av...</td>\n",
       "      <td>thirty bucks</td>\n",
       "      <td>product available victor traps unreal course t...</td>\n",
       "    </tr>\n",
       "    <tr>\n",
       "      <th>2547</th>\n",
       "      <td>2775</td>\n",
       "      <td>B00002NCJC</td>\n",
       "      <td>A13RRPGE79XFFH</td>\n",
       "      <td>reader48</td>\n",
       "      <td>0</td>\n",
       "      <td>0</td>\n",
       "      <td>1</td>\n",
       "      <td>1281052800</td>\n",
       "      <td>Flies Begone</td>\n",
       "      <td>We have used the Victor fly bait for 3 seasons...</td>\n",
       "      <td>flies begone</td>\n",
       "      <td>used victor fly bait seasons ca not beat great...</td>\n",
       "    </tr>\n",
       "    <tr>\n",
       "      <th>1145</th>\n",
       "      <td>1244</td>\n",
       "      <td>B00002Z754</td>\n",
       "      <td>A3B8RCEI0FXFI6</td>\n",
       "      <td>B G Chase</td>\n",
       "      <td>10</td>\n",
       "      <td>10</td>\n",
       "      <td>1</td>\n",
       "      <td>962236800</td>\n",
       "      <td>WOW Make your own 'slickers' !</td>\n",
       "      <td>I just received my shipment and could hardly w...</td>\n",
       "      <td>wow make islickers</td>\n",
       "      <td>received shipment could hardly wait try produc...</td>\n",
       "    </tr>\n",
       "    <tr>\n",
       "      <th>...</th>\n",
       "      <td>...</td>\n",
       "      <td>...</td>\n",
       "      <td>...</td>\n",
       "      <td>...</td>\n",
       "      <td>...</td>\n",
       "      <td>...</td>\n",
       "      <td>...</td>\n",
       "      <td>...</td>\n",
       "      <td>...</td>\n",
       "      <td>...</td>\n",
       "      <td>...</td>\n",
       "      <td>...</td>\n",
       "    </tr>\n",
       "    <tr>\n",
       "      <th>29864</th>\n",
       "      <td>32540</td>\n",
       "      <td>B009NTCO4O</td>\n",
       "      <td>A2FO1R8FB6BLDI</td>\n",
       "      <td>V. Demand</td>\n",
       "      <td>10</td>\n",
       "      <td>10</td>\n",
       "      <td>1</td>\n",
       "      <td>1191283200</td>\n",
       "      <td>Yum Good</td>\n",
       "      <td>I have ordered this delicious cheesecake twice...</td>\n",
       "      <td>yum good</td>\n",
       "      <td>ordered delicious cheesecake twice time good r...</td>\n",
       "    </tr>\n",
       "    <tr>\n",
       "      <th>29869</th>\n",
       "      <td>32545</td>\n",
       "      <td>B009NTCO4O</td>\n",
       "      <td>A1SGWAO6PDKQ53</td>\n",
       "      <td>Female_Jedi_Master</td>\n",
       "      <td>1</td>\n",
       "      <td>1</td>\n",
       "      <td>1</td>\n",
       "      <td>1326412800</td>\n",
       "      <td>~Well received~</td>\n",
       "      <td>I purchased this to send as a gift and the rec...</td>\n",
       "      <td>well received</td>\n",
       "      <td>purchased send gift recipient loved taste par ...</td>\n",
       "    </tr>\n",
       "    <tr>\n",
       "      <th>35419</th>\n",
       "      <td>38512</td>\n",
       "      <td>B009O7B1I0</td>\n",
       "      <td>A2YWHBF45M64S2</td>\n",
       "      <td>EcyMom</td>\n",
       "      <td>0</td>\n",
       "      <td>0</td>\n",
       "      <td>0</td>\n",
       "      <td>1350864000</td>\n",
       "      <td>Reprehensible</td>\n",
       "      <td>This Trader Joe's product is good quality.  Bu...</td>\n",
       "      <td>reprehensible</td>\n",
       "      <td>trader joe product good quality buy straight t...</td>\n",
       "    </tr>\n",
       "    <tr>\n",
       "      <th>1362</th>\n",
       "      <td>1478</td>\n",
       "      <td>B009UOFU20</td>\n",
       "      <td>AJVB004EB0MVK</td>\n",
       "      <td>D. Christofferson</td>\n",
       "      <td>0</td>\n",
       "      <td>0</td>\n",
       "      <td>0</td>\n",
       "      <td>1345852800</td>\n",
       "      <td>weak coffee not good for a premium product and...</td>\n",
       "      <td>This coffee supposedly is premium, it tastes w...</td>\n",
       "      <td>weak coffee not good premium product price</td>\n",
       "      <td>coffee supposedly premium tastes watery thin n...</td>\n",
       "    </tr>\n",
       "    <tr>\n",
       "      <th>5259</th>\n",
       "      <td>5703</td>\n",
       "      <td>B009WSNWC4</td>\n",
       "      <td>AMP7K1O84DH1T</td>\n",
       "      <td>ESTY</td>\n",
       "      <td>0</td>\n",
       "      <td>0</td>\n",
       "      <td>1</td>\n",
       "      <td>1351209600</td>\n",
       "      <td>DELICIOUS</td>\n",
       "      <td>Purchased this product at a local store in NY ...</td>\n",
       "      <td>delicious</td>\n",
       "      <td>purchased product local store ny kids love qui...</td>\n",
       "    </tr>\n",
       "  </tbody>\n",
       "</table>\n",
       "<p>46071 rows × 12 columns</p>\n",
       "</div>"
      ],
      "text/plain": [
       "          Id   ProductId          UserId         ProfileName  \\\n",
       "22620  24750  2734888454  A13ISQV0U9GZIC           Sandikaye   \n",
       "22621  24751  2734888454  A1C298ITT645B6   Hugh G. Pritchard   \n",
       "2546    2774  B00002NCJC  A196AJHU9EASJN        Alex Chaffee   \n",
       "2547    2775  B00002NCJC  A13RRPGE79XFFH            reader48   \n",
       "1145    1244  B00002Z754  A3B8RCEI0FXFI6           B G Chase   \n",
       "...      ...         ...             ...                 ...   \n",
       "29864  32540  B009NTCO4O  A2FO1R8FB6BLDI           V. Demand   \n",
       "29869  32545  B009NTCO4O  A1SGWAO6PDKQ53  Female_Jedi_Master   \n",
       "35419  38512  B009O7B1I0  A2YWHBF45M64S2              EcyMom   \n",
       "1362    1478  B009UOFU20   AJVB004EB0MVK   D. Christofferson   \n",
       "5259    5703  B009WSNWC4   AMP7K1O84DH1T                ESTY   \n",
       "\n",
       "       HelpfulnessNumerator  HelpfulnessDenominator  Score        Time  \\\n",
       "22620                     1                       1      0  1192060800   \n",
       "22621                     0                       0      1  1195948800   \n",
       "2546                      0                       0      1  1282953600   \n",
       "2547                      0                       0      1  1281052800   \n",
       "1145                     10                      10      1   962236800   \n",
       "...                     ...                     ...    ...         ...   \n",
       "29864                    10                      10      1  1191283200   \n",
       "29869                     1                       1      1  1326412800   \n",
       "35419                     0                       0      0  1350864000   \n",
       "1362                      0                       0      0  1345852800   \n",
       "5259                      0                       0      1  1351209600   \n",
       "\n",
       "                                                 Summary  \\\n",
       "22620                                      made in china   \n",
       "22621                                  Dog Lover Delites   \n",
       "2546                                       thirty bucks?   \n",
       "2547                                        Flies Begone   \n",
       "1145                      WOW Make your own 'slickers' !   \n",
       "...                                                  ...   \n",
       "29864                                           Yum Good   \n",
       "29869                                    ~Well received~   \n",
       "35419                                      Reprehensible   \n",
       "1362   weak coffee not good for a premium product and...   \n",
       "5259                                           DELICIOUS   \n",
       "\n",
       "                                                    Text  \\\n",
       "22620  My dogs loves this chicken but its a product f...   \n",
       "22621  Our dogs just love them.  I saw them in a pet ...   \n",
       "2546   Why is this $[...] when the same product is av...   \n",
       "2547   We have used the Victor fly bait for 3 seasons...   \n",
       "1145   I just received my shipment and could hardly w...   \n",
       "...                                                  ...   \n",
       "29864  I have ordered this delicious cheesecake twice...   \n",
       "29869  I purchased this to send as a gift and the rec...   \n",
       "35419  This Trader Joe's product is good quality.  Bu...   \n",
       "1362   This coffee supposedly is premium, it tastes w...   \n",
       "5259   Purchased this product at a local store in NY ...   \n",
       "\n",
       "                             preprocessed_summary  \\\n",
       "22620                                  made china   \n",
       "22621                           dog lover delites   \n",
       "2546                                 thirty bucks   \n",
       "2547                                 flies begone   \n",
       "1145                           wow make islickers   \n",
       "...                                           ...   \n",
       "29864                                    yum good   \n",
       "29869                               well received   \n",
       "35419                               reprehensible   \n",
       "1362   weak coffee not good premium product price   \n",
       "5259                                    delicious   \n",
       "\n",
       "                                    preprocessed_reviews  \n",
       "22620  dogs loves chicken product china wont buying a...  \n",
       "22621  dogs love saw pet store tag attached regarding...  \n",
       "2546   product available victor traps unreal course t...  \n",
       "2547   used victor fly bait seasons ca not beat great...  \n",
       "1145   received shipment could hardly wait try produc...  \n",
       "...                                                  ...  \n",
       "29864  ordered delicious cheesecake twice time good r...  \n",
       "29869  purchased send gift recipient loved taste par ...  \n",
       "35419  trader joe product good quality buy straight t...  \n",
       "1362   coffee supposedly premium tastes watery thin n...  \n",
       "5259   purchased product local store ny kids love qui...  \n",
       "\n",
       "[46071 rows x 12 columns]"
      ]
     },
     "execution_count": 152,
     "metadata": {},
     "output_type": "execute_result"
    }
   ],
   "source": [
    "final[\"preprocessed_summary\"] = preprocessed_summary\n",
    "final[\"preprocessed_reviews\"] = preprocessed_reviews\n",
    "final"
   ]
  },
  {
   "cell_type": "code",
   "execution_count": 158,
   "metadata": {},
   "outputs": [
    {
     "name": "stdout",
     "output_type": "stream",
     "text": [
      "Unigram Count:  (46071, 39557)\n",
      "Number of Unique Words:  39557\n"
     ]
    }
   ],
   "source": [
    "unigram_counts = CountVectorizer().fit_transform(final[\"preprocessed_reviews\"].values)\n",
    "print(\"Unigram Count: \", unigram_counts.get_shape())\n",
    "print(\"Number of Unique Words: \", unigram_counts.get_shape()[1])"
   ]
  },
  {
   "cell_type": "code",
   "execution_count": 159,
   "metadata": {},
   "outputs": [
    {
     "ename": "MemoryError",
     "evalue": "Unable to allocate 13.6 GiB for an array with shape (46071, 39557) and data type float64",
     "output_type": "error",
     "traceback": [
      "\u001b[1;31m---------------------------------------------------------------------------\u001b[0m",
      "\u001b[1;31mMemoryError\u001b[0m                               Traceback (most recent call last)",
      "\u001b[1;32m<ipython-input-159-0d35a2fe2cc0>\u001b[0m in \u001b[0;36m<module>\u001b[1;34m\u001b[0m\n\u001b[0;32m      1\u001b[0m \u001b[0mmax_scaler\u001b[0m \u001b[1;33m=\u001b[0m \u001b[0mMaxAbsScaler\u001b[0m\u001b[1;33m(\u001b[0m\u001b[1;33m)\u001b[0m\u001b[1;33m\u001b[0m\u001b[1;33m\u001b[0m\u001b[0m\n\u001b[1;32m----> 2\u001b[1;33m \u001b[0mstandardized_data\u001b[0m \u001b[1;33m=\u001b[0m \u001b[0mmax_scaler\u001b[0m\u001b[1;33m.\u001b[0m\u001b[0mfit_transform\u001b[0m\u001b[1;33m(\u001b[0m\u001b[0munigram_counts\u001b[0m\u001b[1;33m)\u001b[0m\u001b[1;33m.\u001b[0m\u001b[0mtodense\u001b[0m\u001b[1;33m(\u001b[0m\u001b[1;33m)\u001b[0m\u001b[1;33m\u001b[0m\u001b[1;33m\u001b[0m\u001b[0m\n\u001b[0m\u001b[0;32m      3\u001b[0m \u001b[0mprint\u001b[0m\u001b[1;33m(\u001b[0m\u001b[0mstandardized_data\u001b[0m\u001b[1;33m.\u001b[0m\u001b[0mshape\u001b[0m\u001b[1;33m)\u001b[0m\u001b[1;33m\u001b[0m\u001b[1;33m\u001b[0m\u001b[0m\n",
      "\u001b[1;32mc:\\users\\ya462zd\\appdata\\local\\programs\\python\\python39\\lib\\site-packages\\scipy\\sparse\\base.py\u001b[0m in \u001b[0;36mtodense\u001b[1;34m(self, order, out)\u001b[0m\n\u001b[0;32m    862\u001b[0m             \u001b[0;31m`\u001b[0m\u001b[0mnumpy\u001b[0m\u001b[1;33m.\u001b[0m\u001b[0mmatrix\u001b[0m\u001b[0;31m`\u001b[0m \u001b[0mobject\u001b[0m \u001b[0mthat\u001b[0m \u001b[0mshares\u001b[0m \u001b[0mthe\u001b[0m \u001b[0msame\u001b[0m \u001b[0mmemory\u001b[0m\u001b[1;33m.\u001b[0m\u001b[1;33m\u001b[0m\u001b[1;33m\u001b[0m\u001b[0m\n\u001b[0;32m    863\u001b[0m         \"\"\"\n\u001b[1;32m--> 864\u001b[1;33m         \u001b[1;32mreturn\u001b[0m \u001b[0masmatrix\u001b[0m\u001b[1;33m(\u001b[0m\u001b[0mself\u001b[0m\u001b[1;33m.\u001b[0m\u001b[0mtoarray\u001b[0m\u001b[1;33m(\u001b[0m\u001b[0morder\u001b[0m\u001b[1;33m=\u001b[0m\u001b[0morder\u001b[0m\u001b[1;33m,\u001b[0m \u001b[0mout\u001b[0m\u001b[1;33m=\u001b[0m\u001b[0mout\u001b[0m\u001b[1;33m)\u001b[0m\u001b[1;33m)\u001b[0m\u001b[1;33m\u001b[0m\u001b[1;33m\u001b[0m\u001b[0m\n\u001b[0m\u001b[0;32m    865\u001b[0m \u001b[1;33m\u001b[0m\u001b[0m\n\u001b[0;32m    866\u001b[0m     \u001b[1;32mdef\u001b[0m \u001b[0mtoarray\u001b[0m\u001b[1;33m(\u001b[0m\u001b[0mself\u001b[0m\u001b[1;33m,\u001b[0m \u001b[0morder\u001b[0m\u001b[1;33m=\u001b[0m\u001b[1;32mNone\u001b[0m\u001b[1;33m,\u001b[0m \u001b[0mout\u001b[0m\u001b[1;33m=\u001b[0m\u001b[1;32mNone\u001b[0m\u001b[1;33m)\u001b[0m\u001b[1;33m:\u001b[0m\u001b[1;33m\u001b[0m\u001b[1;33m\u001b[0m\u001b[0m\n",
      "\u001b[1;32mc:\\users\\ya462zd\\appdata\\local\\programs\\python\\python39\\lib\\site-packages\\scipy\\sparse\\compressed.py\u001b[0m in \u001b[0;36mtoarray\u001b[1;34m(self, order, out)\u001b[0m\n\u001b[0;32m   1029\u001b[0m         \u001b[1;32mif\u001b[0m \u001b[0mout\u001b[0m \u001b[1;32mis\u001b[0m \u001b[1;32mNone\u001b[0m \u001b[1;32mand\u001b[0m \u001b[0morder\u001b[0m \u001b[1;32mis\u001b[0m \u001b[1;32mNone\u001b[0m\u001b[1;33m:\u001b[0m\u001b[1;33m\u001b[0m\u001b[1;33m\u001b[0m\u001b[0m\n\u001b[0;32m   1030\u001b[0m             \u001b[0morder\u001b[0m \u001b[1;33m=\u001b[0m \u001b[0mself\u001b[0m\u001b[1;33m.\u001b[0m\u001b[0m_swap\u001b[0m\u001b[1;33m(\u001b[0m\u001b[1;34m'cf'\u001b[0m\u001b[1;33m)\u001b[0m\u001b[1;33m[\u001b[0m\u001b[1;36m0\u001b[0m\u001b[1;33m]\u001b[0m\u001b[1;33m\u001b[0m\u001b[1;33m\u001b[0m\u001b[0m\n\u001b[1;32m-> 1031\u001b[1;33m         \u001b[0mout\u001b[0m \u001b[1;33m=\u001b[0m \u001b[0mself\u001b[0m\u001b[1;33m.\u001b[0m\u001b[0m_process_toarray_args\u001b[0m\u001b[1;33m(\u001b[0m\u001b[0morder\u001b[0m\u001b[1;33m,\u001b[0m \u001b[0mout\u001b[0m\u001b[1;33m)\u001b[0m\u001b[1;33m\u001b[0m\u001b[1;33m\u001b[0m\u001b[0m\n\u001b[0m\u001b[0;32m   1032\u001b[0m         \u001b[1;32mif\u001b[0m \u001b[1;32mnot\u001b[0m \u001b[1;33m(\u001b[0m\u001b[0mout\u001b[0m\u001b[1;33m.\u001b[0m\u001b[0mflags\u001b[0m\u001b[1;33m.\u001b[0m\u001b[0mc_contiguous\u001b[0m \u001b[1;32mor\u001b[0m \u001b[0mout\u001b[0m\u001b[1;33m.\u001b[0m\u001b[0mflags\u001b[0m\u001b[1;33m.\u001b[0m\u001b[0mf_contiguous\u001b[0m\u001b[1;33m)\u001b[0m\u001b[1;33m:\u001b[0m\u001b[1;33m\u001b[0m\u001b[1;33m\u001b[0m\u001b[0m\n\u001b[0;32m   1033\u001b[0m             \u001b[1;32mraise\u001b[0m \u001b[0mValueError\u001b[0m\u001b[1;33m(\u001b[0m\u001b[1;34m'Output array must be C or F contiguous'\u001b[0m\u001b[1;33m)\u001b[0m\u001b[1;33m\u001b[0m\u001b[1;33m\u001b[0m\u001b[0m\n",
      "\u001b[1;32mc:\\users\\ya462zd\\appdata\\local\\programs\\python\\python39\\lib\\site-packages\\scipy\\sparse\\base.py\u001b[0m in \u001b[0;36m_process_toarray_args\u001b[1;34m(self, order, out)\u001b[0m\n\u001b[0;32m   1200\u001b[0m             \u001b[1;32mreturn\u001b[0m \u001b[0mout\u001b[0m\u001b[1;33m\u001b[0m\u001b[1;33m\u001b[0m\u001b[0m\n\u001b[0;32m   1201\u001b[0m         \u001b[1;32melse\u001b[0m\u001b[1;33m:\u001b[0m\u001b[1;33m\u001b[0m\u001b[1;33m\u001b[0m\u001b[0m\n\u001b[1;32m-> 1202\u001b[1;33m             \u001b[1;32mreturn\u001b[0m \u001b[0mnp\u001b[0m\u001b[1;33m.\u001b[0m\u001b[0mzeros\u001b[0m\u001b[1;33m(\u001b[0m\u001b[0mself\u001b[0m\u001b[1;33m.\u001b[0m\u001b[0mshape\u001b[0m\u001b[1;33m,\u001b[0m \u001b[0mdtype\u001b[0m\u001b[1;33m=\u001b[0m\u001b[0mself\u001b[0m\u001b[1;33m.\u001b[0m\u001b[0mdtype\u001b[0m\u001b[1;33m,\u001b[0m \u001b[0morder\u001b[0m\u001b[1;33m=\u001b[0m\u001b[0morder\u001b[0m\u001b[1;33m)\u001b[0m\u001b[1;33m\u001b[0m\u001b[1;33m\u001b[0m\u001b[0m\n\u001b[0m\u001b[0;32m   1203\u001b[0m \u001b[1;33m\u001b[0m\u001b[0m\n\u001b[0;32m   1204\u001b[0m \u001b[1;33m\u001b[0m\u001b[0m\n",
      "\u001b[1;31mMemoryError\u001b[0m: Unable to allocate 13.6 GiB for an array with shape (46071, 39557) and data type float64"
     ]
    }
   ],
   "source": [
    "max_scaler = MaxAbsScaler()\n",
    "standardized_data = max_scaler.fit_transform(unigram_counts).todense()\n",
    "print(standardized_data.shape)"
   ]
  },
  {
   "cell_type": "code",
   "execution_count": 30,
   "metadata": {},
   "outputs": [
    {
     "data": {
      "image/png": "[encoded data removed]",
      "text/plain": [
       "<Figure size 483.875x432 with 1 Axes>"
      ]
     },
     "metadata": {
      "needs_background": "light"
     },
     "output_type": "display_data"
    }
   ],
   "source": [
    "from sklearn.manifold import TSNE\n",
    "from time import time\n",
    "labels = final[\"Score\"]\n",
    "data_2000 = standardized_data[0:5000, 0]\n",
    "labels_2000 = labels[0:5000]\n",
    "\n",
    "model = TSNE(n_components=2, random_state=0)\n",
    "tsne_data = model.fit_transform(data_2000)\n",
    "\n",
    "# creating a new data frame which help us in ploting the result data\n",
    "tsne_data = np.vstack((tsne_data.T, labels_2000)).T\n",
    "tsne_df = pd.DataFrame(data=tsne_data, columns=(\"Dim_1\", \"Dim_2\", \"label\"))\n",
    "\n",
    "# Ploting the result of tsne\n",
    "sns.FacetGrid(tsne_df, hue=\"label\", size=6).map(plt.scatter, 'Dim_1', 'Dim_2').add_legend()\n",
    "plt.show()"
   ]
  },
  {
   "cell_type": "code",
   "execution_count": 160,
   "metadata": {},
   "outputs": [],
   "source": [
    "final = final.sort_values('Time', axis=0, ascending=True, inplace=False, kind='quicksort', na_position='last')"
   ]
  },
  {
   "cell_type": "code",
   "execution_count": 161,
   "metadata": {},
   "outputs": [],
   "source": [
    "#split data into train, cross validate and test \n",
    "X = final['preprocessed_reviews']\n",
    "Y = final['Score']\n",
    "\n",
    "X_train, X_test, Y_train, Y_test = train_test_split(X, Y, test_size=.33, random_state=0)\n",
    "X_tr, X_cv, Y_tr, Y_cv = train_test_split(X_train, Y_train, test_size=.33, random_state=0)"
   ]
  },
  {
   "cell_type": "code",
   "execution_count": 162,
   "metadata": {},
   "outputs": [],
   "source": [
    "from sklearn.model_selection import cross_val_score\n",
    "from collections import Counter\n",
    "from sklearn.metrics import accuracy_score\n",
    "from sklearn import model_selection\n",
    "from sklearn.metrics import f1_score\n",
    "from sklearn.metrics import roc_auc_score"
   ]
  },
  {
   "cell_type": "code",
   "execution_count": 169,
   "metadata": {},
   "outputs": [],
   "source": [
    "def Multinomial_Naive_Bayes(X_train, X_cv, Y_train, Y_cv):\n",
    "    selected_lr = 0\n",
    "    max_roc_auc = -1\n",
    "    pred_cv = []\n",
    "    pred_train = []\n",
    "    possible_lr_list = [0.5,0.1,0.05,0.01,0.005,0.001,0.0005,0.0001,0.00005,0.00001]\n",
    "    for i in possible_lr_list[-10:]:\n",
    "        clf = MultinomialNB(alpha=i) # 0.00001\n",
    "        clf.fit(X_train, Y_train)\n",
    "        # clf.fit(X_train, y_train)\n",
    "        # clf.predict(x_test, y_test)\n",
    "        # clf.predict(X_cv)\n",
    "        # We know naive bayes uses probability scores to predict on the test dataset or any unseen (validation data)\n",
    "        probs = clf.predict_proba(X_cv)\n",
    "        prob = clf.predict_proba(X_train)\n",
    "        probs = probs[:,1]\n",
    "        print(probs)\n",
    "        prob = prob[:, 1]\n",
    "        # Actual labels: X_cv, Y_cv\n",
    "        auc_score_cv = roc_auc_score(Y_cv, probs)\n",
    "        auc_score_train = roc_auc_score(Y_train, prob)\n",
    "        print(i, \" ------->>> Validation AUC-ROC \", auc_score_cv)\n",
    "        print(i, \" ------->>> Train AUC-ROC \", auc_score_train)\n",
    "\n",
    "        pred_cv.append(auc_score_cv)\n",
    "        pred_train.append(auc_score_train)\n",
    "        if max_roc_auc < auc_score_cv:\n",
    "            max_roc_auc = auc_score_cv\n",
    "            selected_lr = i\n",
    "        print(\"\\n The best learning rate selected is: \", max_roc_auc)\n",
    "        sns.set_style(\"darkgrid\")\n",
    "        plt.xscale('log')\n",
    "\n",
    "    plt.plot(possible_lr_list, pred_cv, 'r-', label=\"Cross Validation Data\")\n",
    "    plt.plot(possible_lr_list, pred_train, 'g-', label=\"Training Data\")\n",
    "    plt.legend(loc=\"upper right\")\n",
    "    plt.title(r'AUC Score V/S $selected_lr$')\n",
    "    plt.xlabel(r\"Learning Rates\", fontsize=12)\n",
    "    plt.ylabel(\"ROC AUC Score\", fontsize=12)\n",
    "    plt.show()\n",
    "        \n",
    "        # Calculate ROC Curve for the model:\n",
    "        \n",
    "    fpr, tpr, thresholds = roc_curve(Y_cv, probs)\n",
    "    plt.plot([0,1], [0,1], linestyle='--')\n",
    "    plt.plot(fpr, tpr, marker=\".\")\n",
    "    plt.title(\"Line Plot of ROC Curve on Train Data\")\n",
    "    plt.ylabel('True Positive Rate')\n",
    "    plt.xlabel('False Positive Rate')\n",
    "    plt.show()"
   ]
  },
  {
   "cell_type": "code",
   "execution_count": 165,
   "metadata": {},
   "outputs": [],
   "source": [
    "import scikitplot.metrics as skplt\n",
    "from sklearn import metrics\n",
    "def testing(X_train, Y_train, X_test, Y_test, optimal_lr):\n",
    "    clf = MultinomialNB(optimal_lr, fit_prior=True, class_prior=None)\n",
    "    clf.fit(X_train, Y_train)\n",
    "    probs = clf.predict_proba(X_test)\n",
    "    # Storing the probability values for positive outcomes\n",
    "    probs = probs[:,1]\n",
    "    print(\"AUC Score: \", roc_auc_score(Y_test, probs))\n",
    "    fpr, tpr, thresholds = roc_curve(Y_test, probs)\n",
    "    plt.plot([0,1], [0,1], linestyle=\"--\")\n",
    "    \n",
    "    # Plot the ROC Curve for the model\n",
    "    plt.plot(fpr, tpr, marker=\".\")\n",
    "    plt.title(\"ROC Curve on Testing Data\")\n",
    "    plt.ylabel(\"True Positive Rate\")\n",
    "    plt.xlabel(\"False Positive Rate\")\n",
    "    plt.show\n",
    "    prediction = clf.predict(X_test)\n",
    "    skplt.plot_confusion_matrix(Y_test, prediction)\n",
    "    print(\"F1 Score Macro: \", metrics.f1_score(Y_test, prediction, average='macro'))\n",
    "    print(\"F1 Score Micro: \", metrics.f1_score(Y_test, prediction, average=\"micro\"))\n",
    "    print(\"hamming loss for data:\", metrics.hamming_loss(Y_test,prediction))\n",
    "    print(\"Precision recall report for data:\\n\", metrics.classification_report(Y_test, prediction))"
   ]
  },
  {
   "cell_type": "code",
   "execution_count": 166,
   "metadata": {},
   "outputs": [
    {
     "name": "stdout",
     "output_type": "stream",
     "text": [
      "Bag of Words Size:  (20680, 27495)\n",
      "CV Data Size:  (10187, 27495)\n",
      "Test Data Size:  (15204, 27495)\n"
     ]
    }
   ],
   "source": [
    "# Bag of Words\n",
    "count_vect = CountVectorizer() #in scikit-learn\n",
    "bow_train = count_vect.fit_transform(X_tr)\n",
    "print(\"Bag of Words Size: \",bow_train.get_shape())\n",
    "bow_cv = count_vect.transform(X_cv)\n",
    "bow_test = count_vect.transform(X_test)\n",
    "print(\"CV Data Size: \",bow_cv.shape)\n",
    "print(\"Test Data Size: \",bow_test.shape)"
   ]
  },
  {
   "cell_type": "code",
   "execution_count": 167,
   "metadata": {},
   "outputs": [
    {
     "name": "stdout",
     "output_type": "stream",
     "text": [
      "The shape of out text BOW vectorizer  (20680, 27495)\n",
      "CV Data Size:  (10187, 27495)\n",
      "Test Data Size:  (15204, 27495)\n"
     ]
    }
   ],
   "source": [
    "from sklearn import preprocessing\n",
    "from sklearn.preprocessing import Normalizer\n",
    "bow_train=preprocessing.normalize(bow_train)\n",
    "bow_cv=preprocessing.normalize(bow_cv)\n",
    "bow_test=preprocessing.normalize(bow_test)\n",
    "print(\"The shape of out text BOW vectorizer \", bow_train.get_shape())\n",
    "print(\"CV Data Size: \",bow_cv.shape)\n",
    "print(\"Test Data Size: \",bow_test.shape)"
   ]
  },
  {
   "cell_type": "code",
   "execution_count": 41,
   "metadata": {},
   "outputs": [],
   "source": [
    "from imblearn.over_sampling import SMOTE\n",
    "smote = SMOTE(random_state=777,k_neighbors=5)\n",
    "bow_train,Y_tr = smote.fit_resample(bow_train,Y_tr)\n",
    "bow_cv,Y_cv = smote.fit_resample(bow_cv,Y_cv)"
   ]
  },
  {
   "cell_type": "code",
   "execution_count": 95,
   "metadata": {},
   "outputs": [],
   "source": [
    "from imblearn.combine import SMOTEENN\n",
    "smenn = SMOTEENN()\n",
    "bow_train, Y_tr = smenn.fit_resample(bow_train, Y_tr)\n",
    "bow_cv, Y_cv = smote.fit_resample(bow_cv, Y_cv)"
   ]
  },
  {
   "cell_type": "code",
   "execution_count": 100,
   "metadata": {},
   "outputs": [],
   "source": [
    "from imblearn.combine import SMOTETomek\n",
    "smote = SMOTETomek(random_state=777)\n",
    "bow_train,Y_tr = smote.fit_resample(bow_train,Y_tr)\n",
    "bow_cv,Y_cv = smote.fit_resample(bow_cv,Y_cv)"
   ]
  },
  {
   "cell_type": "code",
   "execution_count": 103,
   "metadata": {},
   "outputs": [],
   "source": [
    "from imblearn.over_sampling import ADASYN\n",
    "smote = ADASYN(random_state=130)\n",
    "bow_train,Y_tr = smote.fit_resample(bow_train,Y_tr)\n",
    "bow_cv,Y_cv = smote.fit_resample(bow_cv,Y_cv)"
   ]
  },
  {
   "cell_type": "code",
   "execution_count": 170,
   "metadata": {},
   "outputs": [
    {
     "name": "stdout",
     "output_type": "stream",
     "text": [
      "[0.99556829 0.98838048 0.98126246 ... 0.99726647 0.94182814 0.98935227]\n",
      "0.5  ------->>> Validation AUC-ROC  0.9220927944901746\n",
      "0.5  ------->>> Train AUC-ROC  0.9460351337964967\n",
      "\n",
      " The best learning rate selected is:  0.9220927944901746\n",
      "[0.97652431 0.96506553 0.97686575 ... 0.99248663 0.80589045 0.97910766]\n",
      "0.1  ------->>> Validation AUC-ROC  0.9415690393993876\n",
      "0.1  ------->>> Train AUC-ROC  0.9750517267995191\n",
      "\n",
      " The best learning rate selected is:  0.9415690393993876\n",
      "[0.96995957 0.96037374 0.97882107 ... 0.99104421 0.77913977 0.98271605]\n",
      "0.05  ------->>> Validation AUC-ROC  0.9413590893163841\n",
      "0.05  ------->>> Train AUC-ROC  0.9806306602368398\n",
      "\n",
      " The best learning rate selected is:  0.9415690393993876\n",
      "[0.96642116 0.96060862 0.98547478 ... 0.9895918  0.78158849 0.99318694]\n",
      "0.01  ------->>> Validation AUC-ROC  0.9315570627667458\n",
      "0.01  ------->>> Train AUC-ROC  0.9879211288562859\n",
      "\n",
      " The best learning rate selected is:  0.9415690393993876\n",
      "[0.96753694 0.96259056 0.98802806 ... 0.98938798 0.79391672 0.995832  ]\n",
      "0.005  ------->>> Validation AUC-ROC  0.9241591944350304\n",
      "0.005  ------->>> Train AUC-ROC  0.9895218729996706\n",
      "\n",
      " The best learning rate selected is:  0.9415690393993876\n",
      "[0.97156203 0.96782361 0.99251897 ... 0.98922104 0.82680695 0.99874774]\n",
      "0.001  ------->>> Validation AUC-ROC  0.9028764022999729\n",
      "0.001  ------->>> Train AUC-ROC  0.9916020089051438\n",
      "\n",
      " The best learning rate selected is:  0.9415690393993876\n",
      "[0.97337642 0.96999945 0.99391332 ... 0.98919993 0.84057397 0.9992615 ]\n",
      "0.0005  ------->>> Validation AUC-ROC  0.8930676981314155\n",
      "0.0005  ------->>> Train AUC-ROC  0.9921129564646874\n",
      "\n",
      " The best learning rate selected is:  0.9415690393993876\n",
      "[0.97729078 0.97459288 0.99624069 ... 0.989183   0.86961015 0.99978474]\n",
      "0.0001  ------->>> Validation AUC-ROC  0.8710573327435966\n",
      "0.0001  ------->>> Train AUC-ROC  0.9928831135651659\n",
      "\n",
      " The best learning rate selected is:  0.9415690393993876\n",
      "[0.97881679 0.97636479 0.99694712 ... 0.98918088 0.88073714 0.99987355]\n",
      "5e-05  ------->>> Validation AUC-ROC  0.8621558513174297\n",
      "5e-05  ------->>> Train AUC-ROC  0.9930976963610094\n",
      "\n",
      " The best learning rate selected is:  0.9415690393993876\n",
      "[0.98199329 0.98003259 0.99811844 ... 0.98917918 0.9034796  0.99996326]\n",
      "1e-05  ------->>> Validation AUC-ROC  0.842857748048412\n",
      "1e-05  ------->>> Train AUC-ROC  0.9934478122345385\n",
      "\n",
      " The best learning rate selected is:  0.9415690393993876\n"
     ]
    },
    {
     "data": {
      "image/png": "[encoded data removed]",
      "text/plain": [
       "<Figure size 432x288 with 1 Axes>"
      ]
     },
     "metadata": {},
     "output_type": "display_data"
    },
    {
     "data": {
      "image/png": "[encoded data removed]",
      "text/plain": [
       "<Figure size 432x288 with 1 Axes>"
      ]
     },
     "metadata": {},
     "output_type": "display_data"
    }
   ],
   "source": [
    "Multinomial_Naive_Bayes(bow_train,bow_cv,Y_tr,Y_cv)"
   ]
  },
  {
   "cell_type": "code",
   "execution_count": 105,
   "metadata": {},
   "outputs": [
    {
     "name": "stdout",
     "output_type": "stream",
     "text": [
      "AUC Score:  0.8694924731053862\n",
      "F1 Score Macro:  0.4814927155251274\n",
      "F1 Score Micro:  0.4968429360694554\n",
      "hamming loss for data: 0.5031570639305446\n",
      "Precision recall report for data:\n",
      "               precision    recall  f1-score   support\n",
      "\n",
      "           0       0.25      0.98      0.39      2526\n",
      "           1       0.99      0.40      0.57     12678\n",
      "\n",
      "    accuracy                           0.50     15204\n",
      "   macro avg       0.62      0.69      0.48     15204\n",
      "weighted avg       0.87      0.50      0.54     15204\n",
      "\n"
     ]
    },
    {
     "data": {
      "image/png": "[encoded data removed]",
      "text/plain": [
       "<Figure size 432x288 with 1 Axes>"
      ]
     },
     "metadata": {},
     "output_type": "display_data"
    },
    {
     "data": {
      "image/png": "[encoded data removed]",
      "text/plain": [
       "<Figure size 432x288 with 2 Axes>"
      ]
     },
     "metadata": {},
     "output_type": "display_data"
    }
   ],
   "source": [
    "testing(bow_train,Y_tr,bow_test,Y_test,optimal_lr=0.9415690393993876)"
   ]
  },
  {
   "cell_type": "code",
   "execution_count": 44,
   "metadata": {},
   "outputs": [],
   "source": [
    "X_tr, X_cv, Y_tr, Y_cv = train_test_split(X_train, Y_train, test_size=.33, random_state=0)"
   ]
  },
  {
   "cell_type": "code",
   "execution_count": 45,
   "metadata": {},
   "outputs": [
    {
     "name": "stdout",
     "output_type": "stream",
     "text": [
      "The type of count vectorizer  <class 'scipy.sparse.csr.csr_matrix'>\n",
      "The shape of out text TFIDF vectorizer  (20680, 469501)\n",
      "CV Data Size:  (10187, 469501)\n",
      "Test Data Size:  (15204, 469501)\n"
     ]
    }
   ],
   "source": [
    "tf_idf_vect = TfidfVectorizer(ngram_range=(1,2))\n",
    "tfidf_train = tf_idf_vect.fit_transform(X_tr)\n",
    "print(\"The type of count vectorizer \",type(tfidf_train))\n",
    "print(\"The shape of out text TFIDF vectorizer \",tfidf_train.get_shape())\n",
    "tfidf_cv = tf_idf_vect.transform(X_cv)\n",
    "tfidf_test = tf_idf_vect.transform(X_test)\n",
    "print(\"CV Data Size: \", tfidf_cv.shape)\n",
    "print(\"Test Data Size: \", tfidf_test.shape)"
   ]
  },
  {
   "cell_type": "code",
   "execution_count": 46,
   "metadata": {},
   "outputs": [],
   "source": [
    "smote = SMOTE(random_state=777,k_neighbors=10)\n",
    "tfidf_train,Y_tr = smote.fit_resample(tfidf_train,Y_tr)\n",
    "tfidf_cv,Y_cv = smote.fit_resample(tfidf_cv,Y_cv)"
   ]
  },
  {
   "cell_type": "code",
   "execution_count": 47,
   "metadata": {},
   "outputs": [
    {
     "name": "stdout",
     "output_type": "stream",
     "text": [
      "The shape of out tfidf vectorizer  (34482, 469501)\n",
      "CV Data Size:  (17120, 469501)\n",
      "Test Data Size:  (15204, 469501)\n"
     ]
    }
   ],
   "source": [
    "tfidf_train = preprocessing.normalize(tfidf_train)\n",
    "tfidf_cv=preprocessing.normalize(tfidf_cv)\n",
    "tfidf_test=preprocessing.normalize(tfidf_test)\n",
    "print(\"The shape of out tfidf vectorizer \", tfidf_train.get_shape())\n",
    "print(\"CV Data Size: \", tfidf_cv.shape)\n",
    "print(\"Test Data Size: \", tfidf_test.shape)"
   ]
  },
  {
   "cell_type": "code",
   "execution_count": 48,
   "metadata": {},
   "outputs": [
    {
     "name": "stdout",
     "output_type": "stream",
     "text": [
      "0.5  ------->>>  0.9688619366320204\n",
      "\n",
      " The best learning rate selected is:  0.9688619366320204\n",
      "0.1  ------->>>  0.9510331142457856\n",
      "\n",
      " The best learning rate selected is:  0.9688619366320204\n",
      "0.05  ------->>>  0.9389268576949952\n",
      "\n",
      " The best learning rate selected is:  0.9688619366320204\n",
      "0.01  ------->>>  0.9070757544327015\n",
      "\n",
      " The best learning rate selected is:  0.9688619366320204\n",
      "0.005  ------->>>  0.893722131845576\n",
      "\n",
      " The best learning rate selected is:  0.9688619366320204\n",
      "0.001  ------->>>  0.8667626061773953\n",
      "\n",
      " The best learning rate selected is:  0.9688619366320204\n",
      "0.0005  ------->>>  0.8570194039872479\n",
      "\n",
      " The best learning rate selected is:  0.9688619366320204\n",
      "0.0001  ------->>>  0.8381949706306226\n",
      "\n",
      " The best learning rate selected is:  0.9688619366320204\n",
      "5e-05  ------->>>  0.831467254236178\n",
      "\n",
      " The best learning rate selected is:  0.9688619366320204\n",
      "1e-05  ------->>>  0.8182828058127347\n",
      "\n",
      " The best learning rate selected is:  0.9688619366320204\n"
     ]
    },
    {
     "data": {
      "image/png": "[encoded data removed]",
      "text/plain": [
       "<Figure size 432x288 with 1 Axes>"
      ]
     },
     "metadata": {},
     "output_type": "display_data"
    },
    {
     "data": {
      "image/png": "[encoded data removed]",
      "text/plain": [
       "<Figure size 432x288 with 1 Axes>"
      ]
     },
     "metadata": {},
     "output_type": "display_data"
    }
   ],
   "source": [
    "Multinomial_Naive_Bayes(tfidf_train, tfidf_cv, Y_tr, Y_cv)"
   ]
  },
  {
   "cell_type": "code",
   "execution_count": 49,
   "metadata": {},
   "outputs": [
    {
     "name": "stdout",
     "output_type": "stream",
     "text": [
      "AUC Score:  0.9492546486410398\n",
      "F1 Score Macro:  0.7543790253560856\n",
      "F1 Score Micro:  0.8166272033675348\n",
      "hamming loss for data: 0.18337279663246514\n",
      "Precision recall report for data:\n",
      "               precision    recall  f1-score   support\n",
      "\n",
      "           0       0.47      0.94      0.63      2526\n",
      "           1       0.99      0.79      0.88     12678\n",
      "\n",
      "    accuracy                           0.82     15204\n",
      "   macro avg       0.73      0.87      0.75     15204\n",
      "weighted avg       0.90      0.82      0.84     15204\n",
      "\n"
     ]
    },
    {
     "data": {
      "image/png": "[encoded data removed]",
      "text/plain": [
       "<Figure size 432x288 with 1 Axes>"
      ]
     },
     "metadata": {},
     "output_type": "display_data"
    },
    {
     "data": {
      "image/png": "[encoded data removed]",
      "text/plain": [
       "<Figure size 432x288 with 2 Axes>"
      ]
     },
     "metadata": {},
     "output_type": "display_data"
    }
   ],
   "source": [
    "testing(tfidf_train,Y_tr,tfidf_test,Y_test,optimal_lr=0.9387873444042989)"
   ]
  },
  {
   "cell_type": "code",
   "execution_count": 165,
   "metadata": {},
   "outputs": [
    {
     "name": "stdout",
     "output_type": "stream",
     "text": [
      "0.5  ------->>>  0.9688619366320204\n",
      "\n",
      " The best learning rate selected is:  0.9688619366320204\n",
      "0.1  ------->>>  0.9510331142457856\n",
      "\n",
      " The best learning rate selected is:  0.9688619366320204\n",
      "0.05  ------->>>  0.9389268576949952\n",
      "\n",
      " The best learning rate selected is:  0.9688619366320204\n",
      "0.01  ------->>>  0.9070757544327015\n",
      "\n",
      " The best learning rate selected is:  0.9688619366320204\n",
      "0.005  ------->>>  0.893722131845576\n",
      "\n",
      " The best learning rate selected is:  0.9688619366320204\n",
      "0.001  ------->>>  0.8667626061773953\n",
      "\n",
      " The best learning rate selected is:  0.9688619366320204\n",
      "0.0005  ------->>>  0.8570194039872479\n",
      "\n",
      " The best learning rate selected is:  0.9688619366320204\n",
      "0.0001  ------->>>  0.8381949706306226\n",
      "\n",
      " The best learning rate selected is:  0.9688619366320204\n",
      "5e-05  ------->>>  0.831467254236178\n",
      "\n",
      " The best learning rate selected is:  0.9688619366320204\n",
      "1e-05  ------->>>  0.8182828058127347\n",
      "\n",
      " The best learning rate selected is:  0.9688619366320204\n"
     ]
    },
    {
     "data": {
      "image/png": "[encoded data removed]",
      "text/plain": [
       "<Figure size 432x288 with 1 Axes>"
      ]
     },
     "metadata": {},
     "output_type": "display_data"
    },
    {
     "data": {
      "image/png": "[encoded data removed]",
      "text/plain": [
       "<Figure size 432x288 with 1 Axes>"
      ]
     },
     "metadata": {},
     "output_type": "display_data"
    }
   ],
   "source": [
    "Multinomial_Naive_Bayes(tfidf_train, tfidf_cv, Y_tr, Y_cv)"
   ]
  },
  {
   "cell_type": "code",
   "execution_count": 50,
   "metadata": {},
   "outputs": [
    {
     "name": "stdout",
     "output_type": "stream",
     "text": [
      "AUC Score:  0.9492211431776818\n",
      "F1 Score Macro:  0.7522364483164405\n",
      "F1 Score Micro:  0.8141936332544067\n",
      "hamming loss for data: 0.18580636674559325\n",
      "Precision recall report for data:\n",
      "               precision    recall  f1-score   support\n",
      "\n",
      "           0       0.47      0.95      0.63      2526\n",
      "           1       0.99      0.79      0.88     12678\n",
      "\n",
      "    accuracy                           0.81     15204\n",
      "   macro avg       0.73      0.87      0.75     15204\n",
      "weighted avg       0.90      0.81      0.83     15204\n",
      "\n"
     ]
    },
    {
     "data": {
      "image/png": "[encoded data removed]",
      "text/plain": [
       "<Figure size 432x288 with 1 Axes>"
      ]
     },
     "metadata": {},
     "output_type": "display_data"
    },
    {
     "data": {
      "image/png": "[encoded data removed]",
      "text/plain": [
       "<Figure size 432x288 with 2 Axes>"
      ]
     },
     "metadata": {},
     "output_type": "display_data"
    }
   ],
   "source": [
    "testing(tfidf_train,Y_tr,tfidf_test,Y_test,optimal_lr=0.9688619366320204)"
   ]
  },
  {
   "cell_type": "code",
   "execution_count": 51,
   "metadata": {},
   "outputs": [],
   "source": [
    "from sklearn.linear_model import LogisticRegression\n",
    "\n",
    "def logistic_l2(X_train, X_cv, Y_train, Y_cv):\n",
    "    best_lr = 0\n",
    "    max_roc_auc = -1\n",
    "    pred_cv = []\n",
    "    pred_train = []\n",
    "    c = [0.5, 0.1, 0.05, 0.01, 0.001, 0.005]\n",
    "    for i in c[-6:]:\n",
    "        lr_clf = LogisticRegression(C=i, penalty='l2')\n",
    "        lr_clf.fit(X_train, Y_train)\n",
    "        probs = lr_clf.predict_proba(X_cv)\n",
    "        prob = lr_clf.predict_proba(X_train)\n",
    "        probs = probs[:, 1]\n",
    "        prob = prob[:, 1]\n",
    "        auc_score_cv = roc_auc_score(Y_cv, probs)\n",
    "        auc_score_train = roc_auc_score(Y_train, prob)\n",
    "        print(i, \"For CV Data AUC Score is: \", auc_score_cv, \"and for Train Data AUC Score is: \", auc_score_train)\n",
    "        pred_cv.append(auc_score_cv)\n",
    "        pred_train.append(auc_score_train)\n",
    "        if max_roc_auc < auc_score_cv:\n",
    "            max_roc_auc = auc_score_cv\n",
    "            best_c = i\n",
    "    print(f\"\\n Best learning rate is {best_c} with highest roc_auc Score is {max_roc_auc}\")\n",
    "    sns.set_style(\"darkgrid\")\n",
    "    plt.xscale(\"log\")\n",
    "    plt.plot(c, pred_cv, 'r-', label=\"CV Data\")\n",
    "    plt.plot(c, pred_train, 'g-', label=\"Train Data\")\n",
    "    plt.title(\"AUC Score vs $lambda$\")\n",
    "    plt.xlabel(\"Learning Rate\", fontsize=12)\n",
    "    plt.ylabel(\"ROC AUC Score\", fontsize=12)\n",
    "    plt.show()\n",
    "    \n",
    "    fpr, tpr, thresholds = roc_curve(Y_train, prob)\n",
    "    plt.plot(fpr, tpr, marker=\".\")\n",
    "    plt.title(\"Line Plot of ROC Curve on Train Data\")\n",
    "    plt.xlabel(\"False Positive Rate\")\n",
    "    plt.ylabel(\"True Positive Rate\")\n",
    "    plt.show()"
   ]
  },
  {
   "cell_type": "code",
   "execution_count": 52,
   "metadata": {},
   "outputs": [],
   "source": [
    "def testing_l2(X_train, Y_train, X_test, Y_test, optimal_lr):\n",
    "    clf = LogisticRegression(C=optimal_lr, penalty='l2')\n",
    "    clf.fit(X_train, Y_train)\n",
    "    probs = clf.predict_proba(X_test)\n",
    "    # Storing the probability values for positive outcomes\n",
    "    probs = probs[:,1]\n",
    "    print(\"AUC Score: \", roc_auc_score(Y_test, probs))\n",
    "    fpr, tpr, thresholds = roc_curve(Y_test, probs)\n",
    "    plt.plot([0,1], [0,1], linestyle=\"--\")\n",
    "    \n",
    "    # Plot the ROC Curve for the model\n",
    "    plt.plot(fpr, tpr, marker=\".\")\n",
    "    plt.title(\"ROC Curve on Testing Data\")\n",
    "    plt.ylabel(\"True Positive Rate\")\n",
    "    plt.xlabel(\"False Positive Rate\")\n",
    "    plt.show\n",
    "    prediction = clf.predict(X_test)\n",
    "    skplt.plot_confusion_matrix(Y_test, prediction)\n",
    "    print(\"F1 Score Macro: \", metrics.f1_score(Y_test, prediction, average='macro'))\n",
    "    print(\"F1 Score Micro: \", metrics.f1_score(Y_test, prediction, average=\"micro\"))\n",
    "    print(\"hamming loss for data:\", metrics.hamming_loss(Y_test,prediction))\n",
    "    print(\"Precision recall report for data:\\n\", metrics.classification_report(Y_test, prediction))"
   ]
  },
  {
   "cell_type": "code",
   "execution_count": 53,
   "metadata": {},
   "outputs": [
    {
     "name": "stdout",
     "output_type": "stream",
     "text": [
      "0.5 For CV Data AUC Score is:  0.9676354375928029 and for Train Data AUC Score is:  0.9951728983858653\n",
      "0.1 For CV Data AUC Score is:  0.9526256250545898 and for Train Data AUC Score is:  0.9769849550691623\n",
      "0.05 For CV Data AUC Score is:  0.9453823887457418 and for Train Data AUC Score is:  0.9668878651180914\n",
      "0.01 For CV Data AUC Score is:  0.9334640170538913 and for Train Data AUC Score is:  0.9500030548146104\n",
      "0.001 For CV Data AUC Score is:  0.9287521290069003 and for Train Data AUC Score is:  0.9434398274237817\n",
      "0.005 For CV Data AUC Score is:  0.9309970576032842 and for Train Data AUC Score is:  0.9465585238409148\n",
      "\n",
      " Best learning rate is 0.5 with highest roc_auc Score is 0.9676354375928029\n"
     ]
    },
    {
     "data": {
      "image/png": "[encoded data removed]",
      "text/plain": [
       "<Figure size 432x288 with 1 Axes>"
      ]
     },
     "metadata": {},
     "output_type": "display_data"
    },
    {
     "data": {
      "image/png": "[encoded data removed]",
      "text/plain": [
       "<Figure size 432x288 with 1 Axes>"
      ]
     },
     "metadata": {},
     "output_type": "display_data"
    }
   ],
   "source": [
    "logistic_l2(tfidf_train, tfidf_cv, Y_tr, Y_cv)"
   ]
  },
  {
   "cell_type": "code",
   "execution_count": 58,
   "metadata": {},
   "outputs": [
    {
     "name": "stdout",
     "output_type": "stream",
     "text": [
      "AUC Score:  0.9363069572580203\n",
      "F1 Score Macro:  0.8159426087090025\n",
      "F1 Score Micro:  0.8889108129439621\n",
      "hamming loss for data: 0.11108918705603789\n",
      "Precision recall report for data:\n",
      "               precision    recall  f1-score   support\n",
      "\n",
      "           0       0.63      0.78      0.70      2526\n",
      "           1       0.95      0.91      0.93     12678\n",
      "\n",
      "    accuracy                           0.89     15204\n",
      "   macro avg       0.79      0.85      0.82     15204\n",
      "weighted avg       0.90      0.89      0.89     15204\n",
      "\n"
     ]
    },
    {
     "data": {
      "image/png": "[encoded data removed]",
      "text/plain": [
       "<Figure size 432x288 with 1 Axes>"
      ]
     },
     "metadata": {},
     "output_type": "display_data"
    },
    {
     "data": {
      "image/png": "[encoded data removed]",
      "text/plain": [
       "<Figure size 432x288 with 2 Axes>"
      ]
     },
     "metadata": {},
     "output_type": "display_data"
    }
   ],
   "source": [
    "testing_l2(tfidf_train,Y_tr,tfidf_test,Y_test, optimal_lr=0.5)"
   ]
  },
  {
   "cell_type": "code",
   "execution_count": 64,
   "metadata": {},
   "outputs": [
    {
     "data": {
      "text/html": [
       "<div>\n",
       "<style scoped>\n",
       "    .dataframe tbody tr th:only-of-type {\n",
       "        vertical-align: middle;\n",
       "    }\n",
       "\n",
       "    .dataframe tbody tr th {\n",
       "        vertical-align: top;\n",
       "    }\n",
       "\n",
       "    .dataframe thead th {\n",
       "        text-align: right;\n",
       "    }\n",
       "</style>\n",
       "<table border=\"1\" class=\"dataframe\">\n",
       "  <thead>\n",
       "    <tr style=\"text-align: right;\">\n",
       "      <th></th>\n",
       "      <th>Id</th>\n",
       "      <th>ProductId</th>\n",
       "      <th>UserId</th>\n",
       "      <th>ProfileName</th>\n",
       "      <th>HelpfulnessNumerator</th>\n",
       "      <th>HelpfulnessDenominator</th>\n",
       "      <th>Score</th>\n",
       "      <th>Time</th>\n",
       "      <th>Summary</th>\n",
       "      <th>Text</th>\n",
       "      <th>preprocessed_summary</th>\n",
       "      <th>preprocessed_reviews</th>\n",
       "    </tr>\n",
       "  </thead>\n",
       "  <tbody>\n",
       "    <tr>\n",
       "      <th>1146</th>\n",
       "      <td>1245</td>\n",
       "      <td>B00002Z754</td>\n",
       "      <td>A29Z5PI9BW2PU3</td>\n",
       "      <td>Robbie</td>\n",
       "      <td>7</td>\n",
       "      <td>7</td>\n",
       "      <td>1</td>\n",
       "      <td>961718400</td>\n",
       "      <td>Great Product</td>\n",
       "      <td>This was a really good idea and the final prod...</td>\n",
       "      <td>great product</td>\n",
       "      <td>really good idea final product outstanding use...</td>\n",
       "    </tr>\n",
       "    <tr>\n",
       "      <th>1145</th>\n",
       "      <td>1244</td>\n",
       "      <td>B00002Z754</td>\n",
       "      <td>A3B8RCEI0FXFI6</td>\n",
       "      <td>B G Chase</td>\n",
       "      <td>10</td>\n",
       "      <td>10</td>\n",
       "      <td>1</td>\n",
       "      <td>962236800</td>\n",
       "      <td>WOW Make your own 'slickers' !</td>\n",
       "      <td>I just received my shipment and could hardly w...</td>\n",
       "      <td>wow make islickers</td>\n",
       "      <td>received shipment could hardly wait try produc...</td>\n",
       "    </tr>\n",
       "    <tr>\n",
       "      <th>28086</th>\n",
       "      <td>30629</td>\n",
       "      <td>B00008RCMI</td>\n",
       "      <td>A19E94CF5O1LY7</td>\n",
       "      <td>Andrew Arnold</td>\n",
       "      <td>0</td>\n",
       "      <td>0</td>\n",
       "      <td>1</td>\n",
       "      <td>1067040000</td>\n",
       "      <td>I've chewed this gum many times, but used?</td>\n",
       "      <td>Nothing against the product, but it does bothe...</td>\n",
       "      <td>chewed gum many times used</td>\n",
       "      <td>nothing product bother link top page buy used ...</td>\n",
       "    </tr>\n",
       "    <tr>\n",
       "      <th>28087</th>\n",
       "      <td>30630</td>\n",
       "      <td>B00008RCMI</td>\n",
       "      <td>A284C7M23F0APC</td>\n",
       "      <td>A. Mendoza</td>\n",
       "      <td>0</td>\n",
       "      <td>0</td>\n",
       "      <td>1</td>\n",
       "      <td>1067040000</td>\n",
       "      <td>Best sugarless gum ever!</td>\n",
       "      <td>I love this stuff. It is sugar-free so it does...</td>\n",
       "      <td>best sugarless gum ever</td>\n",
       "      <td>love stuff sugar free not rot gums tastes good...</td>\n",
       "    </tr>\n",
       "    <tr>\n",
       "      <th>38740</th>\n",
       "      <td>42069</td>\n",
       "      <td>B0000EIEQU</td>\n",
       "      <td>A1YMJX4YWCE6P4</td>\n",
       "      <td>Jim Carson \"http://www.jimcarson.com\"</td>\n",
       "      <td>12</td>\n",
       "      <td>12</td>\n",
       "      <td>1</td>\n",
       "      <td>1067558400</td>\n",
       "      <td>These limes rule!</td>\n",
       "      <td>Fresh limes are underappreciated, but a joy to...</td>\n",
       "      <td>limes rule</td>\n",
       "      <td>fresh limes underappreciated joy kitchen squir...</td>\n",
       "    </tr>\n",
       "    <tr>\n",
       "      <th>...</th>\n",
       "      <td>...</td>\n",
       "      <td>...</td>\n",
       "      <td>...</td>\n",
       "      <td>...</td>\n",
       "      <td>...</td>\n",
       "      <td>...</td>\n",
       "      <td>...</td>\n",
       "      <td>...</td>\n",
       "      <td>...</td>\n",
       "      <td>...</td>\n",
       "      <td>...</td>\n",
       "      <td>...</td>\n",
       "    </tr>\n",
       "    <tr>\n",
       "      <th>19181</th>\n",
       "      <td>20930</td>\n",
       "      <td>B001L1MKLY</td>\n",
       "      <td>A38XYFHXEUNUW6</td>\n",
       "      <td>bleaufire</td>\n",
       "      <td>0</td>\n",
       "      <td>0</td>\n",
       "      <td>1</td>\n",
       "      <td>1351209600</td>\n",
       "      <td>Yummy &amp; Subtle</td>\n",
       "      <td>Just made my first pot of this wonderful coffe...</td>\n",
       "      <td>yummy subtle</td>\n",
       "      <td>made first pot wonderful coffee simply delish ...</td>\n",
       "    </tr>\n",
       "    <tr>\n",
       "      <th>14299</th>\n",
       "      <td>15604</td>\n",
       "      <td>B000255OIG</td>\n",
       "      <td>A3SSEJ8IEM4YGW</td>\n",
       "      <td>Seagaul</td>\n",
       "      <td>0</td>\n",
       "      <td>0</td>\n",
       "      <td>1</td>\n",
       "      <td>1351209600</td>\n",
       "      <td>Dogs love it.</td>\n",
       "      <td>This is the \"all gone\" treat after dinner.  It...</td>\n",
       "      <td>dogs love</td>\n",
       "      <td>gone treat dinner treat dogs work run chance l...</td>\n",
       "    </tr>\n",
       "    <tr>\n",
       "      <th>14300</th>\n",
       "      <td>15605</td>\n",
       "      <td>B000255OIG</td>\n",
       "      <td>AUINI96NMGXUI</td>\n",
       "      <td>Kkrys23</td>\n",
       "      <td>0</td>\n",
       "      <td>0</td>\n",
       "      <td>1</td>\n",
       "      <td>1351209600</td>\n",
       "      <td>Love this faucet</td>\n",
       "      <td>Love this faucet.  My husband had installed th...</td>\n",
       "      <td>love faucet</td>\n",
       "      <td>love faucet husband installed one old house cu...</td>\n",
       "    </tr>\n",
       "    <tr>\n",
       "      <th>16026</th>\n",
       "      <td>17512</td>\n",
       "      <td>B0045Z6K50</td>\n",
       "      <td>A3HM6TNYB7FNDL</td>\n",
       "      <td>C. Furman</td>\n",
       "      <td>0</td>\n",
       "      <td>0</td>\n",
       "      <td>1</td>\n",
       "      <td>1351209600</td>\n",
       "      <td>Full- bodied without a bitter after-taste</td>\n",
       "      <td>This is my everyday coffee choice...a good all...</td>\n",
       "      <td>full bodied without bitter taste</td>\n",
       "      <td>everyday coffee choice good around crowd pleas...</td>\n",
       "    </tr>\n",
       "    <tr>\n",
       "      <th>5259</th>\n",
       "      <td>5703</td>\n",
       "      <td>B009WSNWC4</td>\n",
       "      <td>AMP7K1O84DH1T</td>\n",
       "      <td>ESTY</td>\n",
       "      <td>0</td>\n",
       "      <td>0</td>\n",
       "      <td>1</td>\n",
       "      <td>1351209600</td>\n",
       "      <td>DELICIOUS</td>\n",
       "      <td>Purchased this product at a local store in NY ...</td>\n",
       "      <td>delicious</td>\n",
       "      <td>purchased product local store ny kids love qui...</td>\n",
       "    </tr>\n",
       "  </tbody>\n",
       "</table>\n",
       "<p>46071 rows × 12 columns</p>\n",
       "</div>"
      ],
      "text/plain": [
       "          Id   ProductId          UserId  \\\n",
       "1146    1245  B00002Z754  A29Z5PI9BW2PU3   \n",
       "1145    1244  B00002Z754  A3B8RCEI0FXFI6   \n",
       "28086  30629  B00008RCMI  A19E94CF5O1LY7   \n",
       "28087  30630  B00008RCMI  A284C7M23F0APC   \n",
       "38740  42069  B0000EIEQU  A1YMJX4YWCE6P4   \n",
       "...      ...         ...             ...   \n",
       "19181  20930  B001L1MKLY  A38XYFHXEUNUW6   \n",
       "14299  15604  B000255OIG  A3SSEJ8IEM4YGW   \n",
       "14300  15605  B000255OIG   AUINI96NMGXUI   \n",
       "16026  17512  B0045Z6K50  A3HM6TNYB7FNDL   \n",
       "5259    5703  B009WSNWC4   AMP7K1O84DH1T   \n",
       "\n",
       "                                 ProfileName  HelpfulnessNumerator  \\\n",
       "1146                                  Robbie                     7   \n",
       "1145                               B G Chase                    10   \n",
       "28086                          Andrew Arnold                     0   \n",
       "28087                             A. Mendoza                     0   \n",
       "38740  Jim Carson \"http://www.jimcarson.com\"                    12   \n",
       "...                                      ...                   ...   \n",
       "19181                              bleaufire                     0   \n",
       "14299                                Seagaul                     0   \n",
       "14300                                Kkrys23                     0   \n",
       "16026                              C. Furman                     0   \n",
       "5259                                    ESTY                     0   \n",
       "\n",
       "       HelpfulnessDenominator  Score        Time  \\\n",
       "1146                        7      1   961718400   \n",
       "1145                       10      1   962236800   \n",
       "28086                       0      1  1067040000   \n",
       "28087                       0      1  1067040000   \n",
       "38740                      12      1  1067558400   \n",
       "...                       ...    ...         ...   \n",
       "19181                       0      1  1351209600   \n",
       "14299                       0      1  1351209600   \n",
       "14300                       0      1  1351209600   \n",
       "16026                       0      1  1351209600   \n",
       "5259                        0      1  1351209600   \n",
       "\n",
       "                                          Summary  \\\n",
       "1146                                Great Product   \n",
       "1145               WOW Make your own 'slickers' !   \n",
       "28086  I've chewed this gum many times, but used?   \n",
       "28087                    Best sugarless gum ever!   \n",
       "38740                           These limes rule!   \n",
       "...                                           ...   \n",
       "19181                              Yummy & Subtle   \n",
       "14299                               Dogs love it.   \n",
       "14300                            Love this faucet   \n",
       "16026   Full- bodied without a bitter after-taste   \n",
       "5259                                    DELICIOUS   \n",
       "\n",
       "                                                    Text  \\\n",
       "1146   This was a really good idea and the final prod...   \n",
       "1145   I just received my shipment and could hardly w...   \n",
       "28086  Nothing against the product, but it does bothe...   \n",
       "28087  I love this stuff. It is sugar-free so it does...   \n",
       "38740  Fresh limes are underappreciated, but a joy to...   \n",
       "...                                                  ...   \n",
       "19181  Just made my first pot of this wonderful coffe...   \n",
       "14299  This is the \"all gone\" treat after dinner.  It...   \n",
       "14300  Love this faucet.  My husband had installed th...   \n",
       "16026  This is my everyday coffee choice...a good all...   \n",
       "5259   Purchased this product at a local store in NY ...   \n",
       "\n",
       "                   preprocessed_summary  \\\n",
       "1146                      great product   \n",
       "1145                 wow make islickers   \n",
       "28086        chewed gum many times used   \n",
       "28087           best sugarless gum ever   \n",
       "38740                        limes rule   \n",
       "...                                 ...   \n",
       "19181                      yummy subtle   \n",
       "14299                         dogs love   \n",
       "14300                       love faucet   \n",
       "16026  full bodied without bitter taste   \n",
       "5259                          delicious   \n",
       "\n",
       "                                    preprocessed_reviews  \n",
       "1146   really good idea final product outstanding use...  \n",
       "1145   received shipment could hardly wait try produc...  \n",
       "28086  nothing product bother link top page buy used ...  \n",
       "28087  love stuff sugar free not rot gums tastes good...  \n",
       "38740  fresh limes underappreciated joy kitchen squir...  \n",
       "...                                                  ...  \n",
       "19181  made first pot wonderful coffee simply delish ...  \n",
       "14299  gone treat dinner treat dogs work run chance l...  \n",
       "14300  love faucet husband installed one old house cu...  \n",
       "16026  everyday coffee choice good around crowd pleas...  \n",
       "5259   purchased product local store ny kids love qui...  \n",
       "\n",
       "[46071 rows x 12 columns]"
      ]
     },
     "execution_count": 64,
     "metadata": {},
     "output_type": "execute_result"
    }
   ],
   "source": [
    "final"
   ]
  },
  {
   "cell_type": "code",
   "execution_count": 118,
   "metadata": {
    "id": "A65iTgrUP7mT"
   },
   "outputs": [
    {
     "name": "stdout",
     "output_type": "stream",
     "text": [
      "(36856,)\n",
      "Training Size:  (36856,)\n",
      "Test Size:  (9215,)\n",
      "Cross Validation Training Size:  (7372,)\n",
      "Cross Validation Test Size:  (7372,)\n"
     ]
    }
   ],
   "source": [
    "X = final[\"preprocessed_reviews\"]\n",
    "y = final[\"Score\"]\n",
    "X_train, X_test, y_train, y_test = train_test_split(X, y, test_size = 0.20, shuffle=True)\n",
    "print(y_train.shape)\n",
    "X_t, X_cv, y_t, y_cv = train_test_split(X_train, y_train, test_size=0.20, shuffle=True)\n",
    "print(\"Training Size: \", X_train.shape)\n",
    "print(\"Test Size: \", X_test.shape)\n",
    "print(\"Cross Validation Training Size: \", X_cv.shape)\n",
    "print(\"Cross Validation Test Size: \", y_cv.shape)"
   ]
  },
  {
   "cell_type": "code",
   "execution_count": 119,
   "metadata": {},
   "outputs": [
    {
     "name": "stdout",
     "output_type": "stream",
     "text": [
      "The type of count vectorizer  <class 'scipy.sparse.csr.csr_matrix'>\n",
      "The shape of out text TFIDF vectorizer  (29484, 1592897)\n",
      "CV Data Size:  (7372, 1592897)\n",
      "Test Data Size:  (9215, 1592897)\n"
     ]
    }
   ],
   "source": [
    "tf_idf_vect = TfidfVectorizer(ngram_range=(2,3))\n",
    "tfidf_train = tf_idf_vect.fit_transform(X_t)\n",
    "print(\"The type of count vectorizer \", type(tfidf_train))\n",
    "print(\"The shape of out text TFIDF vectorizer \", tfidf_train.get_shape())\n",
    "tfidf_cv = tf_idf_vect.transform(X_cv)\n",
    "tfidf_test = tf_idf_vect.transform(X_test)\n",
    "print(\"CV Data Size: \", tfidf_cv.shape)\n",
    "print(\"Test Data Size: \", tfidf_test.shape)"
   ]
  },
  {
   "cell_type": "code",
   "execution_count": 126,
   "metadata": {},
   "outputs": [],
   "source": [
    "from sklearn.ensemble import RandomForestClassifier\n",
    "def RandomForest(X_train, X_cv, Y_train, Y_cv):\n",
    "    selected_estimator = 0\n",
    "    max_roc_auc = -1\n",
    "    pred_cv = []\n",
    "    pred_train = []\n",
    "    possible_estimator_list = [10, 20, 30, 40, 50, 60, 70, 80, 90, 100]\n",
    "    for i in possible_estimator_list[-10:]:\n",
    "        clf = RandomForestClassifier(n_estimators=i)\n",
    "        clf.fit(X_train, Y_train)\n",
    "        probs = clf.predict_proba(X_cv)\n",
    "        prob = clf.predict_proba(X_train)\n",
    "        probs = probs[:,1]\n",
    "        prob = prob[:, 1]\n",
    "        auc_score_cv = roc_auc_score(Y_cv, probs)\n",
    "        auc_score_train = roc_auc_score(Y_train, prob)\n",
    "        print(i, \" ------->>> \", auc_score_cv)\n",
    "        pred_cv.append(auc_score_cv)\n",
    "        pred_train.append(auc_score_train)\n",
    "        if max_roc_auc < auc_score_cv:\n",
    "            max_roc_auc = auc_score_cv\n",
    "            selected_estimator = i\n",
    "        print(\"\\n The best ROC AUC is: \", max_roc_auc)\n",
    "        print(\"\\n Suitable Estimator: \", selected_estimator)\n",
    "        sns.set_style(\"darkgrid\")\n",
    "        plt.xscale('log')\n",
    "\n",
    "    plt.plot(possible_estimator_list, pred_cv, 'r-', label=\"Cross Validation Data\")\n",
    "    plt.plot(possible_estimator_list, pred_train, 'g-', label=\"Training Data\")\n",
    "    plt.legend(loc=\"upper right\")\n",
    "    plt.title(r'AUC Score V/S $selected_lr$')\n",
    "    plt.xlabel(r\"n_estimators\", fontsize=12)\n",
    "    plt.ylabel(\"ROC AUC Score\", fontsize=12)\n",
    "    plt.show()\n",
    "        \n",
    "        # Calculate ROC Curve for the model:\n",
    "        \n",
    "    fpr, tpr, thresholds = roc_curve(Y_cv, probs)\n",
    "    plt.plot([0,1], [0,1], linestyle='--')\n",
    "    plt.plot(fpr, tpr, marker=\".\")\n",
    "    plt.title(\"Line Plot of ROC Curve on Train Data\")\n",
    "    plt.ylabel('True Positive Rate')\n",
    "    plt.xlabel('False Positive Rate')\n",
    "    plt.show()"
   ]
  },
  {
   "cell_type": "code",
   "execution_count": 121,
   "metadata": {},
   "outputs": [],
   "source": [
    "import scikitplot.metrics as skplt\n",
    "from sklearn import metrics\n",
    "def testing_rf(X_train, Y_train, X_test, Y_test, optimal_estimator):\n",
    "    clf = RandomForestClassifier(optimal_estimator)\n",
    "    clf.fit(X_train, Y_train)\n",
    "    probs = clf.predict_proba(X_test)\n",
    "    # Storing the probability values for positive outcomes\n",
    "    probs = probs[:,1]\n",
    "    print(\"AUC Score: \", roc_auc_score(Y_test, probs))\n",
    "    fpr, tpr, thresholds = roc_curve(Y_test, probs)\n",
    "    plt.plot([0,1], [0,1], linestyle=\"--\")\n",
    "    \n",
    "    # Plot the ROC Curve for the model\n",
    "    plt.plot(fpr, tpr, marker=\".\")\n",
    "    plt.title(\"ROC Curve on Testing Data\")\n",
    "    plt.ylabel(\"True Positive Rate\")\n",
    "    plt.xlabel(\"False Positive Rate\")\n",
    "    plt.show\n",
    "    prediction = clf.predict(X_test)\n",
    "    skplt.plot_confusion_matrix(Y_test, prediction)\n",
    "    print(\"F1 Score Macro: \", metrics.f1_score(Y_test, prediction, average='macro'))\n",
    "    print(\"F1 Score Micro: \", metrics.f1_score(Y_test, prediction, average=\"micro\"))\n",
    "    print(\"hamming loss for data:\", metrics.hamming_loss(Y_test,prediction))\n",
    "    print(\"Precision recall report for data:\\n\", metrics.classification_report(Y_test, prediction))"
   ]
  },
  {
   "cell_type": "code",
   "execution_count": 127,
   "metadata": {},
   "outputs": [
    {
     "name": "stdout",
     "output_type": "stream",
     "text": [
      "10  ------->>>  0.7996532480601511\n",
      "\n",
      " The best ROC AUC is:  0.7996532480601511\n",
      "\n",
      " Suitable Estimator:  10\n",
      "20  ------->>>  0.8327622039594434\n",
      "\n",
      " The best ROC AUC is:  0.8327622039594434\n",
      "\n",
      " Suitable Estimator:  20\n",
      "30  ------->>>  0.8398342399674266\n",
      "\n",
      " The best ROC AUC is:  0.8398342399674266\n",
      "\n",
      " Suitable Estimator:  30\n",
      "40  ------->>>  0.84534438910056\n",
      "\n",
      " The best ROC AUC is:  0.84534438910056\n",
      "\n",
      " Suitable Estimator:  40\n",
      "50  ------->>>  0.8479036262199212\n",
      "\n",
      " The best ROC AUC is:  0.8479036262199212\n",
      "\n",
      " Suitable Estimator:  50\n",
      "60  ------->>>  0.8513563119454185\n",
      "\n",
      " The best ROC AUC is:  0.8513563119454185\n",
      "\n",
      " Suitable Estimator:  60\n",
      "70  ------->>>  0.8538267448091375\n",
      "\n",
      " The best ROC AUC is:  0.8538267448091375\n",
      "\n",
      " Suitable Estimator:  70\n",
      "80  ------->>>  0.8504593691852002\n",
      "\n",
      " The best ROC AUC is:  0.8538267448091375\n",
      "\n",
      " Suitable Estimator:  70\n",
      "90  ------->>>  0.8495172002042167\n",
      "\n",
      " The best ROC AUC is:  0.8538267448091375\n",
      "\n",
      " Suitable Estimator:  70\n",
      "100  ------->>>  0.8520306836833289\n",
      "\n",
      " The best ROC AUC is:  0.8538267448091375\n",
      "\n",
      " Suitable Estimator:  70\n"
     ]
    },
    {
     "data": {
      "image/png": "[encoded data removed]",
      "text/plain": [
       "<Figure size 432x288 with 1 Axes>"
      ]
     },
     "metadata": {},
     "output_type": "display_data"
    },
    {
     "data": {
      "image/png": "[encoded data removed]",
      "text/plain": [
       "<Figure size 432x288 with 1 Axes>"
      ]
     },
     "metadata": {},
     "output_type": "display_data"
    }
   ],
   "source": [
    "RandomForest(tfidf_train,tfidf_cv,y_t, y_cv)"
   ]
  },
  {
   "cell_type": "code",
   "execution_count": 130,
   "metadata": {},
   "outputs": [
    {
     "name": "stdout",
     "output_type": "stream",
     "text": [
      "AUC Score:  0.8547630069924976\n",
      "F1 Score Macro:  0.6649726162992402\n",
      "F1 Score Micro:  0.8683667932718394\n",
      "hamming loss for data: 0.13163320672816062\n",
      "Precision recall report for data:\n",
      "               precision    recall  f1-score   support\n",
      "\n",
      "           0       0.83      0.27      0.40      1538\n",
      "           1       0.87      0.99      0.93      7677\n",
      "\n",
      "    accuracy                           0.87      9215\n",
      "   macro avg       0.85      0.63      0.66      9215\n",
      "weighted avg       0.86      0.87      0.84      9215\n",
      "\n"
     ]
    },
    {
     "data": {
      "image/png": "[encoded data removed]",
      "text/plain": [
       "<Figure size 432x288 with 1 Axes>"
      ]
     },
     "metadata": {},
     "output_type": "display_data"
    },
    {
     "data": {
      "image/png": "[encoded data removed]",
      "text/plain": [
       "<Figure size 432x288 with 2 Axes>"
      ]
     },
     "metadata": {},
     "output_type": "display_data"
    }
   ],
   "source": [
    "testing_rf(tfidf_train,y_t,tfidf_test,y_test, optimal_estimator=70)"
   ]
  },
  {
   "cell_type": "code",
   "execution_count": 72,
   "metadata": {},
   "outputs": [],
   "source": [
    "def plot_loss(x_t, y_cv, y_t, ax, colors=['b']):\n",
    "    fig,ax = plt.subplots(1,1)\n",
    "    ax.plot(x_t, y_cv, 'b', label=\"Validation Loss\")\n",
    "    ax.plot(x_t, y_t, 'r', label=\"Training Loss\")\n",
    "    plt.legend()\n",
    "    plt.grid()\n",
    "    fig.canvas.draw()\n",
    "    \n",
    "n_epochs = 10\n",
    "batchsize = 64\n",
    "\n",
    "final_output = pd.DataFrame(columns=[\"Model\", \"Architecture\",\n",
    "                                     \"TRAIN_LOSS\", \"TEST_LOSS\", \"TRAIN_ACC\", \"TEST_ACC\"]);"
   ]
  },
  {
   "cell_type": "code",
   "execution_count": 92,
   "metadata": {},
   "outputs": [
    {
     "ename": "NotImplementedError",
     "evalue": "Cannot convert a symbolic Tensor (lstm_2/strided_slice:0) to a numpy array. This error may indicate that you're trying to pass a Tensor to a NumPy call, which is not supported",
     "output_type": "error",
     "traceback": [
      "\u001b[1;31m---------------------------------------------------------------------------\u001b[0m",
      "\u001b[1;31mNotImplementedError\u001b[0m                       Traceback (most recent call last)",
      "\u001b[1;32m<ipython-input-92-523267ed8576>\u001b[0m in \u001b[0;36m<module>\u001b[1;34m\u001b[0m\n\u001b[0;32m      7\u001b[0m \u001b[0mmodel\u001b[0m \u001b[1;33m=\u001b[0m \u001b[0mkeras\u001b[0m\u001b[1;33m.\u001b[0m\u001b[0mSequential\u001b[0m\u001b[1;33m(\u001b[0m\u001b[1;33m)\u001b[0m\u001b[1;33m\u001b[0m\u001b[1;33m\u001b[0m\u001b[0m\n\u001b[0;32m      8\u001b[0m \u001b[0mmodel\u001b[0m\u001b[1;33m.\u001b[0m\u001b[0madd\u001b[0m\u001b[1;33m(\u001b[0m\u001b[0mlayers\u001b[0m\u001b[1;33m.\u001b[0m\u001b[0mEmbedding\u001b[0m\u001b[1;33m(\u001b[0m\u001b[1;36m5000\u001b[0m\u001b[1;33m,\u001b[0m \u001b[0membed_vector_length\u001b[0m\u001b[1;33m,\u001b[0m \u001b[0minput_length\u001b[0m\u001b[1;33m=\u001b[0m\u001b[1;36m1000\u001b[0m\u001b[1;33m)\u001b[0m\u001b[1;33m)\u001b[0m\u001b[1;33m\u001b[0m\u001b[1;33m\u001b[0m\u001b[0m\n\u001b[1;32m----> 9\u001b[1;33m \u001b[0mmodel\u001b[0m\u001b[1;33m.\u001b[0m\u001b[0madd\u001b[0m\u001b[1;33m(\u001b[0m\u001b[0mlayers\u001b[0m\u001b[1;33m.\u001b[0m\u001b[0mLSTM\u001b[0m\u001b[1;33m(\u001b[0m\u001b[1;36m100\u001b[0m\u001b[1;33m)\u001b[0m\u001b[1;33m)\u001b[0m\u001b[1;33m\u001b[0m\u001b[1;33m\u001b[0m\u001b[0m\n\u001b[0m\u001b[0;32m     10\u001b[0m \u001b[0mmodel\u001b[0m\u001b[1;33m.\u001b[0m\u001b[0madd\u001b[0m\u001b[1;33m(\u001b[0m\u001b[0mlayers\u001b[0m\u001b[1;33m.\u001b[0m\u001b[0mDense\u001b[0m\u001b[1;33m(\u001b[0m\u001b[1;36m1\u001b[0m\u001b[1;33m,\u001b[0m \u001b[0mactivation\u001b[0m\u001b[1;33m=\u001b[0m\u001b[1;34m'sigmoid'\u001b[0m\u001b[1;33m)\u001b[0m\u001b[1;33m)\u001b[0m\u001b[1;33m\u001b[0m\u001b[1;33m\u001b[0m\u001b[0m\n\u001b[0;32m     11\u001b[0m \u001b[0mmodel\u001b[0m\u001b[1;33m.\u001b[0m\u001b[0mcompile\u001b[0m\u001b[1;33m(\u001b[0m\u001b[0mloss\u001b[0m\u001b[1;33m=\u001b[0m\u001b[1;34m'binary_crossentropy'\u001b[0m\u001b[1;33m,\u001b[0m \u001b[0moptimizer\u001b[0m\u001b[1;33m=\u001b[0m\u001b[1;34m'adam'\u001b[0m\u001b[1;33m,\u001b[0m \u001b[0mmetrics\u001b[0m\u001b[1;33m=\u001b[0m\u001b[1;33m[\u001b[0m\u001b[1;34m'accuracy'\u001b[0m\u001b[1;33m]\u001b[0m\u001b[1;33m)\u001b[0m\u001b[1;33m\u001b[0m\u001b[1;33m\u001b[0m\u001b[0m\n",
      "\u001b[1;32mc:\\users\\ya462zd\\appdata\\local\\programs\\python\\python39\\lib\\site-packages\\tensorflow\\python\\training\\tracking\\base.py\u001b[0m in \u001b[0;36m_method_wrapper\u001b[1;34m(self, *args, **kwargs)\u001b[0m\n\u001b[0;32m    520\u001b[0m     \u001b[0mself\u001b[0m\u001b[1;33m.\u001b[0m\u001b[0m_self_setattr_tracking\u001b[0m \u001b[1;33m=\u001b[0m \u001b[1;32mFalse\u001b[0m  \u001b[1;31m# pylint: disable=protected-access\u001b[0m\u001b[1;33m\u001b[0m\u001b[1;33m\u001b[0m\u001b[0m\n\u001b[0;32m    521\u001b[0m     \u001b[1;32mtry\u001b[0m\u001b[1;33m:\u001b[0m\u001b[1;33m\u001b[0m\u001b[1;33m\u001b[0m\u001b[0m\n\u001b[1;32m--> 522\u001b[1;33m       \u001b[0mresult\u001b[0m \u001b[1;33m=\u001b[0m \u001b[0mmethod\u001b[0m\u001b[1;33m(\u001b[0m\u001b[0mself\u001b[0m\u001b[1;33m,\u001b[0m \u001b[1;33m*\u001b[0m\u001b[0margs\u001b[0m\u001b[1;33m,\u001b[0m \u001b[1;33m**\u001b[0m\u001b[0mkwargs\u001b[0m\u001b[1;33m)\u001b[0m\u001b[1;33m\u001b[0m\u001b[1;33m\u001b[0m\u001b[0m\n\u001b[0m\u001b[0;32m    523\u001b[0m     \u001b[1;32mfinally\u001b[0m\u001b[1;33m:\u001b[0m\u001b[1;33m\u001b[0m\u001b[1;33m\u001b[0m\u001b[0m\n\u001b[0;32m    524\u001b[0m       \u001b[0mself\u001b[0m\u001b[1;33m.\u001b[0m\u001b[0m_self_setattr_tracking\u001b[0m \u001b[1;33m=\u001b[0m \u001b[0mprevious_value\u001b[0m  \u001b[1;31m# pylint: disable=protected-access\u001b[0m\u001b[1;33m\u001b[0m\u001b[1;33m\u001b[0m\u001b[0m\n",
      "\u001b[1;32mc:\\users\\ya462zd\\appdata\\local\\programs\\python\\python39\\lib\\site-packages\\tensorflow\\python\\keras\\engine\\sequential.py\u001b[0m in \u001b[0;36madd\u001b[1;34m(self, layer)\u001b[0m\n\u001b[0;32m    226\u001b[0m       \u001b[1;31m# If the model is being built continuously on top of an input layer:\u001b[0m\u001b[1;33m\u001b[0m\u001b[1;33m\u001b[0m\u001b[1;33m\u001b[0m\u001b[0m\n\u001b[0;32m    227\u001b[0m       \u001b[1;31m# refresh its output.\u001b[0m\u001b[1;33m\u001b[0m\u001b[1;33m\u001b[0m\u001b[1;33m\u001b[0m\u001b[0m\n\u001b[1;32m--> 228\u001b[1;33m       \u001b[0moutput_tensor\u001b[0m \u001b[1;33m=\u001b[0m \u001b[0mlayer\u001b[0m\u001b[1;33m(\u001b[0m\u001b[0mself\u001b[0m\u001b[1;33m.\u001b[0m\u001b[0moutputs\u001b[0m\u001b[1;33m[\u001b[0m\u001b[1;36m0\u001b[0m\u001b[1;33m]\u001b[0m\u001b[1;33m)\u001b[0m\u001b[1;33m\u001b[0m\u001b[1;33m\u001b[0m\u001b[0m\n\u001b[0m\u001b[0;32m    229\u001b[0m       \u001b[1;32mif\u001b[0m \u001b[0mlen\u001b[0m\u001b[1;33m(\u001b[0m\u001b[0mnest\u001b[0m\u001b[1;33m.\u001b[0m\u001b[0mflatten\u001b[0m\u001b[1;33m(\u001b[0m\u001b[0moutput_tensor\u001b[0m\u001b[1;33m)\u001b[0m\u001b[1;33m)\u001b[0m \u001b[1;33m!=\u001b[0m \u001b[1;36m1\u001b[0m\u001b[1;33m:\u001b[0m\u001b[1;33m\u001b[0m\u001b[1;33m\u001b[0m\u001b[0m\n\u001b[0;32m    230\u001b[0m         \u001b[1;32mraise\u001b[0m \u001b[0mValueError\u001b[0m\u001b[1;33m(\u001b[0m\u001b[0mSINGLE_LAYER_OUTPUT_ERROR_MSG\u001b[0m\u001b[1;33m)\u001b[0m\u001b[1;33m\u001b[0m\u001b[1;33m\u001b[0m\u001b[0m\n",
      "\u001b[1;32mc:\\users\\ya462zd\\appdata\\local\\programs\\python\\python39\\lib\\site-packages\\tensorflow\\python\\keras\\layers\\recurrent.py\u001b[0m in \u001b[0;36m__call__\u001b[1;34m(self, inputs, initial_state, constants, **kwargs)\u001b[0m\n\u001b[0;32m    666\u001b[0m \u001b[1;33m\u001b[0m\u001b[0m\n\u001b[0;32m    667\u001b[0m     \u001b[1;32mif\u001b[0m \u001b[0minitial_state\u001b[0m \u001b[1;32mis\u001b[0m \u001b[1;32mNone\u001b[0m \u001b[1;32mand\u001b[0m \u001b[0mconstants\u001b[0m \u001b[1;32mis\u001b[0m \u001b[1;32mNone\u001b[0m\u001b[1;33m:\u001b[0m\u001b[1;33m\u001b[0m\u001b[1;33m\u001b[0m\u001b[0m\n\u001b[1;32m--> 668\u001b[1;33m       \u001b[1;32mreturn\u001b[0m \u001b[0msuper\u001b[0m\u001b[1;33m(\u001b[0m\u001b[0mRNN\u001b[0m\u001b[1;33m,\u001b[0m \u001b[0mself\u001b[0m\u001b[1;33m)\u001b[0m\u001b[1;33m.\u001b[0m\u001b[0m__call__\u001b[0m\u001b[1;33m(\u001b[0m\u001b[0minputs\u001b[0m\u001b[1;33m,\u001b[0m \u001b[1;33m**\u001b[0m\u001b[0mkwargs\u001b[0m\u001b[1;33m)\u001b[0m\u001b[1;33m\u001b[0m\u001b[1;33m\u001b[0m\u001b[0m\n\u001b[0m\u001b[0;32m    669\u001b[0m \u001b[1;33m\u001b[0m\u001b[0m\n\u001b[0;32m    670\u001b[0m     \u001b[1;31m# If any of `initial_state` or `constants` are specified and are Keras\u001b[0m\u001b[1;33m\u001b[0m\u001b[1;33m\u001b[0m\u001b[1;33m\u001b[0m\u001b[0m\n",
      "\u001b[1;32mc:\\users\\ya462zd\\appdata\\local\\programs\\python\\python39\\lib\\site-packages\\tensorflow\\python\\keras\\engine\\base_layer.py\u001b[0m in \u001b[0;36m__call__\u001b[1;34m(self, *args, **kwargs)\u001b[0m\n\u001b[0;32m    967\u001b[0m     \u001b[1;31m# >> model = tf.keras.Model(inputs, outputs)\u001b[0m\u001b[1;33m\u001b[0m\u001b[1;33m\u001b[0m\u001b[1;33m\u001b[0m\u001b[0m\n\u001b[0;32m    968\u001b[0m     \u001b[1;32mif\u001b[0m \u001b[0m_in_functional_construction_mode\u001b[0m\u001b[1;33m(\u001b[0m\u001b[0mself\u001b[0m\u001b[1;33m,\u001b[0m \u001b[0minputs\u001b[0m\u001b[1;33m,\u001b[0m \u001b[0margs\u001b[0m\u001b[1;33m,\u001b[0m \u001b[0mkwargs\u001b[0m\u001b[1;33m,\u001b[0m \u001b[0minput_list\u001b[0m\u001b[1;33m)\u001b[0m\u001b[1;33m:\u001b[0m\u001b[1;33m\u001b[0m\u001b[1;33m\u001b[0m\u001b[0m\n\u001b[1;32m--> 969\u001b[1;33m       return self._functional_construction_call(inputs, args, kwargs,\n\u001b[0m\u001b[0;32m    970\u001b[0m                                                 input_list)\n\u001b[0;32m    971\u001b[0m \u001b[1;33m\u001b[0m\u001b[0m\n",
      "\u001b[1;32mc:\\users\\ya462zd\\appdata\\local\\programs\\python\\python39\\lib\\site-packages\\tensorflow\\python\\keras\\engine\\base_layer.py\u001b[0m in \u001b[0;36m_functional_construction_call\u001b[1;34m(self, inputs, args, kwargs, input_list)\u001b[0m\n\u001b[0;32m   1105\u001b[0m         layer=self, inputs=inputs, build_graph=True, training=training_value):\n\u001b[0;32m   1106\u001b[0m       \u001b[1;31m# Check input assumptions set after layer building, e.g. input shape.\u001b[0m\u001b[1;33m\u001b[0m\u001b[1;33m\u001b[0m\u001b[1;33m\u001b[0m\u001b[0m\n\u001b[1;32m-> 1107\u001b[1;33m       outputs = self._keras_tensor_symbolic_call(\n\u001b[0m\u001b[0;32m   1108\u001b[0m           inputs, input_masks, args, kwargs)\n\u001b[0;32m   1109\u001b[0m \u001b[1;33m\u001b[0m\u001b[0m\n",
      "\u001b[1;32mc:\\users\\ya462zd\\appdata\\local\\programs\\python\\python39\\lib\\site-packages\\tensorflow\\python\\keras\\engine\\base_layer.py\u001b[0m in \u001b[0;36m_keras_tensor_symbolic_call\u001b[1;34m(self, inputs, input_masks, args, kwargs)\u001b[0m\n\u001b[0;32m    838\u001b[0m       \u001b[1;32mreturn\u001b[0m \u001b[0mnest\u001b[0m\u001b[1;33m.\u001b[0m\u001b[0mmap_structure\u001b[0m\u001b[1;33m(\u001b[0m\u001b[0mkeras_tensor\u001b[0m\u001b[1;33m.\u001b[0m\u001b[0mKerasTensor\u001b[0m\u001b[1;33m,\u001b[0m \u001b[0moutput_signature\u001b[0m\u001b[1;33m)\u001b[0m\u001b[1;33m\u001b[0m\u001b[1;33m\u001b[0m\u001b[0m\n\u001b[0;32m    839\u001b[0m     \u001b[1;32melse\u001b[0m\u001b[1;33m:\u001b[0m\u001b[1;33m\u001b[0m\u001b[1;33m\u001b[0m\u001b[0m\n\u001b[1;32m--> 840\u001b[1;33m       \u001b[1;32mreturn\u001b[0m \u001b[0mself\u001b[0m\u001b[1;33m.\u001b[0m\u001b[0m_infer_output_signature\u001b[0m\u001b[1;33m(\u001b[0m\u001b[0minputs\u001b[0m\u001b[1;33m,\u001b[0m \u001b[0margs\u001b[0m\u001b[1;33m,\u001b[0m \u001b[0mkwargs\u001b[0m\u001b[1;33m,\u001b[0m \u001b[0minput_masks\u001b[0m\u001b[1;33m)\u001b[0m\u001b[1;33m\u001b[0m\u001b[1;33m\u001b[0m\u001b[0m\n\u001b[0m\u001b[0;32m    841\u001b[0m \u001b[1;33m\u001b[0m\u001b[0m\n\u001b[0;32m    842\u001b[0m   \u001b[1;32mdef\u001b[0m \u001b[0m_infer_output_signature\u001b[0m\u001b[1;33m(\u001b[0m\u001b[0mself\u001b[0m\u001b[1;33m,\u001b[0m \u001b[0minputs\u001b[0m\u001b[1;33m,\u001b[0m \u001b[0margs\u001b[0m\u001b[1;33m,\u001b[0m \u001b[0mkwargs\u001b[0m\u001b[1;33m,\u001b[0m \u001b[0minput_masks\u001b[0m\u001b[1;33m)\u001b[0m\u001b[1;33m:\u001b[0m\u001b[1;33m\u001b[0m\u001b[1;33m\u001b[0m\u001b[0m\n",
      "\u001b[1;32mc:\\users\\ya462zd\\appdata\\local\\programs\\python\\python39\\lib\\site-packages\\tensorflow\\python\\keras\\engine\\base_layer.py\u001b[0m in \u001b[0;36m_infer_output_signature\u001b[1;34m(self, inputs, args, kwargs, input_masks)\u001b[0m\n\u001b[0;32m    878\u001b[0m           \u001b[0mself\u001b[0m\u001b[1;33m.\u001b[0m\u001b[0m_maybe_build\u001b[0m\u001b[1;33m(\u001b[0m\u001b[0minputs\u001b[0m\u001b[1;33m)\u001b[0m\u001b[1;33m\u001b[0m\u001b[1;33m\u001b[0m\u001b[0m\n\u001b[0;32m    879\u001b[0m           \u001b[0minputs\u001b[0m \u001b[1;33m=\u001b[0m \u001b[0mself\u001b[0m\u001b[1;33m.\u001b[0m\u001b[0m_maybe_cast_inputs\u001b[0m\u001b[1;33m(\u001b[0m\u001b[0minputs\u001b[0m\u001b[1;33m)\u001b[0m\u001b[1;33m\u001b[0m\u001b[1;33m\u001b[0m\u001b[0m\n\u001b[1;32m--> 880\u001b[1;33m           \u001b[0moutputs\u001b[0m \u001b[1;33m=\u001b[0m \u001b[0mcall_fn\u001b[0m\u001b[1;33m(\u001b[0m\u001b[0minputs\u001b[0m\u001b[1;33m,\u001b[0m \u001b[1;33m*\u001b[0m\u001b[0margs\u001b[0m\u001b[1;33m,\u001b[0m \u001b[1;33m**\u001b[0m\u001b[0mkwargs\u001b[0m\u001b[1;33m)\u001b[0m\u001b[1;33m\u001b[0m\u001b[1;33m\u001b[0m\u001b[0m\n\u001b[0m\u001b[0;32m    881\u001b[0m \u001b[1;33m\u001b[0m\u001b[0m\n\u001b[0;32m    882\u001b[0m         \u001b[0mself\u001b[0m\u001b[1;33m.\u001b[0m\u001b[0m_handle_activity_regularization\u001b[0m\u001b[1;33m(\u001b[0m\u001b[0minputs\u001b[0m\u001b[1;33m,\u001b[0m \u001b[0moutputs\u001b[0m\u001b[1;33m)\u001b[0m\u001b[1;33m\u001b[0m\u001b[1;33m\u001b[0m\u001b[0m\n",
      "\u001b[1;32mc:\\users\\ya462zd\\appdata\\local\\programs\\python\\python39\\lib\\site-packages\\tensorflow\\python\\keras\\layers\\recurrent_v2.py\u001b[0m in \u001b[0;36mcall\u001b[1;34m(self, inputs, mask, training, initial_state)\u001b[0m\n\u001b[0;32m   1151\u001b[0m \u001b[1;33m\u001b[0m\u001b[0m\n\u001b[0;32m   1152\u001b[0m     \u001b[1;31m# LSTM does not support constants. Ignore it during process.\u001b[0m\u001b[1;33m\u001b[0m\u001b[1;33m\u001b[0m\u001b[1;33m\u001b[0m\u001b[0m\n\u001b[1;32m-> 1153\u001b[1;33m     \u001b[0minputs\u001b[0m\u001b[1;33m,\u001b[0m \u001b[0minitial_state\u001b[0m\u001b[1;33m,\u001b[0m \u001b[0m_\u001b[0m \u001b[1;33m=\u001b[0m \u001b[0mself\u001b[0m\u001b[1;33m.\u001b[0m\u001b[0m_process_inputs\u001b[0m\u001b[1;33m(\u001b[0m\u001b[0minputs\u001b[0m\u001b[1;33m,\u001b[0m \u001b[0minitial_state\u001b[0m\u001b[1;33m,\u001b[0m \u001b[1;32mNone\u001b[0m\u001b[1;33m)\u001b[0m\u001b[1;33m\u001b[0m\u001b[1;33m\u001b[0m\u001b[0m\n\u001b[0m\u001b[0;32m   1154\u001b[0m \u001b[1;33m\u001b[0m\u001b[0m\n\u001b[0;32m   1155\u001b[0m     \u001b[1;32mif\u001b[0m \u001b[0misinstance\u001b[0m\u001b[1;33m(\u001b[0m\u001b[0mmask\u001b[0m\u001b[1;33m,\u001b[0m \u001b[0mlist\u001b[0m\u001b[1;33m)\u001b[0m\u001b[1;33m:\u001b[0m\u001b[1;33m\u001b[0m\u001b[1;33m\u001b[0m\u001b[0m\n",
      "\u001b[1;32mc:\\users\\ya462zd\\appdata\\local\\programs\\python\\python39\\lib\\site-packages\\tensorflow\\python\\keras\\layers\\recurrent.py\u001b[0m in \u001b[0;36m_process_inputs\u001b[1;34m(self, inputs, initial_state, constants)\u001b[0m\n\u001b[0;32m    866\u001b[0m         \u001b[0minitial_state\u001b[0m \u001b[1;33m=\u001b[0m \u001b[0mself\u001b[0m\u001b[1;33m.\u001b[0m\u001b[0mstates\u001b[0m\u001b[1;33m\u001b[0m\u001b[1;33m\u001b[0m\u001b[0m\n\u001b[0;32m    867\u001b[0m     \u001b[1;32melif\u001b[0m \u001b[0minitial_state\u001b[0m \u001b[1;32mis\u001b[0m \u001b[1;32mNone\u001b[0m\u001b[1;33m:\u001b[0m\u001b[1;33m\u001b[0m\u001b[1;33m\u001b[0m\u001b[0m\n\u001b[1;32m--> 868\u001b[1;33m       \u001b[0minitial_state\u001b[0m \u001b[1;33m=\u001b[0m \u001b[0mself\u001b[0m\u001b[1;33m.\u001b[0m\u001b[0mget_initial_state\u001b[0m\u001b[1;33m(\u001b[0m\u001b[0minputs\u001b[0m\u001b[1;33m)\u001b[0m\u001b[1;33m\u001b[0m\u001b[1;33m\u001b[0m\u001b[0m\n\u001b[0m\u001b[0;32m    869\u001b[0m \u001b[1;33m\u001b[0m\u001b[0m\n\u001b[0;32m    870\u001b[0m     \u001b[1;32mif\u001b[0m \u001b[0mlen\u001b[0m\u001b[1;33m(\u001b[0m\u001b[0minitial_state\u001b[0m\u001b[1;33m)\u001b[0m \u001b[1;33m!=\u001b[0m \u001b[0mlen\u001b[0m\u001b[1;33m(\u001b[0m\u001b[0mself\u001b[0m\u001b[1;33m.\u001b[0m\u001b[0mstates\u001b[0m\u001b[1;33m)\u001b[0m\u001b[1;33m:\u001b[0m\u001b[1;33m\u001b[0m\u001b[1;33m\u001b[0m\u001b[0m\n",
      "\u001b[1;32mc:\\users\\ya462zd\\appdata\\local\\programs\\python\\python39\\lib\\site-packages\\tensorflow\\python\\keras\\layers\\recurrent.py\u001b[0m in \u001b[0;36mget_initial_state\u001b[1;34m(self, inputs)\u001b[0m\n\u001b[0;32m    648\u001b[0m     \u001b[0mdtype\u001b[0m \u001b[1;33m=\u001b[0m \u001b[0minputs\u001b[0m\u001b[1;33m.\u001b[0m\u001b[0mdtype\u001b[0m\u001b[1;33m\u001b[0m\u001b[1;33m\u001b[0m\u001b[0m\n\u001b[0;32m    649\u001b[0m     \u001b[1;32mif\u001b[0m \u001b[0mget_initial_state_fn\u001b[0m\u001b[1;33m:\u001b[0m\u001b[1;33m\u001b[0m\u001b[1;33m\u001b[0m\u001b[0m\n\u001b[1;32m--> 650\u001b[1;33m       init_state = get_initial_state_fn(\n\u001b[0m\u001b[0;32m    651\u001b[0m           inputs=None, batch_size=batch_size, dtype=dtype)\n\u001b[0;32m    652\u001b[0m     \u001b[1;32melse\u001b[0m\u001b[1;33m:\u001b[0m\u001b[1;33m\u001b[0m\u001b[1;33m\u001b[0m\u001b[0m\n",
      "\u001b[1;32mc:\\users\\ya462zd\\appdata\\local\\programs\\python\\python39\\lib\\site-packages\\tensorflow\\python\\keras\\layers\\recurrent.py\u001b[0m in \u001b[0;36mget_initial_state\u001b[1;34m(self, inputs, batch_size, dtype)\u001b[0m\n\u001b[0;32m   2514\u001b[0m \u001b[1;33m\u001b[0m\u001b[0m\n\u001b[0;32m   2515\u001b[0m   \u001b[1;32mdef\u001b[0m \u001b[0mget_initial_state\u001b[0m\u001b[1;33m(\u001b[0m\u001b[0mself\u001b[0m\u001b[1;33m,\u001b[0m \u001b[0minputs\u001b[0m\u001b[1;33m=\u001b[0m\u001b[1;32mNone\u001b[0m\u001b[1;33m,\u001b[0m \u001b[0mbatch_size\u001b[0m\u001b[1;33m=\u001b[0m\u001b[1;32mNone\u001b[0m\u001b[1;33m,\u001b[0m \u001b[0mdtype\u001b[0m\u001b[1;33m=\u001b[0m\u001b[1;32mNone\u001b[0m\u001b[1;33m)\u001b[0m\u001b[1;33m:\u001b[0m\u001b[1;33m\u001b[0m\u001b[1;33m\u001b[0m\u001b[0m\n\u001b[1;32m-> 2516\u001b[1;33m     return list(_generate_zero_filled_state_for_cell(\n\u001b[0m\u001b[0;32m   2517\u001b[0m         self, inputs, batch_size, dtype))\n\u001b[0;32m   2518\u001b[0m \u001b[1;33m\u001b[0m\u001b[0m\n",
      "\u001b[1;32mc:\\users\\ya462zd\\appdata\\local\\programs\\python\\python39\\lib\\site-packages\\tensorflow\\python\\keras\\layers\\recurrent.py\u001b[0m in \u001b[0;36m_generate_zero_filled_state_for_cell\u001b[1;34m(cell, inputs, batch_size, dtype)\u001b[0m\n\u001b[0;32m   2996\u001b[0m     \u001b[0mbatch_size\u001b[0m \u001b[1;33m=\u001b[0m \u001b[0marray_ops\u001b[0m\u001b[1;33m.\u001b[0m\u001b[0mshape\u001b[0m\u001b[1;33m(\u001b[0m\u001b[0minputs\u001b[0m\u001b[1;33m)\u001b[0m\u001b[1;33m[\u001b[0m\u001b[1;36m0\u001b[0m\u001b[1;33m]\u001b[0m\u001b[1;33m\u001b[0m\u001b[1;33m\u001b[0m\u001b[0m\n\u001b[0;32m   2997\u001b[0m     \u001b[0mdtype\u001b[0m \u001b[1;33m=\u001b[0m \u001b[0minputs\u001b[0m\u001b[1;33m.\u001b[0m\u001b[0mdtype\u001b[0m\u001b[1;33m\u001b[0m\u001b[1;33m\u001b[0m\u001b[0m\n\u001b[1;32m-> 2998\u001b[1;33m   \u001b[1;32mreturn\u001b[0m \u001b[0m_generate_zero_filled_state\u001b[0m\u001b[1;33m(\u001b[0m\u001b[0mbatch_size\u001b[0m\u001b[1;33m,\u001b[0m \u001b[0mcell\u001b[0m\u001b[1;33m.\u001b[0m\u001b[0mstate_size\u001b[0m\u001b[1;33m,\u001b[0m \u001b[0mdtype\u001b[0m\u001b[1;33m)\u001b[0m\u001b[1;33m\u001b[0m\u001b[1;33m\u001b[0m\u001b[0m\n\u001b[0m\u001b[0;32m   2999\u001b[0m \u001b[1;33m\u001b[0m\u001b[0m\n\u001b[0;32m   3000\u001b[0m \u001b[1;33m\u001b[0m\u001b[0m\n",
      "\u001b[1;32mc:\\users\\ya462zd\\appdata\\local\\programs\\python\\python39\\lib\\site-packages\\tensorflow\\python\\keras\\layers\\recurrent.py\u001b[0m in \u001b[0;36m_generate_zero_filled_state\u001b[1;34m(batch_size_tensor, state_size, dtype)\u001b[0m\n\u001b[0;32m   3012\u001b[0m \u001b[1;33m\u001b[0m\u001b[0m\n\u001b[0;32m   3013\u001b[0m   \u001b[1;32mif\u001b[0m \u001b[0mnest\u001b[0m\u001b[1;33m.\u001b[0m\u001b[0mis_nested\u001b[0m\u001b[1;33m(\u001b[0m\u001b[0mstate_size\u001b[0m\u001b[1;33m)\u001b[0m\u001b[1;33m:\u001b[0m\u001b[1;33m\u001b[0m\u001b[1;33m\u001b[0m\u001b[0m\n\u001b[1;32m-> 3014\u001b[1;33m     \u001b[1;32mreturn\u001b[0m \u001b[0mnest\u001b[0m\u001b[1;33m.\u001b[0m\u001b[0mmap_structure\u001b[0m\u001b[1;33m(\u001b[0m\u001b[0mcreate_zeros\u001b[0m\u001b[1;33m,\u001b[0m \u001b[0mstate_size\u001b[0m\u001b[1;33m)\u001b[0m\u001b[1;33m\u001b[0m\u001b[1;33m\u001b[0m\u001b[0m\n\u001b[0m\u001b[0;32m   3015\u001b[0m   \u001b[1;32melse\u001b[0m\u001b[1;33m:\u001b[0m\u001b[1;33m\u001b[0m\u001b[1;33m\u001b[0m\u001b[0m\n\u001b[0;32m   3016\u001b[0m     \u001b[1;32mreturn\u001b[0m \u001b[0mcreate_zeros\u001b[0m\u001b[1;33m(\u001b[0m\u001b[0mstate_size\u001b[0m\u001b[1;33m)\u001b[0m\u001b[1;33m\u001b[0m\u001b[1;33m\u001b[0m\u001b[0m\n",
      "\u001b[1;32mc:\\users\\ya462zd\\appdata\\local\\programs\\python\\python39\\lib\\site-packages\\tensorflow\\python\\util\\nest.py\u001b[0m in \u001b[0;36mmap_structure\u001b[1;34m(func, *structure, **kwargs)\u001b[0m\n\u001b[0;32m    865\u001b[0m \u001b[1;33m\u001b[0m\u001b[0m\n\u001b[0;32m    866\u001b[0m   return pack_sequence_as(\n\u001b[1;32m--> 867\u001b[1;33m       \u001b[0mstructure\u001b[0m\u001b[1;33m[\u001b[0m\u001b[1;36m0\u001b[0m\u001b[1;33m]\u001b[0m\u001b[1;33m,\u001b[0m \u001b[1;33m[\u001b[0m\u001b[0mfunc\u001b[0m\u001b[1;33m(\u001b[0m\u001b[1;33m*\u001b[0m\u001b[0mx\u001b[0m\u001b[1;33m)\u001b[0m \u001b[1;32mfor\u001b[0m \u001b[0mx\u001b[0m \u001b[1;32min\u001b[0m \u001b[0mentries\u001b[0m\u001b[1;33m]\u001b[0m\u001b[1;33m,\u001b[0m\u001b[1;33m\u001b[0m\u001b[1;33m\u001b[0m\u001b[0m\n\u001b[0m\u001b[0;32m    868\u001b[0m       expand_composites=expand_composites)\n\u001b[0;32m    869\u001b[0m \u001b[1;33m\u001b[0m\u001b[0m\n",
      "\u001b[1;32mc:\\users\\ya462zd\\appdata\\local\\programs\\python\\python39\\lib\\site-packages\\tensorflow\\python\\util\\nest.py\u001b[0m in \u001b[0;36m<listcomp>\u001b[1;34m(.0)\u001b[0m\n\u001b[0;32m    865\u001b[0m \u001b[1;33m\u001b[0m\u001b[0m\n\u001b[0;32m    866\u001b[0m   return pack_sequence_as(\n\u001b[1;32m--> 867\u001b[1;33m       \u001b[0mstructure\u001b[0m\u001b[1;33m[\u001b[0m\u001b[1;36m0\u001b[0m\u001b[1;33m]\u001b[0m\u001b[1;33m,\u001b[0m \u001b[1;33m[\u001b[0m\u001b[0mfunc\u001b[0m\u001b[1;33m(\u001b[0m\u001b[1;33m*\u001b[0m\u001b[0mx\u001b[0m\u001b[1;33m)\u001b[0m \u001b[1;32mfor\u001b[0m \u001b[0mx\u001b[0m \u001b[1;32min\u001b[0m \u001b[0mentries\u001b[0m\u001b[1;33m]\u001b[0m\u001b[1;33m,\u001b[0m\u001b[1;33m\u001b[0m\u001b[1;33m\u001b[0m\u001b[0m\n\u001b[0m\u001b[0;32m    868\u001b[0m       expand_composites=expand_composites)\n\u001b[0;32m    869\u001b[0m \u001b[1;33m\u001b[0m\u001b[0m\n",
      "\u001b[1;32mc:\\users\\ya462zd\\appdata\\local\\programs\\python\\python39\\lib\\site-packages\\tensorflow\\python\\keras\\layers\\recurrent.py\u001b[0m in \u001b[0;36mcreate_zeros\u001b[1;34m(unnested_state_size)\u001b[0m\n\u001b[0;32m   3009\u001b[0m     \u001b[0mflat_dims\u001b[0m \u001b[1;33m=\u001b[0m \u001b[0mtensor_shape\u001b[0m\u001b[1;33m.\u001b[0m\u001b[0mTensorShape\u001b[0m\u001b[1;33m(\u001b[0m\u001b[0munnested_state_size\u001b[0m\u001b[1;33m)\u001b[0m\u001b[1;33m.\u001b[0m\u001b[0mas_list\u001b[0m\u001b[1;33m(\u001b[0m\u001b[1;33m)\u001b[0m\u001b[1;33m\u001b[0m\u001b[1;33m\u001b[0m\u001b[0m\n\u001b[0;32m   3010\u001b[0m     \u001b[0minit_state_size\u001b[0m \u001b[1;33m=\u001b[0m \u001b[1;33m[\u001b[0m\u001b[0mbatch_size_tensor\u001b[0m\u001b[1;33m]\u001b[0m \u001b[1;33m+\u001b[0m \u001b[0mflat_dims\u001b[0m\u001b[1;33m\u001b[0m\u001b[1;33m\u001b[0m\u001b[0m\n\u001b[1;32m-> 3011\u001b[1;33m     \u001b[1;32mreturn\u001b[0m \u001b[0marray_ops\u001b[0m\u001b[1;33m.\u001b[0m\u001b[0mzeros\u001b[0m\u001b[1;33m(\u001b[0m\u001b[0minit_state_size\u001b[0m\u001b[1;33m,\u001b[0m \u001b[0mdtype\u001b[0m\u001b[1;33m=\u001b[0m\u001b[0mdtype\u001b[0m\u001b[1;33m)\u001b[0m\u001b[1;33m\u001b[0m\u001b[1;33m\u001b[0m\u001b[0m\n\u001b[0m\u001b[0;32m   3012\u001b[0m \u001b[1;33m\u001b[0m\u001b[0m\n\u001b[0;32m   3013\u001b[0m   \u001b[1;32mif\u001b[0m \u001b[0mnest\u001b[0m\u001b[1;33m.\u001b[0m\u001b[0mis_nested\u001b[0m\u001b[1;33m(\u001b[0m\u001b[0mstate_size\u001b[0m\u001b[1;33m)\u001b[0m\u001b[1;33m:\u001b[0m\u001b[1;33m\u001b[0m\u001b[1;33m\u001b[0m\u001b[0m\n",
      "\u001b[1;32mc:\\users\\ya462zd\\appdata\\local\\programs\\python\\python39\\lib\\site-packages\\tensorflow\\python\\util\\dispatch.py\u001b[0m in \u001b[0;36mwrapper\u001b[1;34m(*args, **kwargs)\u001b[0m\n\u001b[0;32m    204\u001b[0m     \u001b[1;34m\"\"\"Call target, and fall back on dispatchers if there is a TypeError.\"\"\"\u001b[0m\u001b[1;33m\u001b[0m\u001b[1;33m\u001b[0m\u001b[0m\n\u001b[0;32m    205\u001b[0m     \u001b[1;32mtry\u001b[0m\u001b[1;33m:\u001b[0m\u001b[1;33m\u001b[0m\u001b[1;33m\u001b[0m\u001b[0m\n\u001b[1;32m--> 206\u001b[1;33m       \u001b[1;32mreturn\u001b[0m \u001b[0mtarget\u001b[0m\u001b[1;33m(\u001b[0m\u001b[1;33m*\u001b[0m\u001b[0margs\u001b[0m\u001b[1;33m,\u001b[0m \u001b[1;33m**\u001b[0m\u001b[0mkwargs\u001b[0m\u001b[1;33m)\u001b[0m\u001b[1;33m\u001b[0m\u001b[1;33m\u001b[0m\u001b[0m\n\u001b[0m\u001b[0;32m    207\u001b[0m     \u001b[1;32mexcept\u001b[0m \u001b[1;33m(\u001b[0m\u001b[0mTypeError\u001b[0m\u001b[1;33m,\u001b[0m \u001b[0mValueError\u001b[0m\u001b[1;33m)\u001b[0m\u001b[1;33m:\u001b[0m\u001b[1;33m\u001b[0m\u001b[1;33m\u001b[0m\u001b[0m\n\u001b[0;32m    208\u001b[0m       \u001b[1;31m# Note: convert_to_eager_tensor currently raises a ValueError, not a\u001b[0m\u001b[1;33m\u001b[0m\u001b[1;33m\u001b[0m\u001b[1;33m\u001b[0m\u001b[0m\n",
      "\u001b[1;32mc:\\users\\ya462zd\\appdata\\local\\programs\\python\\python39\\lib\\site-packages\\tensorflow\\python\\ops\\array_ops.py\u001b[0m in \u001b[0;36mwrapped\u001b[1;34m(*args, **kwargs)\u001b[0m\n\u001b[0;32m   2909\u001b[0m \u001b[1;33m\u001b[0m\u001b[0m\n\u001b[0;32m   2910\u001b[0m   \u001b[1;32mdef\u001b[0m \u001b[0mwrapped\u001b[0m\u001b[1;33m(\u001b[0m\u001b[1;33m*\u001b[0m\u001b[0margs\u001b[0m\u001b[1;33m,\u001b[0m \u001b[1;33m**\u001b[0m\u001b[0mkwargs\u001b[0m\u001b[1;33m)\u001b[0m\u001b[1;33m:\u001b[0m\u001b[1;33m\u001b[0m\u001b[1;33m\u001b[0m\u001b[0m\n\u001b[1;32m-> 2911\u001b[1;33m     \u001b[0mtensor\u001b[0m \u001b[1;33m=\u001b[0m \u001b[0mfun\u001b[0m\u001b[1;33m(\u001b[0m\u001b[1;33m*\u001b[0m\u001b[0margs\u001b[0m\u001b[1;33m,\u001b[0m \u001b[1;33m**\u001b[0m\u001b[0mkwargs\u001b[0m\u001b[1;33m)\u001b[0m\u001b[1;33m\u001b[0m\u001b[1;33m\u001b[0m\u001b[0m\n\u001b[0m\u001b[0;32m   2912\u001b[0m     \u001b[0mtensor\u001b[0m\u001b[1;33m.\u001b[0m\u001b[0m_is_zeros_tensor\u001b[0m \u001b[1;33m=\u001b[0m \u001b[1;32mTrue\u001b[0m\u001b[1;33m\u001b[0m\u001b[1;33m\u001b[0m\u001b[0m\n\u001b[0;32m   2913\u001b[0m     \u001b[1;32mreturn\u001b[0m \u001b[0mtensor\u001b[0m\u001b[1;33m\u001b[0m\u001b[1;33m\u001b[0m\u001b[0m\n",
      "\u001b[1;32mc:\\users\\ya462zd\\appdata\\local\\programs\\python\\python39\\lib\\site-packages\\tensorflow\\python\\ops\\array_ops.py\u001b[0m in \u001b[0;36mzeros\u001b[1;34m(shape, dtype, name)\u001b[0m\n\u001b[0;32m   2958\u001b[0m           \u001b[1;31m# Create a constant if it won't be very big. Otherwise create a fill\u001b[0m\u001b[1;33m\u001b[0m\u001b[1;33m\u001b[0m\u001b[1;33m\u001b[0m\u001b[0m\n\u001b[0;32m   2959\u001b[0m           \u001b[1;31m# op to prevent serialized GraphDefs from becoming too large.\u001b[0m\u001b[1;33m\u001b[0m\u001b[1;33m\u001b[0m\u001b[1;33m\u001b[0m\u001b[0m\n\u001b[1;32m-> 2960\u001b[1;33m           \u001b[0moutput\u001b[0m \u001b[1;33m=\u001b[0m \u001b[0m_constant_if_small\u001b[0m\u001b[1;33m(\u001b[0m\u001b[0mzero\u001b[0m\u001b[1;33m,\u001b[0m \u001b[0mshape\u001b[0m\u001b[1;33m,\u001b[0m \u001b[0mdtype\u001b[0m\u001b[1;33m,\u001b[0m \u001b[0mname\u001b[0m\u001b[1;33m)\u001b[0m\u001b[1;33m\u001b[0m\u001b[1;33m\u001b[0m\u001b[0m\n\u001b[0m\u001b[0;32m   2961\u001b[0m           \u001b[1;32mif\u001b[0m \u001b[0moutput\u001b[0m \u001b[1;32mis\u001b[0m \u001b[1;32mnot\u001b[0m \u001b[1;32mNone\u001b[0m\u001b[1;33m:\u001b[0m\u001b[1;33m\u001b[0m\u001b[1;33m\u001b[0m\u001b[0m\n\u001b[0;32m   2962\u001b[0m             \u001b[1;32mreturn\u001b[0m \u001b[0moutput\u001b[0m\u001b[1;33m\u001b[0m\u001b[1;33m\u001b[0m\u001b[0m\n",
      "\u001b[1;32mc:\\users\\ya462zd\\appdata\\local\\programs\\python\\python39\\lib\\site-packages\\tensorflow\\python\\ops\\array_ops.py\u001b[0m in \u001b[0;36m_constant_if_small\u001b[1;34m(value, shape, dtype, name)\u001b[0m\n\u001b[0;32m   2894\u001b[0m \u001b[1;32mdef\u001b[0m \u001b[0m_constant_if_small\u001b[0m\u001b[1;33m(\u001b[0m\u001b[0mvalue\u001b[0m\u001b[1;33m,\u001b[0m \u001b[0mshape\u001b[0m\u001b[1;33m,\u001b[0m \u001b[0mdtype\u001b[0m\u001b[1;33m,\u001b[0m \u001b[0mname\u001b[0m\u001b[1;33m)\u001b[0m\u001b[1;33m:\u001b[0m\u001b[1;33m\u001b[0m\u001b[1;33m\u001b[0m\u001b[0m\n\u001b[0;32m   2895\u001b[0m   \u001b[1;32mtry\u001b[0m\u001b[1;33m:\u001b[0m\u001b[1;33m\u001b[0m\u001b[1;33m\u001b[0m\u001b[0m\n\u001b[1;32m-> 2896\u001b[1;33m     \u001b[1;32mif\u001b[0m \u001b[0mnp\u001b[0m\u001b[1;33m.\u001b[0m\u001b[0mprod\u001b[0m\u001b[1;33m(\u001b[0m\u001b[0mshape\u001b[0m\u001b[1;33m)\u001b[0m \u001b[1;33m<\u001b[0m \u001b[1;36m1000\u001b[0m\u001b[1;33m:\u001b[0m\u001b[1;33m\u001b[0m\u001b[1;33m\u001b[0m\u001b[0m\n\u001b[0m\u001b[0;32m   2897\u001b[0m       \u001b[1;32mreturn\u001b[0m \u001b[0mconstant\u001b[0m\u001b[1;33m(\u001b[0m\u001b[0mvalue\u001b[0m\u001b[1;33m,\u001b[0m \u001b[0mshape\u001b[0m\u001b[1;33m=\u001b[0m\u001b[0mshape\u001b[0m\u001b[1;33m,\u001b[0m \u001b[0mdtype\u001b[0m\u001b[1;33m=\u001b[0m\u001b[0mdtype\u001b[0m\u001b[1;33m,\u001b[0m \u001b[0mname\u001b[0m\u001b[1;33m=\u001b[0m\u001b[0mname\u001b[0m\u001b[1;33m)\u001b[0m\u001b[1;33m\u001b[0m\u001b[1;33m\u001b[0m\u001b[0m\n\u001b[0;32m   2898\u001b[0m   \u001b[1;32mexcept\u001b[0m \u001b[0mTypeError\u001b[0m\u001b[1;33m:\u001b[0m\u001b[1;33m\u001b[0m\u001b[1;33m\u001b[0m\u001b[0m\n",
      "\u001b[1;32m<__array_function__ internals>\u001b[0m in \u001b[0;36mprod\u001b[1;34m(*args, **kwargs)\u001b[0m\n",
      "\u001b[1;32mc:\\users\\ya462zd\\appdata\\local\\programs\\python\\python39\\lib\\site-packages\\numpy\\core\\fromnumeric.py\u001b[0m in \u001b[0;36mprod\u001b[1;34m(a, axis, dtype, out, keepdims, initial, where)\u001b[0m\n\u001b[0;32m   3028\u001b[0m         \u001b[0mbut\u001b[0m \u001b[0mthe\u001b[0m \u001b[0mtype\u001b[0m \u001b[0mof\u001b[0m \u001b[0mthe\u001b[0m \u001b[0mresulting\u001b[0m \u001b[0mvalues\u001b[0m \u001b[0mwill\u001b[0m \u001b[0mbe\u001b[0m \u001b[0mcast\u001b[0m \u001b[1;32mif\u001b[0m \u001b[0mnecessary\u001b[0m\u001b[1;33m.\u001b[0m\u001b[1;33m\u001b[0m\u001b[1;33m\u001b[0m\u001b[0m\n\u001b[0;32m   3029\u001b[0m \u001b[1;33m\u001b[0m\u001b[0m\n\u001b[1;32m-> 3030\u001b[1;33m     \u001b[0mReturns\u001b[0m\u001b[1;33m\u001b[0m\u001b[1;33m\u001b[0m\u001b[0m\n\u001b[0m\u001b[0;32m   3031\u001b[0m     \u001b[1;33m-\u001b[0m\u001b[1;33m-\u001b[0m\u001b[1;33m-\u001b[0m\u001b[1;33m-\u001b[0m\u001b[1;33m-\u001b[0m\u001b[1;33m-\u001b[0m\u001b[1;33m-\u001b[0m\u001b[1;33m\u001b[0m\u001b[1;33m\u001b[0m\u001b[0m\n\u001b[0;32m   3032\u001b[0m     \u001b[0mcumprod\u001b[0m \u001b[1;33m:\u001b[0m \u001b[0mndarray\u001b[0m\u001b[1;33m\u001b[0m\u001b[1;33m\u001b[0m\u001b[0m\n",
      "\u001b[1;32mc:\\users\\ya462zd\\appdata\\local\\programs\\python\\python39\\lib\\site-packages\\numpy\\core\\fromnumeric.py\u001b[0m in \u001b[0;36m_wrapreduction\u001b[1;34m(obj, ufunc, method, axis, dtype, out, **kwargs)\u001b[0m\n\u001b[0;32m     85\u001b[0m                 \u001b[1;32mreturn\u001b[0m \u001b[0mreduction\u001b[0m\u001b[1;33m(\u001b[0m\u001b[0maxis\u001b[0m\u001b[1;33m=\u001b[0m\u001b[0maxis\u001b[0m\u001b[1;33m,\u001b[0m \u001b[0mout\u001b[0m\u001b[1;33m=\u001b[0m\u001b[0mout\u001b[0m\u001b[1;33m,\u001b[0m \u001b[1;33m**\u001b[0m\u001b[0mpasskwargs\u001b[0m\u001b[1;33m)\u001b[0m\u001b[1;33m\u001b[0m\u001b[1;33m\u001b[0m\u001b[0m\n\u001b[0;32m     86\u001b[0m \u001b[1;33m\u001b[0m\u001b[0m\n\u001b[1;32m---> 87\u001b[1;33m     \u001b[1;32mreturn\u001b[0m \u001b[0mufunc\u001b[0m\u001b[1;33m.\u001b[0m\u001b[0mreduce\u001b[0m\u001b[1;33m(\u001b[0m\u001b[0mobj\u001b[0m\u001b[1;33m,\u001b[0m \u001b[0maxis\u001b[0m\u001b[1;33m,\u001b[0m \u001b[0mdtype\u001b[0m\u001b[1;33m,\u001b[0m \u001b[0mout\u001b[0m\u001b[1;33m,\u001b[0m \u001b[1;33m**\u001b[0m\u001b[0mpasskwargs\u001b[0m\u001b[1;33m)\u001b[0m\u001b[1;33m\u001b[0m\u001b[1;33m\u001b[0m\u001b[0m\n\u001b[0m\u001b[0;32m     88\u001b[0m \u001b[1;33m\u001b[0m\u001b[0m\n\u001b[0;32m     89\u001b[0m \u001b[1;33m\u001b[0m\u001b[0m\n",
      "\u001b[1;32mc:\\users\\ya462zd\\appdata\\local\\programs\\python\\python39\\lib\\site-packages\\tensorflow\\python\\framework\\ops.py\u001b[0m in \u001b[0;36m__array__\u001b[1;34m(self)\u001b[0m\n\u001b[0;32m    865\u001b[0m \u001b[1;33m\u001b[0m\u001b[0m\n\u001b[0;32m    866\u001b[0m   \u001b[1;32mdef\u001b[0m \u001b[0m__array__\u001b[0m\u001b[1;33m(\u001b[0m\u001b[0mself\u001b[0m\u001b[1;33m)\u001b[0m\u001b[1;33m:\u001b[0m\u001b[1;33m\u001b[0m\u001b[1;33m\u001b[0m\u001b[0m\n\u001b[1;32m--> 867\u001b[1;33m     raise NotImplementedError(\n\u001b[0m\u001b[0;32m    868\u001b[0m         \u001b[1;34m\"Cannot convert a symbolic Tensor ({}) to a numpy array.\"\u001b[0m\u001b[1;33m\u001b[0m\u001b[1;33m\u001b[0m\u001b[0m\n\u001b[0;32m    869\u001b[0m         \u001b[1;34m\" This error may indicate that you're trying to pass a Tensor to\"\u001b[0m\u001b[1;33m\u001b[0m\u001b[1;33m\u001b[0m\u001b[0m\n",
      "\u001b[1;31mNotImplementedError\u001b[0m: Cannot convert a symbolic Tensor (lstm_2/strided_slice:0) to a numpy array. This error may indicate that you're trying to pass a Tensor to a NumPy call, which is not supported"
     ]
    }
   ],
   "source": [
    "# create a LSTM Model\n",
    "import tensorflow as tf\n",
    "from tensorflow import keras\n",
    "from tensorflow.keras import layers\n",
    "\n",
    "embed_vector_length = 32\n",
    "model = keras.Sequential()\n",
    "model.add(layers.Embedding(5000, embed_vector_length, input_length=1000))\n",
    "model.add(layers.LSTM(100))\n",
    "model.add(layers.Dense(1, activation='sigmoid'))\n",
    "model.compile(loss='binary_crossentropy', optimizer='adam', metrics=['accuracy'])\n",
    "print(\"***********************************************\")\n",
    "print(\"Printing the Model Summary\")\n",
    "print(model.summary())"
   ]
  },
  {
   "cell_type": "code",
   "execution_count": 93,
   "metadata": {},
   "outputs": [
    {
     "name": "stdout",
     "output_type": "stream",
     "text": [
      "Collecting numpy==1.19"
     ]
    },
    {
     "name": "stderr",
     "output_type": "stream",
     "text": [
      "    ERROR: Command errored out with exit status 1:\n",
      "     command: 'c:\\users\\ya462zd\\appdata\\local\\programs\\python\\python39\\python.exe' 'c:\\users\\ya462zd\\appdata\\local\\programs\\python\\python39\\lib\\site-packages\\pip\\_vendor\\pep517\\in_process\\_in_process.py' prepare_metadata_for_build_wheel 'C:\\Users\\YA462ZD\\AppData\\Local\\Temp\\tmpplu7149f'\n",
      "         cwd: C:\\Users\\YA462ZD\\AppData\\Local\\Temp\\pip-install-zi0v27v3\\numpy_8013429af8d94d57a762791f558b45b3\n",
      "    Complete output (200 lines):\n",
      "    Running from numpy source directory.\n",
      "    setup.py:460: UserWarning: Unrecognized setuptools command, proceeding with generating Cython sources and expanding templates\n",
      "      run_build = parse_setuppy_commands()\n",
      "    Processing numpy/random\\_bounded_integers.pxd.in\n",
      "    Processing numpy/random\\bit_generator.pyx\n",
      "    Processing numpy/random\\mtrand.pyx\n",
      "    Processing numpy/random\\_bounded_integers.pyx.in\n",
      "    Processing numpy/random\\_common.pyx\n",
      "    Processing numpy/random\\_generator.pyx\n",
      "    Processing numpy/random\\_mt19937.pyx\n"
     ]
    },
    {
     "name": "stdout",
     "output_type": "stream",
     "text": [
      "\n",
      "  Using cached numpy-1.19.0.zip (7.3 MB)\n",
      "  Installing build dependencies: started\n",
      "  Installing build dependencies: finished with status 'done'\n",
      "  Getting requirements to build wheel: started\n",
      "  Getting requirements to build wheel: finished with status 'done'\n",
      "    Preparing wheel metadata: started\n",
      "    Preparing wheel metadata: finished with status 'error'\n"
     ]
    },
    {
     "name": "stderr",
     "output_type": "stream",
     "text": [
      "    Processing numpy/random\\_pcg64.pyx\n",
      "    Processing numpy/random\\_philox.pyx\n",
      "    Processing numpy/random\\_sfc64.pyx\n",
      "    Cythonizing sources\n",
      "    blas_opt_info:\n",
      "    blas_mkl_info:\n",
      "    No module named 'numpy.distutils._msvccompiler' in numpy.distutils; trying from distutils\n",
      "    customize MSVCCompiler\n",
      "      libraries mkl_rt not found in ['c:\\\\users\\\\ya462zd\\\\appdata\\\\local\\\\programs\\\\python\\\\python39\\\\lib', 'C:\\\\', 'c:\\\\users\\\\ya462zd\\\\appdata\\\\local\\\\programs\\\\python\\\\python39\\\\libs']\n",
      "      NOT AVAILABLE\n",
      "    \n",
      "    blis_info:\n",
      "      libraries blis not found in ['c:\\\\users\\\\ya462zd\\\\appdata\\\\local\\\\programs\\\\python\\\\python39\\\\lib', 'C:\\\\', 'c:\\\\users\\\\ya462zd\\\\appdata\\\\local\\\\programs\\\\python\\\\python39\\\\libs']\n",
      "      NOT AVAILABLE\n",
      "    \n",
      "    openblas_info:\n",
      "      libraries openblas not found in ['c:\\\\users\\\\ya462zd\\\\appdata\\\\local\\\\programs\\\\python\\\\python39\\\\lib', 'C:\\\\', 'c:\\\\users\\\\ya462zd\\\\appdata\\\\local\\\\programs\\\\python\\\\python39\\\\libs']\n",
      "    get_default_fcompiler: matching types: '['gnu', 'intelv', 'absoft', 'compaqv', 'intelev', 'gnu95', 'g95', 'intelvem', 'intelem', 'flang']'\n",
      "    customize GnuFCompiler\n",
      "    Could not locate executable g77\n",
      "    Could not locate executable f77\n",
      "    customize IntelVisualFCompiler\n",
      "    Could not locate executable ifort\n",
      "    Could not locate executable ifl\n",
      "    customize AbsoftFCompiler\n",
      "    Could not locate executable f90\n",
      "    customize CompaqVisualFCompiler\n",
      "    Could not locate executable DF\n",
      "    customize IntelItaniumVisualFCompiler\n",
      "    Could not locate executable efl\n",
      "    customize Gnu95FCompiler\n",
      "    Could not locate executable gfortran\n",
      "    Could not locate executable f95\n",
      "    customize G95FCompiler\n",
      "    Could not locate executable g95\n",
      "    customize IntelEM64VisualFCompiler\n",
      "    customize IntelEM64TFCompiler\n",
      "    Could not locate executable efort\n",
      "    Could not locate executable efc\n",
      "    customize PGroupFlangCompiler\n",
      "    Could not locate executable flang\n",
      "    don't know how to compile Fortran code on platform 'nt'\n",
      "      NOT AVAILABLE\n",
      "    \n",
      "    atlas_3_10_blas_threads_info:\n",
      "    Setting PTATLAS=ATLAS\n",
      "      libraries tatlas not found in ['c:\\\\users\\\\ya462zd\\\\appdata\\\\local\\\\programs\\\\python\\\\python39\\\\lib', 'C:\\\\', 'c:\\\\users\\\\ya462zd\\\\appdata\\\\local\\\\programs\\\\python\\\\python39\\\\libs']\n",
      "      NOT AVAILABLE\n",
      "    \n",
      "    atlas_3_10_blas_info:\n",
      "      libraries satlas not found in ['c:\\\\users\\\\ya462zd\\\\appdata\\\\local\\\\programs\\\\python\\\\python39\\\\lib', 'C:\\\\', 'c:\\\\users\\\\ya462zd\\\\appdata\\\\local\\\\programs\\\\python\\\\python39\\\\libs']\n",
      "      NOT AVAILABLE\n",
      "    \n",
      "    atlas_blas_threads_info:\n",
      "    Setting PTATLAS=ATLAS\n",
      "      libraries ptf77blas,ptcblas,atlas not found in ['c:\\\\users\\\\ya462zd\\\\appdata\\\\local\\\\programs\\\\python\\\\python39\\\\lib', 'C:\\\\', 'c:\\\\users\\\\ya462zd\\\\appdata\\\\local\\\\programs\\\\python\\\\python39\\\\libs']\n",
      "      NOT AVAILABLE\n",
      "    \n",
      "    atlas_blas_info:\n",
      "      libraries f77blas,cblas,atlas not found in ['c:\\\\users\\\\ya462zd\\\\appdata\\\\local\\\\programs\\\\python\\\\python39\\\\lib', 'C:\\\\', 'c:\\\\users\\\\ya462zd\\\\appdata\\\\local\\\\programs\\\\python\\\\python39\\\\libs']\n",
      "      NOT AVAILABLE\n",
      "    \n",
      "    accelerate_info:\n",
      "      NOT AVAILABLE\n",
      "    \n",
      "    C:\\Users\\YA462ZD\\AppData\\Local\\Temp\\pip-install-zi0v27v3\\numpy_8013429af8d94d57a762791f558b45b3\\numpy\\distutils\\system_info.py:1914: UserWarning:\n",
      "        Optimized (vendor) Blas libraries are not found.\n",
      "        Falls back to netlib Blas library which has worse performance.\n",
      "        A better performance should be easily gained by switching\n",
      "        Blas library.\n",
      "      if self._calc_info(blas):\n",
      "    blas_info:\n",
      "      libraries blas not found in ['c:\\\\users\\\\ya462zd\\\\appdata\\\\local\\\\programs\\\\python\\\\python39\\\\lib', 'C:\\\\', 'c:\\\\users\\\\ya462zd\\\\appdata\\\\local\\\\programs\\\\python\\\\python39\\\\libs']\n",
      "      NOT AVAILABLE\n",
      "    \n",
      "    C:\\Users\\YA462ZD\\AppData\\Local\\Temp\\pip-install-zi0v27v3\\numpy_8013429af8d94d57a762791f558b45b3\\numpy\\distutils\\system_info.py:1914: UserWarning:\n",
      "        Blas (http://www.netlib.org/blas/) libraries not found.\n",
      "        Directories to search for the libraries can be specified in the\n",
      "        numpy/distutils/site.cfg file (section [blas]) or by setting\n",
      "        the BLAS environment variable.\n",
      "      if self._calc_info(blas):\n",
      "    blas_src_info:\n",
      "      NOT AVAILABLE\n",
      "    \n",
      "    C:\\Users\\YA462ZD\\AppData\\Local\\Temp\\pip-install-zi0v27v3\\numpy_8013429af8d94d57a762791f558b45b3\\numpy\\distutils\\system_info.py:1914: UserWarning:\n",
      "        Blas (http://www.netlib.org/blas/) sources not found.\n",
      "        Directories to search for the sources can be specified in the\n",
      "        numpy/distutils/site.cfg file (section [blas_src]) or by setting\n",
      "        the BLAS_SRC environment variable.\n",
      "      if self._calc_info(blas):\n",
      "      NOT AVAILABLE\n",
      "    \n",
      "    non-existing path in 'numpy\\\\distutils': 'site.cfg'\n",
      "    lapack_opt_info:\n",
      "    lapack_mkl_info:\n",
      "      libraries mkl_rt not found in ['c:\\\\users\\\\ya462zd\\\\appdata\\\\local\\\\programs\\\\python\\\\python39\\\\lib', 'C:\\\\', 'c:\\\\users\\\\ya462zd\\\\appdata\\\\local\\\\programs\\\\python\\\\python39\\\\libs']\n",
      "      NOT AVAILABLE\n",
      "    \n",
      "    openblas_lapack_info:\n",
      "      libraries openblas not found in ['c:\\\\users\\\\ya462zd\\\\appdata\\\\local\\\\programs\\\\python\\\\python39\\\\lib', 'C:\\\\', 'c:\\\\users\\\\ya462zd\\\\appdata\\\\local\\\\programs\\\\python\\\\python39\\\\libs']\n",
      "      NOT AVAILABLE\n",
      "    \n",
      "    openblas_clapack_info:\n",
      "      libraries openblas,lapack not found in ['c:\\\\users\\\\ya462zd\\\\appdata\\\\local\\\\programs\\\\python\\\\python39\\\\lib', 'C:\\\\', 'c:\\\\users\\\\ya462zd\\\\appdata\\\\local\\\\programs\\\\python\\\\python39\\\\libs']\n",
      "      NOT AVAILABLE\n",
      "    \n",
      "    flame_info:\n",
      "      libraries flame not found in ['c:\\\\users\\\\ya462zd\\\\appdata\\\\local\\\\programs\\\\python\\\\python39\\\\lib', 'C:\\\\', 'c:\\\\users\\\\ya462zd\\\\appdata\\\\local\\\\programs\\\\python\\\\python39\\\\libs']\n",
      "      NOT AVAILABLE\n",
      "    \n",
      "    atlas_3_10_threads_info:\n",
      "    Setting PTATLAS=ATLAS\n",
      "      libraries lapack_atlas not found in c:\\users\\ya462zd\\appdata\\local\\programs\\python\\python39\\lib\n",
      "      libraries tatlas,tatlas not found in c:\\users\\ya462zd\\appdata\\local\\programs\\python\\python39\\lib\n",
      "      libraries lapack_atlas not found in C:\\\n",
      "      libraries tatlas,tatlas not found in C:\\\n",
      "      libraries lapack_atlas not found in c:\\users\\ya462zd\\appdata\\local\\programs\\python\\python39\\libs\n",
      "      libraries tatlas,tatlas not found in c:\\users\\ya462zd\\appdata\\local\\programs\\python\\python39\\libs\n",
      "    <class 'numpy.distutils.system_info.atlas_3_10_threads_info'>\n",
      "      NOT AVAILABLE\n",
      "    \n",
      "    atlas_3_10_info:\n",
      "      libraries lapack_atlas not found in c:\\users\\ya462zd\\appdata\\local\\programs\\python\\python39\\lib\n",
      "      libraries satlas,satlas not found in c:\\users\\ya462zd\\appdata\\local\\programs\\python\\python39\\lib\n",
      "      libraries lapack_atlas not found in C:\\\n",
      "      libraries satlas,satlas not found in C:\\\n",
      "      libraries lapack_atlas not found in c:\\users\\ya462zd\\appdata\\local\\programs\\python\\python39\\libs\n",
      "      libraries satlas,satlas not found in c:\\users\\ya462zd\\appdata\\local\\programs\\python\\python39\\libs\n",
      "    <class 'numpy.distutils.system_info.atlas_3_10_info'>\n",
      "      NOT AVAILABLE\n",
      "    \n",
      "    atlas_threads_info:\n",
      "    Setting PTATLAS=ATLAS\n",
      "      libraries lapack_atlas not found in c:\\users\\ya462zd\\appdata\\local\\programs\\python\\python39\\lib\n",
      "      libraries ptf77blas,ptcblas,atlas not found in c:\\users\\ya462zd\\appdata\\local\\programs\\python\\python39\\lib\n",
      "      libraries lapack_atlas not found in C:\\\n",
      "      libraries ptf77blas,ptcblas,atlas not found in C:\\\n",
      "      libraries lapack_atlas not found in c:\\users\\ya462zd\\appdata\\local\\programs\\python\\python39\\libs\n",
      "      libraries ptf77blas,ptcblas,atlas not found in c:\\users\\ya462zd\\appdata\\local\\programs\\python\\python39\\libs\n",
      "    <class 'numpy.distutils.system_info.atlas_threads_info'>\n",
      "      NOT AVAILABLE\n",
      "    \n",
      "    atlas_info:\n",
      "      libraries lapack_atlas not found in c:\\users\\ya462zd\\appdata\\local\\programs\\python\\python39\\lib\n",
      "      libraries f77blas,cblas,atlas not found in c:\\users\\ya462zd\\appdata\\local\\programs\\python\\python39\\lib\n",
      "      libraries lapack_atlas not found in C:\\\n",
      "      libraries f77blas,cblas,atlas not found in C:\\\n",
      "      libraries lapack_atlas not found in c:\\users\\ya462zd\\appdata\\local\\programs\\python\\python39\\libs\n",
      "      libraries f77blas,cblas,atlas not found in c:\\users\\ya462zd\\appdata\\local\\programs\\python\\python39\\libs\n",
      "    <class 'numpy.distutils.system_info.atlas_info'>\n",
      "      NOT AVAILABLE\n",
      "    \n",
      "    lapack_info:\n",
      "      libraries lapack not found in ['c:\\\\users\\\\ya462zd\\\\appdata\\\\local\\\\programs\\\\python\\\\python39\\\\lib', 'C:\\\\', 'c:\\\\users\\\\ya462zd\\\\appdata\\\\local\\\\programs\\\\python\\\\python39\\\\libs']\n",
      "      NOT AVAILABLE\n",
      "    \n",
      "    C:\\Users\\YA462ZD\\AppData\\Local\\Temp\\pip-install-zi0v27v3\\numpy_8013429af8d94d57a762791f558b45b3\\numpy\\distutils\\system_info.py:1748: UserWarning:\n",
      "        Lapack (http://www.netlib.org/lapack/) libraries not found.\n",
      "        Directories to search for the libraries can be specified in the\n",
      "        numpy/distutils/site.cfg file (section [lapack]) or by setting\n",
      "        the LAPACK environment variable.\n",
      "      return getattr(self, '_calc_info_{}'.format(name))()\n",
      "    lapack_src_info:\n",
      "      NOT AVAILABLE\n",
      "    \n",
      "    C:\\Users\\YA462ZD\\AppData\\Local\\Temp\\pip-install-zi0v27v3\\numpy_8013429af8d94d57a762791f558b45b3\\numpy\\distutils\\system_info.py:1748: UserWarning:\n",
      "        Lapack (http://www.netlib.org/lapack/) sources not found.\n",
      "        Directories to search for the sources can be specified in the\n",
      "        numpy/distutils/site.cfg file (section [lapack_src]) or by setting\n",
      "        the LAPACK_SRC environment variable.\n",
      "      return getattr(self, '_calc_info_{}'.format(name))()\n",
      "      NOT AVAILABLE\n",
      "    \n",
      "    numpy_linalg_lapack_lite:\n",
      "      FOUND:\n",
      "        language = c\n",
      "        define_macros = [('HAVE_BLAS_ILP64', None), ('BLAS_SYMBOL_SUFFIX', '64_')]\n",
      "    \n",
      "    c:\\users\\ya462zd\\appdata\\local\\programs\\python\\python39\\lib\\distutils\\dist.py:274: UserWarning: Unknown distribution option: 'define_macros'\n",
      "      warnings.warn(msg)\n",
      "    running dist_info\n",
      "    running build_src\n",
      "    build_src\n",
      "    building py_modules sources\n",
      "    creating build\n",
      "    creating build\\src.win-amd64-3.9\n",
      "    creating build\\src.win-amd64-3.9\\numpy\n",
      "    creating build\\src.win-amd64-3.9\\numpy\\distutils\n",
      "    building library \"npymath\" sources\n",
      "    error: Microsoft Visual C++ 14.0 or greater is required. Get it with \"Microsoft C++ Build Tools\": https://visualstudio.microsoft.com/visual-cpp-build-tools/\n",
      "    ----------------------------------------\n",
      "WARNING: Discarding https://files.pythonhosted.org/packages/f1/2c/717bdd12404c73ec0c8c734c81a0bad7048866bc36a88a1b69fd52b01c07/numpy-1.19.0.zip#sha256=76766cc80d6128750075378d3bb7812cf146415bd29b588616f72c943c00d598 (from https://pypi.org/simple/numpy/) (requires-python:>=3.6). Command errored out with exit status 1: 'c:\\users\\ya462zd\\appdata\\local\\programs\\python\\python39\\python.exe' 'c:\\users\\ya462zd\\appdata\\local\\programs\\python\\python39\\lib\\site-packages\\pip\\_vendor\\pep517\\in_process\\_in_process.py' prepare_metadata_for_build_wheel 'C:\\Users\\YA462ZD\\AppData\\Local\\Temp\\tmpplu7149f' Check the logs for full command output.\n",
      "ERROR: Could not find a version that satisfies the requirement numpy==1.19 (from versions: 1.3.0, 1.4.1, 1.5.0, 1.5.1, 1.6.0, 1.6.1, 1.6.2, 1.7.0, 1.7.1, 1.7.2, 1.8.0, 1.8.1, 1.8.2, 1.9.0, 1.9.1, 1.9.2, 1.9.3, 1.10.0.post2, 1.10.1, 1.10.2, 1.10.4, 1.11.0, 1.11.1, 1.11.2, 1.11.3, 1.12.0, 1.12.1, 1.13.0rc1, 1.13.0rc2, 1.13.0, 1.13.1, 1.13.3, 1.14.0rc1, 1.14.0, 1.14.1, 1.14.2, 1.14.3, 1.14.4, 1.14.5, 1.14.6, 1.15.0rc1, 1.15.0rc2, 1.15.0, 1.15.1, 1.15.2, 1.15.3, 1.15.4, 1.16.0rc1, 1.16.0rc2, 1.16.0, 1.16.1, 1.16.2, 1.16.3, 1.16.4, 1.16.5, 1.16.6, 1.17.0rc1, 1.17.0rc2, 1.17.0, 1.17.1, 1.17.2, 1.17.3, 1.17.4, 1.17.5, 1.18.0rc1, 1.18.0, 1.18.1, 1.18.2, 1.18.3, 1.18.4, 1.18.5, 1.19.0rc1, 1.19.0rc2, 1.19.0, 1.19.1, 1.19.2, 1.19.3, 1.19.4, 1.19.5, 1.20.0rc1, 1.20.0rc2, 1.20.0, 1.20.1, 1.20.2, 1.20.3, 1.21.0rc1, 1.21.0rc2, 1.21.0)\n",
      "ERROR: No matching distribution found for numpy==1.19\n"
     ]
    }
   ],
   "source": [
    "!pip install numpy==1.15.3"
   ]
  },
  {
   "cell_type": "code",
   "execution_count": null,
   "metadata": {},
   "outputs": [],
   "source": [
    "m_hist = model.fit(tfidf_train, tfidf_test, epochs=n_epochs, \n",
    "                   batch_size=batchsize, verbose=1, validation_data=(tfidf_cv, y_cv))\n",
    "\n",
    "score = model.evaluate(X_test_new, y_test, batch_size=batchsize)\n",
    "print('Test score:', score[0]) \n",
    "print('Test accuracy:', score[1])\n",
    "\n",
    "final_output = final_output.append({\"Model\": 1,\n",
    "                                    \"Architecture\": 'Embedding-LSTM-Sigmoid', \n",
    "                                    \"TRAIN_LOSS\": '{:.5f}'.format(m_hist.history[\"loss\"][n_epochs-1]),\n",
    "                                    \"TEST_LOSS\": '{:.5f}'.format(score[0]),\n",
    "                                    \"TRAIN_ACC\": '{:.5f}'.format(m_hist.history[\"acc\"][n_epochs-1]),\n",
    "                                    \"TEST_ACC\": '{:.5f}'.format(score[1])}, ignore_index=True)\n",
    "\n",
    "fig,ax = plt.subplots(1,1)\n",
    "ax.set_xlabel('epoch')\n",
    "ax.set_ylabel('Categorical Crossentropy Loss')\n",
    "\n",
    "# list of epoch numbers\n",
    "x = list(range(1,n_epochs+1))\n",
    "\n",
    "vy = m_hist.history['val_loss']\n",
    "ty = m_hist.history['loss']\n",
    "plt_dynamic(x, vy, ty, ax)"
   ]
  }
 ],
 "metadata": {
  "accelerator": "GPU",
  "colab": {
   "collapsed_sections": [],
   "name": "Amazon Fine Food Reviews Analysis.ipynb",
   "provenance": []
  },
  "kernelspec": {
   "display_name": "Python 3",
   "language": "python",
   "name": "python3"
  },
  "language_info": {
   "codemirror_mode": {
    "name": "ipython",
    "version": 3
   },
   "file_extension": ".py",
   "mimetype": "text/x-python",
   "name": "python",
   "nbconvert_exporter": "python",
   "pygments_lexer": "ipython3",
   "version": "3.7.4"
  }
 },
 "nbformat": 4,
 "nbformat_minor": 1
}
